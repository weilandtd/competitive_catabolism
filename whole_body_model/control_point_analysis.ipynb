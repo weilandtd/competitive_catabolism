{
 "cells": [
  {
   "cell_type": "code",
   "execution_count": 1,
   "metadata": {},
   "outputs": [],
   "source": [
    "from model import *\n",
    "import pandas as pd "
   ]
  },
  {
   "cell_type": "code",
   "execution_count": 7,
   "metadata": {},
   "outputs": [
    {
     "data": {
      "text/html": [
       "<div>\n",
       "<style scoped>\n",
       "    .dataframe tbody tr th:only-of-type {\n",
       "        vertical-align: middle;\n",
       "    }\n",
       "\n",
       "    .dataframe tbody tr th {\n",
       "        vertical-align: top;\n",
       "    }\n",
       "\n",
       "    .dataframe thead th {\n",
       "        text-align: right;\n",
       "    }\n",
       "</style>\n",
       "<table border=\"1\" class=\"dataframe\">\n",
       "  <thead>\n",
       "    <tr style=\"text-align: right;\">\n",
       "      <th></th>\n",
       "      <th>vL</th>\n",
       "      <th>vG</th>\n",
       "      <th>vF</th>\n",
       "      <th>vK</th>\n",
       "      <th>vGL</th>\n",
       "      <th>vFK</th>\n",
       "      <th>vLG</th>\n",
       "      <th>v0</th>\n",
       "      <th>vA</th>\n",
       "      <th>vR</th>\n",
       "      <th>vP</th>\n",
       "      <th>vCO2</th>\n",
       "    </tr>\n",
       "  </thead>\n",
       "  <tbody>\n",
       "    <tr>\n",
       "      <th>0</th>\n",
       "      <td>0.415088</td>\n",
       "      <td>0.034591</td>\n",
       "      <td>0.194573</td>\n",
       "      <td>0.064858</td>\n",
       "      <td>0.414548</td>\n",
       "      <td>0.016214</td>\n",
       "      <td>0.207004</td>\n",
       "      <td>0.207004</td>\n",
       "      <td>0.210787</td>\n",
       "      <td>0.140525</td>\n",
       "      <td>0.011916</td>\n",
       "      <td>0.864768</td>\n",
       "    </tr>\n",
       "  </tbody>\n",
       "</table>\n",
       "</div>"
      ],
      "text/plain": [
       "         vL        vG        vF        vK       vGL       vFK       vLG  \\\n",
       "0  0.415088  0.034591  0.194573  0.064858  0.414548  0.016214  0.207004   \n",
       "\n",
       "         v0        vA        vR        vP      vCO2  \n",
       "0  0.207004  0.210787  0.140525  0.011916  0.864768  "
      ]
     },
     "execution_count": 7,
     "metadata": {},
     "output_type": "execute_result"
    }
   ],
   "source": [
    "direct_contribtions_fasted = [0.04, 0.24, 0.6, 0.05] # Hui et al. 2020\n",
    "v_fasted = reference_fluxes(direct_contributions=direct_contribtions_fasted)\n",
    "\n",
    "# Flux names \n",
    "flux_names = ['vL', 'vG', 'vF', 'vK', 'vGL', 'vFK', 'vLG', 'v0', 'vA', 'vR', 'vP', 'vCO2']\n",
    "data = pd.DataFrame([v_fasted, ], columns=flux_names)  \n",
    "\n",
    "data"
   ]
  },
  {
   "cell_type": "code",
   "execution_count": null,
   "metadata": {},
   "outputs": [],
   "source": []
  },
  {
   "cell_type": "code",
   "execution_count": null,
   "metadata": {},
   "outputs": [],
   "source": []
  }
 ],
 "metadata": {
  "kernelspec": {
   "display_name": ".venv",
   "language": "python",
   "name": "python3"
  },
  "language_info": {
   "codemirror_mode": {
    "name": "ipython",
    "version": 3
   },
   "file_extension": ".py",
   "mimetype": "text/x-python",
   "name": "python",
   "nbconvert_exporter": "python",
   "pygments_lexer": "ipython3",
   "version": "3.9.7"
  }
 },
 "nbformat": 4,
 "nbformat_minor": 2
}
