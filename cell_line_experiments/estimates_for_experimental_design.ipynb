{
 "cells": [
  {
   "cell_type": "code",
   "execution_count": 15,
   "metadata": {},
   "outputs": [
    {
     "name": "stderr",
     "output_type": "stream",
     "text": [
      "C:\\Users\\dw6835\\AppData\\Local\\Temp\\ipykernel_768688\\3339662011.py:13: FutureWarning: Passing literal html to 'read_html' is deprecated and will be removed in a future version. To read from a literal string, wrap it in a 'StringIO' object.\n",
      "  df = pd.read_html(str(table))[0]\n"
     ]
    }
   ],
   "source": [
    "# Get Medium data for primary derived cell lines 11765 - Ham's F-12 Nutrient Mix\n",
    "\n",
    "from bs4 import BeautifulSoup\n",
    "import requests\n",
    "import pandas as pd\n",
    "\n",
    "url = requests.get(\"https://www.thermofisher.com/us/en/home/technical-resources/media-formulation.64.html\")\n",
    "htmltext = url.text\n",
    "\n",
    "soup = BeautifulSoup(htmltext)\n",
    "table = soup.find(\"table\")\n",
    "\n",
    "df = pd.read_html(str(table))[0]\n",
    "\n",
    "# Clean up the table \n",
    "# drop rows that contain a string type in colum where it should be a number\n",
    "df_11765= df[~df['mM'].str.contains(\"[a-zA-Z]\").fillna(False)]\n"
   ]
  },
  {
   "cell_type": "code",
   "execution_count": 2,
   "metadata": {},
   "outputs": [],
   "source": [
    "# Estimation of the beta-oxidation rate basde on results from conventionsl cell culture media\n",
    "# Calculation:\n",
    "# \t- 250 pmol/min total basal OCR\n",
    "# \t- 150-175 pmol/min ETC dep OCR\n",
    "# \t- 20% beta-oxidation -> 30-35 pmin/min OCR\n",
    "# \t- 1.4 O2 / Co2 -> 16 C -> 16 * 1.4 -> 22.4 O2 per palmitate\n",
    "# \t- 30/22.4 = 1.3 - 1.56 pmol/min\n",
    "#\n",
    "\n",
    "# ORC 50 - 150 pmol/min \n",
    "lb_pmt_u, ub_pmt_u = 50 * 0.2 /22.4, 150 * 0.4 /22.4\n"
   ]
  },
  {
   "cell_type": "code",
   "execution_count": 16,
   "metadata": {},
   "outputs": [],
   "source": [
    "# Media 100 uM in 2ml \n",
    "pmt_low = 100 * 2 * 1e3 /100 # 200 nmol -> 200 x 10^3 pmol\n",
    "pmt_high = 500 * 2 * 1e3  / 100 # 200 nmol"
   ]
  },
  {
   "cell_type": "code",
   "execution_count": 17,
   "metadata": {},
   "outputs": [
    {
     "data": {
      "text/plain": [
       "(0.0, 1.1)"
      ]
     },
     "execution_count": 17,
     "metadata": {},
     "output_type": "execute_result"
    },
    {
     "data": {
      "image/png": "[encoded data removed]",
      "text/plain": [
       "<Figure size 640x480 with 1 Axes>"
      ]
     },
     "metadata": {},
     "output_type": "display_data"
    }
   ],
   "source": [
    "import matplotlib.pyplot as plt\n",
    "import numpy as np\n",
    "# Relative change in pmt concentration expectation\n",
    "time = np.linspace(0, 6, 100)\n",
    "\n",
    "plt.plot(time, (pmt_high - lb_pmt_u * time * 60)/pmt_high , label=\"High (min uptake)\" , color='red' , linestyle='--')\n",
    "plt.plot(time, (pmt_high - ub_pmt_u * time * 60)/pmt_high , label=\"High (max uptake)\" , color='red')\n",
    "\n",
    "plt.plot(time, (pmt_low - lb_pmt_u * time * 60)/pmt_low , label=\"Low (min uptake)\", color='blue', linestyle='--')\n",
    "plt.plot(time, (pmt_low - ub_pmt_u * time * 60)/pmt_low , label=\"Low (max uptake)\", color='blue')\n",
    "\n",
    "plt.ylim(0, 1.1)\n"
   ]
  },
  {
   "cell_type": "code",
   "execution_count": null,
   "metadata": {},
   "outputs": [],
   "source": []
  },
  {
   "cell_type": "code",
   "execution_count": null,
   "metadata": {},
   "outputs": [],
   "source": [
    "# Agilent beta ox seahorse https://www.ncbi.nlm.nih.gov/pmc/articles/PMC9120230/\n"
   ]
  },
  {
   "cell_type": "code",
   "execution_count": null,
   "metadata": {},
   "outputs": [],
   "source": []
  }
 ],
 "metadata": {
  "kernelspec": {
   "display_name": ".venv",
   "language": "python",
   "name": "python3"
  },
  "language_info": {
   "codemirror_mode": {
    "name": "ipython",
    "version": 3
   },
   "file_extension": ".py",
   "mimetype": "text/x-python",
   "name": "python",
   "nbconvert_exporter": "python",
   "pygments_lexer": "ipython3",
   "version": "3.8.13"
  }
 },
 "nbformat": 4,
 "nbformat_minor": 2
}
