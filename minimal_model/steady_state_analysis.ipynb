{
 "cells": [
  {
   "cell_type": "code",
   "execution_count": 1,
   "metadata": {},
   "outputs": [],
   "source": [
    "from minimal_model import mass_and_energy_constraints\n",
    "import scipy.optimize as opt\n",
    "import numpy as np\n",
    "\n",
    "import matplotlib.pyplot as plt"
   ]
  },
  {
   "cell_type": "code",
   "execution_count": null,
   "metadata": {},
   "outputs": [],
   "source": [
    "# Glucose uptake and "
   ]
  },
  {
   "cell_type": "code",
   "execution_count": 2,
   "metadata": {},
   "outputs": [
    {
     "name": "stdout",
     "output_type": "stream",
     "text": [
      "vL = 0.013333333333333334\n",
      "vG = 0.002437500000000003\n",
      "vF = 0.005666666666666666\n",
      "vK = 0.004\n",
      "vGL = 0.01\n",
      "vFK = 0.001\n",
      "vLG = 0.003333333333333333\n",
      "v0 = 0.007993055555555559\n",
      "vA = 0.006666666666666666\n"
     ]
    }
   ],
   "source": [
    "# Solve for non-0 steady state fluxes\n",
    "\n",
    "# Set initial guess\n",
    "#    vL, vG, vF, vK, vGL, vFK,  vLG, v0, vA, vR, vCO2 = v\n",
    "v0 = [ 1.0, 1.0, 1.0, 1.0, 1.0, 1.0, 1.0, 1.0, 0.1, 1.0, 1.0,]\n",
    "\n",
    "# Solve for steady state fluxes\n",
    "res = opt.fsolve(mass_and_energy_constraints, v0,)\n",
    "\n",
    "# Print results\n",
    "print('vL =', res[0])\n",
    "print('vG =', res[1])\n",
    "print('vF =', res[2])\n",
    "print('vK =', res[3])\n",
    "print('vGL =', res[4])\n",
    "print('vFK =', res[5])\n",
    "print('vLG =', res[6])\n",
    "print('v0 =', res[7])\n",
    "print('vA =', res[8])\n"
   ]
  },
  {
   "cell_type": "code",
   "execution_count": 3,
   "metadata": {},
   "outputs": [
    {
     "name": "stdout",
     "output_type": "stream",
     "text": [
      "Residuals:\n",
      "dLdt : 0.0\n",
      "dGdt : 8.673617379884035e-19\n",
      "dFdt : 1.734723475976807e-18\n",
      "dKdt : 0.0\n",
      "dGLY1 : 0.0\n",
      "dR : 0.0\n",
      "dCO2 : 0.0\n",
      "dE : 0.0\n",
      "dDF : -3.469446951953614e-18\n",
      "dDL : 0.0\n",
      "dDK : 0.0\n"
     ]
    }
   ],
   "source": [
    "# Check mass and energy balance\n",
    "# Constaint names dLdt, dGdt, dFdt, dKdt, dGLY1, dR, dCO2, dE, dDF, dDL, dDK, dDG,  \n",
    "names = ['dLdt', 'dGdt', 'dFdt', 'dKdt', 'dGLY1', 'dR', 'dCO2', 'dE', 'dDF', 'dDL', 'dDK',]\n",
    "resisduals = mass_and_energy_constraints(res,)\n",
    "\n",
    "# Print residuals\n",
    "print('Residuals:')\n",
    "for i in range(len(names)):\n",
    "    print(names[i], ':', resisduals[i])\n",
    "    "
   ]
  },
  {
   "cell_type": "code",
   "execution_count": 4,
   "metadata": {},
   "outputs": [],
   "source": [
    "# Mouse oxygen consumption from metabolic cage data\n",
    "\n",
    "vO2_mL_per_min = 1.25 # mL/min\n",
    "\n",
    "# 22.4 L/mol ideal gas\n",
    "vO2_mmol_per_min = vO2_mL_per_min / 22.4 \n",
    "\n",
    "# 25 g mouse\n",
    "vO2_mmol_per_min_per_g = vO2_mmol_per_min / 25\n",
    "\n",
    "vO2_nmol_per_min_per_g = vO2_mmol_per_min_per_g * 1e6\n"
   ]
  },
  {
   "cell_type": "code",
   "execution_count": 5,
   "metadata": {},
   "outputs": [
    {
     "data": {
      "text/plain": [
       "2232.1428571428573"
      ]
     },
     "execution_count": 5,
     "metadata": {},
     "output_type": "execute_result"
    }
   ],
   "source": [
    "vO2_nmol_per_min_per_g"
   ]
  },
  {
   "cell_type": "code",
   "execution_count": 6,
   "metadata": {},
   "outputs": [
    {
     "data": {
      "text/plain": [
       "0.82"
      ]
     },
     "execution_count": 6,
     "metadata": {},
     "output_type": "execute_result"
    }
   ],
   "source": [
    "5 * 4.1/25"
   ]
  },
  {
   "cell_type": "code",
   "execution_count": 7,
   "metadata": {},
   "outputs": [],
   "source": [
    "# Scale the fluxes by vE -> ATP flux \n",
    "\n",
    "# ATP per O2 (3 per O)\n",
    "PO2 = 5.0\n",
    "# Whole body oxygen consumption rate ~ 2000 nmol/min/gBW\n",
    "vO2 = 2000 * 0.7 \n",
    "# ATP production rate\n",
    "vATP = PO2 * vO2 \n",
    "# Scale the oxygen fluxes by vE\n",
    "vE = vATP \n"
   ]
  },
  {
   "cell_type": "code",
   "execution_count": 16,
   "metadata": {},
   "outputs": [
    {
     "name": "stdout",
     "output_type": "stream",
     "text": [
      "Oxidation rates\n",
      "vL = 280.0\n",
      "vG = 102.37500000000013\n",
      "vF = 634.6666666666666\n",
      "vK = 112.0\n",
      "Catabolic and glycolytic rates\n",
      "vGL = 420.0\n",
      "vFK = 7.0\n",
      "vLG = 23.333333333333332\n",
      "Anabolic rates\n",
      "v0 = 55.951388888888914\n",
      "vA = 46.666666666666664\n",
      "vR = 31.111111111111104\n",
      "CO2 production rate\n",
      "vCO2 = 1129.0416666666667\n"
     ]
    }
   ],
   "source": [
    "# Print scaled results\n",
    "print('Oxidation rates')\n",
    "print('vL =', res[0] * vE * 3 )\n",
    "print('vG =', res[1] * vE * 6)\n",
    "print('vF =', res[2] * vE * 16)\n",
    "print('vK =', res[3] * vE * 4)\n",
    "\n",
    "print('Catabolic and glycolytic rates')\n",
    "print('vGL =', res[4] * vE* 6 )\n",
    "print('vFK =', res[5] * vE )\n",
    "print('vLG =', res[6] * vE )\n",
    "\n",
    "print('Anabolic rates')\n",
    "print('v0 =', res[7] * vE )\n",
    "print('vA =', res[8] * vE )\n",
    "print('vR =', res[9] * vE )\n",
    "\n",
    "print('CO2 production rate')\n",
    "print('vCO2 =', res[10] * vE )\n"
   ]
  },
  {
   "cell_type": "code",
   "execution_count": null,
   "metadata": {},
   "outputs": [],
   "source": []
  },
  {
   "cell_type": "markdown",
   "metadata": {},
   "source": []
  },
  {
   "cell_type": "code",
   "execution_count": 9,
   "metadata": {},
   "outputs": [
    {
     "data": {
      "image/png": "[encoded data removed]",
      "text/plain": [
       "<Figure size 640x480 with 1 Axes>"
      ]
     },
     "metadata": {},
     "output_type": "display_data"
    }
   ],
   "source": [
    "# Pie char of the oxidation rates\n",
    "labels = ['L', 'G', 'F', 'K',]\n",
    "sizes = [res[0] * vE * 3, res[1] * vE * 6, res[2] * vE * 16, res[3] * vE * 4,]\n",
    "fig1, ax1 = plt.subplots()\n",
    "ax1.pie(sizes, labels=labels, autopct='%1.1f%%', startangle=90)\n",
    "\n",
    "# 30 percent that we can not account for - assumed to be conses \n",
    "plt.show()"
   ]
  },
  {
   "cell_type": "code",
   "execution_count": 10,
   "metadata": {},
   "outputs": [
    {
     "data": {
      "text/plain": [
       "18.0"
      ]
     },
     "execution_count": 10,
     "metadata": {},
     "output_type": "execute_result"
    }
   ],
   "source": [
    "1/ ( (5 / 22.5)/4)"
   ]
  },
  {
   "cell_type": "markdown",
   "metadata": {},
   "source": []
  },
  {
   "cell_type": "code",
   "execution_count": 11,
   "metadata": {},
   "outputs": [
    {
     "data": {
      "text/plain": [
       "0.8064583333333334"
      ]
     },
     "execution_count": 11,
     "metadata": {},
     "output_type": "execute_result"
    }
   ],
   "source": [
    "\n",
    "# Plot Fcirc \n",
    "vL, vG, vF, vK, vGL, vFK,  vLG, v0, vA, vR, vCO2 = res * vE\n",
    "\n",
    "vCO2/vO2"
   ]
  },
  {
   "cell_type": "code",
   "execution_count": 12,
   "metadata": {},
   "outputs": [
    {
     "data": {
      "text/plain": [
       "<BarContainer object of 1 artists>"
      ]
     },
     "execution_count": 12,
     "metadata": {},
     "output_type": "execute_result"
    },
    {
     "data": {
      "image/png": "[encoded data removed]",
      "text/plain": [
       "<Figure size 600x400 with 4 Axes>"
      ]
     },
     "metadata": {},
     "output_type": "display_data"
    }
   ],
   "source": [
    "\n",
    "# Sum of consumption rates\n",
    "FG  = [ vG , vGL , 0.5 *vR]\n",
    "FL = [vL , 2*vLG]\n",
    "FK = [vK]\n",
    "FF = [3 * vR ,vF ,vFK]\n",
    "\n",
    "f, ax = plt.subplots(1,4, figsize=(6,4))\n",
    "\n",
    "# Stacked bar plot\n",
    "ax[0].bar(0, FG[0], color='blue')\n",
    "ax[0].bar(0, FG[1], bottom=FG[0], color='orange')\n",
    "ax[0].bar(0, FG[2], bottom=FG[0]+FG[1], color='green')\n",
    "ax[0].set_xticks([])\n",
    "\n",
    "ax[1].bar(0, FL[0], color='blue')\n",
    "ax[1].bar(0, FL[1], bottom=FL[0], color='orange')\n",
    "ax[1].set_xticks([])\n",
    "\n",
    "ax[2].bar(0, FK[0], color='blue')\n",
    "ax[2].set_xticks([])\n",
    "\n",
    "ax[3].bar(0, FF[0], color='blue')\n",
    "ax[3].bar(0, FF[1], bottom=FF[0], color='orange')\n",
    "ax[3].bar(0, FF[2], bottom=FF[0]+FF[1], color='green')"
   ]
  },
  {
   "cell_type": "code",
   "execution_count": 13,
   "metadata": {},
   "outputs": [
    {
     "data": {
      "text/plain": [
       "133.33333333333334"
      ]
     },
     "execution_count": 13,
     "metadata": {},
     "output_type": "execute_result"
    }
   ],
   "source": [
    "80/0.6"
   ]
  },
  {
   "cell_type": "code",
   "execution_count": 14,
   "metadata": {},
   "outputs": [
    {
     "data": {
      "text/plain": [
       "<BarContainer object of 1 artists>"
      ]
     },
     "execution_count": 14,
     "metadata": {},
     "output_type": "execute_result"
    },
    {
     "data": {
      "image/png": "[encoded data removed]",
      "text/plain": [
       "<Figure size 600x400 with 4 Axes>"
      ]
     },
     "metadata": {},
     "output_type": "display_data"
    }
   ],
   "source": [
    "\n",
    "\n",
    "# Sum of production rates\n",
    "FG  = [ v0, vLG, 0.5 *vA]\n",
    "FL = [2*vGL]\n",
    "FK = [vFK * 4]\n",
    "FF = [3 * vA]\n",
    "\n",
    "f, ax = plt.subplots(1,4, figsize=(6,4))\n",
    "\n",
    "# Stacked bar plot\n",
    "ax[0].bar(0, FG[0], color='blue')\n",
    "ax[0].bar(0, FG[1], bottom=FG[0], color='orange')\n",
    "ax[0].bar(0, FG[2], bottom=FG[0]+FG[1], color='green')\n",
    "ax[0].set_xticks([])\n",
    "\n",
    "ax[1].bar(0, FL[0], color='blue')\n",
    "ax[1].set_xticks([])\n",
    "\n",
    "ax[2].bar(0, FK[0], color='blue')\n",
    "ax[2].set_xticks([])\n",
    "\n",
    "ax[3].bar(0, FF[0], color='blue')"
   ]
  },
  {
   "cell_type": "code",
   "execution_count": null,
   "metadata": {},
   "outputs": [],
   "source": []
  },
  {
   "cell_type": "code",
   "execution_count": 15,
   "metadata": {},
   "outputs": [],
   "source": [
    "# reference timescale "
   ]
  },
  {
   "cell_type": "code",
   "execution_count": null,
   "metadata": {},
   "outputs": [],
   "source": []
  },
  {
   "cell_type": "markdown",
   "metadata": {},
   "source": []
  }
 ],
 "metadata": {
  "kernelspec": {
   "display_name": "skimpy-env",
   "language": "python",
   "name": "python3"
  },
  "language_info": {
   "codemirror_mode": {
    "name": "ipython",
    "version": 3
   },
   "file_extension": ".py",
   "mimetype": "text/x-python",
   "name": "python",
   "nbconvert_exporter": "python",
   "pygments_lexer": "ipython3",
   "version": "3.8.19"
  }
 },
 "nbformat": 4,
 "nbformat_minor": 2
}
