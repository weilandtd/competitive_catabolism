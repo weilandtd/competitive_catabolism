{
 "cells": [
  {
   "cell_type": "code",
   "execution_count": null,
   "metadata": {},
   "outputs": [],
   "source": []
  },
  {
   "cell_type": "code",
   "execution_count": 1,
   "metadata": {},
   "outputs": [],
   "source": [
    "from minimal_model import insulin_clamp_dynamic, ref_parameters, TAU_INS, equation, fluxes, REF_STEADY_STATE_VALUES\n",
    "import numpy as np\n",
    "import pandas as pd "
   ]
  },
  {
   "cell_type": "code",
   "execution_count": 2,
   "metadata": {},
   "outputs": [],
   "source": [
    "# Compute ref insulin value\n",
    "k = 3.4\n",
    "C = 2.3\n",
    "I0 = abs(1.0)**k / (abs(1.0)**k + C**k)"
   ]
  },
  {
   "cell_type": "code",
   "execution_count": 3,
   "metadata": {},
   "outputs": [],
   "source": [
    "time = np.arange(0,130,10)\n",
    "N = len(time)\n",
    "\n",
    "vI_low = I0/TAU_INS # Double basal fasted insulin levles\n",
    "vI_high = I0/TAU_INS * 3 # Two time low dose"
   ]
  },
  {
   "cell_type": "code",
   "execution_count": 4,
   "metadata": {},
   "outputs": [],
   "source": [
    "# ATP per O2 (3 per O)\n",
    "PO2 = 5.0\n",
    "# Whole body oxygen consumption rate ~ 2000 nmol/min/gBW\n",
    "vO2 = 2000 * 0.7 \n",
    "# ATP production rate\n",
    "vATP = PO2 * vO2 \n",
    "# Scale the oxygen fluxes by vE\n",
    "vE = vATP \n",
    "\n",
    "# GIR scaling \n",
    "sGIR = vE * 180 * 1e-3\n",
    "\n",
    "# Infusion rates for the perurbative infusions \n",
    "\n",
    "# Intralipid // based on Fatty acid oxidation \n",
    "# Fit this to the data\n",
    "# v_in_F = 0.0056 * 1.5\n",
    "\n",
    "# 3HB \n",
    "v_in_K = 120/vE\n",
    "\n",
    "# Lactate\n",
    "v_in_L = 130.5/vE "
   ]
  },
  {
   "cell_type": "code",
   "execution_count": 5,
   "metadata": {},
   "outputs": [
    {
     "name": "stdout",
     "output_type": "stream",
     "text": [
      "GIR_clamp_intralipid mean: 0.01613207799145299 std: 0.011936617643019615 max: 0.04289682539682539\n",
      "GIR_clamp_3HB mean: 0.015605250305250305 std: 0.012674530599339756 max: 0.04289682539682539\n",
      "GIR_clamp_lactate mean: 0.014037815126050419 std: 0.012432624037613789 max: 0.04289682539682539\n"
     ]
    },
    {
     "name": "stderr",
     "output_type": "stream",
     "text": [
      "/var/folders/n5/kq0k2frx06l30kyysqmgk1lw0000gn/T/ipykernel_38821/202027615.py:33: FutureWarning: The default value of regex will change from True to False in a future version.\n",
      "  df.loc[:,'variable'] = df.loc[:,'variable'].str.replace(r'\\.\\d+$','')\n"
     ]
    }
   ],
   "source": [
    "# Load all the experimental data\n",
    "\n",
    "# Glucose infusion rate\n",
    "GIR_clamp_intralipid = pd.read_csv('data/Intralipid_clamp_insulin_dose_GIR.csv',index_col=0) \\\n",
    "                            .melt(ignore_index=False).reset_index()\\\n",
    "                            .rename(columns={'index':'time', 'value':'GIR'}).dropna()\n",
    "\n",
    "GIR_clamp_3HB = pd.read_csv('data/3HB_clamp_insulin_dose_GIR.csv',index_col=0) \\\n",
    "                            .melt(ignore_index=False).reset_index()\\\n",
    "                            .rename(columns={'index':'time', 'value':'GIR'}).dropna()\n",
    "\n",
    "GIR_clamp_lactate = pd.read_csv('data/Lactate_clamp_insulin_dose_GIR.csv',index_col=0) \\\n",
    "                            .melt(ignore_index=False).reset_index()\\\n",
    "                            .rename(columns={'index':'time', 'value':'GIR'}).dropna()\n",
    "\n",
    "# Fatty acids \n",
    "FFA_clamp_intralipid = pd.read_csv('data/Intralipid_clamp_insulin_dose_FFA.csv', index_col=0)\\\n",
    "                        .melt(ignore_index=False).dropna().reset_index().rename(columns={'index':'Species', 'value':'FFA'})\n",
    "\n",
    "FFA_clamp_lactate = pd.read_csv('data/Lactate_clamp_insulin_dose_FFA.csv', index_col=0)\\\n",
    "                        .melt(ignore_index=False).dropna().reset_index().rename(columns={'index':'Species', 'value':'FFA'})\n",
    "\n",
    "# 3HB and lactate\n",
    "_3HB_clamp_3HB = pd.read_csv('data/3HB_clamp_insulin_dose_3HB.csv', index_col=0).melt(ignore_index=False).dropna().reset_index().rename(columns={'index':'time', 'value':'3HB'})\n",
    "lactate_clamp_lactate = pd.read_csv('data/Lactate_clamp_insulin_dose_lactate.csv', index_col=0).melt(ignore_index=False).dropna().reset_index().rename(columns={'index':'time', 'value':'lactate'})\n",
    "lactate_clamp_intralipid = pd.read_csv('data/Intralipid_clamp_insulin_dose_lactate.csv', index_col=0).melt(ignore_index=False).dropna().reset_index().rename(columns={'index':'time', 'value':'lactate'})\n",
    "\n",
    "# Clean up variable names\n",
    "dataframes = [GIR_clamp_intralipid, GIR_clamp_3HB, GIR_clamp_lactate, FFA_clamp_intralipid, FFA_clamp_lactate, _3HB_clamp_3HB, lactate_clamp_lactate]\n",
    "\n",
    "for df in dataframes:\n",
    "    # Remove trailing \".number\" from variable names\n",
    "    df.loc[:,'variable'] = df.loc[:,'variable'].str.replace(r'\\.\\d+$','')\n",
    "\n",
    "\n",
    "# Combine the dataframes in a named dict\n",
    "data = {\n",
    "    'GIR_clamp_intralipid': GIR_clamp_intralipid,\n",
    "    'GIR_clamp_3HB': GIR_clamp_3HB,\n",
    "    'GIR_clamp_lactate': GIR_clamp_lactate,\n",
    "    'FFA_clamp_intralipid': FFA_clamp_intralipid,\n",
    "    '3HB_clamp_3HB': _3HB_clamp_3HB,\n",
    "    'lactate_clamp_lactate': lactate_clamp_lactate,\n",
    "    'FFA_clamp_lactate': FFA_clamp_lactate,\n",
    "    'lactate_clamp_intralipid': lactate_clamp_intralipid,\n",
    "}\n",
    "\n",
    "# Scale the GIR into simulation units\n",
    "for key in data.keys():\n",
    "    if 'GIR' in key:\n",
    "        data[key].loc[:,'GIR'] = data[key].loc[:,'GIR'] / sGIR\n",
    "        # Print mean and std of the GIR\n",
    "        print(f\"{key} mean: {data[key].GIR.mean()} std: {data[key].GIR.std()} max: {data[key].GIR.max()}\")"
   ]
  },
  {
   "cell_type": "code",
   "execution_count": 6,
   "metadata": {},
   "outputs": [
    {
     "data": {
      "text/html": [
       "<div>\n",
       "<style scoped>\n",
       "    .dataframe tbody tr th:only-of-type {\n",
       "        vertical-align: middle;\n",
       "    }\n",
       "\n",
       "    .dataframe tbody tr th {\n",
       "        vertical-align: top;\n",
       "    }\n",
       "\n",
       "    .dataframe thead th {\n",
       "        text-align: right;\n",
       "    }\n",
       "</style>\n",
       "<table border=\"1\" class=\"dataframe\">\n",
       "  <thead>\n",
       "    <tr style=\"text-align: right;\">\n",
       "      <th></th>\n",
       "      <th>time</th>\n",
       "      <th>variable</th>\n",
       "      <th>GIR</th>\n",
       "    </tr>\n",
       "  </thead>\n",
       "  <tbody>\n",
       "    <tr>\n",
       "      <th>0</th>\n",
       "      <td>0</td>\n",
       "      <td>Saline</td>\n",
       "      <td>0.000000</td>\n",
       "    </tr>\n",
       "    <tr>\n",
       "      <th>1</th>\n",
       "      <td>10</td>\n",
       "      <td>Saline</td>\n",
       "      <td>0.000000</td>\n",
       "    </tr>\n",
       "    <tr>\n",
       "      <th>2</th>\n",
       "      <td>20</td>\n",
       "      <td>Saline</td>\n",
       "      <td>0.000000</td>\n",
       "    </tr>\n",
       "    <tr>\n",
       "      <th>3</th>\n",
       "      <td>30</td>\n",
       "      <td>Saline</td>\n",
       "      <td>0.000000</td>\n",
       "    </tr>\n",
       "    <tr>\n",
       "      <th>4</th>\n",
       "      <td>40</td>\n",
       "      <td>Saline</td>\n",
       "      <td>0.000000</td>\n",
       "    </tr>\n",
       "    <tr>\n",
       "      <th>...</th>\n",
       "      <td>...</td>\n",
       "      <td>...</td>\n",
       "      <td>...</td>\n",
       "    </tr>\n",
       "    <tr>\n",
       "      <th>814</th>\n",
       "      <td>80</td>\n",
       "      <td>1.25 mU Insulin + Intralipid</td>\n",
       "      <td>0.007151</td>\n",
       "    </tr>\n",
       "    <tr>\n",
       "      <th>815</th>\n",
       "      <td>90</td>\n",
       "      <td>1.25 mU Insulin + Intralipid</td>\n",
       "      <td>0.007151</td>\n",
       "    </tr>\n",
       "    <tr>\n",
       "      <th>816</th>\n",
       "      <td>100</td>\n",
       "      <td>1.25 mU Insulin + Intralipid</td>\n",
       "      <td>0.007151</td>\n",
       "    </tr>\n",
       "    <tr>\n",
       "      <th>817</th>\n",
       "      <td>110</td>\n",
       "      <td>1.25 mU Insulin + Intralipid</td>\n",
       "      <td>0.007151</td>\n",
       "    </tr>\n",
       "    <tr>\n",
       "      <th>818</th>\n",
       "      <td>120</td>\n",
       "      <td>1.25 mU Insulin + Intralipid</td>\n",
       "      <td>0.007151</td>\n",
       "    </tr>\n",
       "  </tbody>\n",
       "</table>\n",
       "<p>416 rows × 3 columns</p>\n",
       "</div>"
      ],
      "text/plain": [
       "     time                      variable       GIR\n",
       "0       0                        Saline  0.000000\n",
       "1      10                        Saline  0.000000\n",
       "2      20                        Saline  0.000000\n",
       "3      30                        Saline  0.000000\n",
       "4      40                        Saline  0.000000\n",
       "..    ...                           ...       ...\n",
       "814    80  1.25 mU Insulin + Intralipid  0.007151\n",
       "815    90  1.25 mU Insulin + Intralipid  0.007151\n",
       "816   100  1.25 mU Insulin + Intralipid  0.007151\n",
       "817   110  1.25 mU Insulin + Intralipid  0.007151\n",
       "818   120  1.25 mU Insulin + Intralipid  0.007151\n",
       "\n",
       "[416 rows x 3 columns]"
      ]
     },
     "execution_count": 6,
     "metadata": {},
     "output_type": "execute_result"
    }
   ],
   "source": [
    "GIR_clamp_intralipid"
   ]
  },
  {
   "cell_type": "code",
   "execution_count": 7,
   "metadata": {},
   "outputs": [
    {
     "data": {
      "text/plain": [
       "<Axes: xlabel='time', ylabel='GIR'>"
      ]
     },
     "execution_count": 7,
     "metadata": {},
     "output_type": "execute_result"
    },
    {
     "data": {
      "image/png": "[encoded data removed]",
      "text/plain": [
       "<Figure size 640x480 with 1 Axes>"
      ]
     },
     "metadata": {},
     "output_type": "display_data"
    }
   ],
   "source": [
    "import seaborn as sns\n",
    "sns.lineplot(data['GIR_clamp_3HB'], x='time', y='GIR', hue='variable')"
   ]
  },
  {
   "cell_type": "code",
   "execution_count": 8,
   "metadata": {},
   "outputs": [],
   "source": [
    "# Normlize the concentrations to saline \n",
    "data['3HB_clamp_3HB'].loc[:,'3HB'] = data['3HB_clamp_3HB'].loc[:,'3HB']\\\n",
    "    /data['3HB_clamp_3HB'].query(\"variable == 'Saline'\")['3HB'].mean()\n",
    "\n",
    "data['lactate_clamp_lactate'].loc[:,'lactate'] = data['lactate_clamp_lactate'].loc[:,'lactate']\\\n",
    "    /data['lactate_clamp_lactate'].query(\"variable == 'Saline'\")['lactate'].mean()\n",
    "\n",
    "data['FFA_clamp_intralipid'].loc[:,'FFA'] = data['FFA_clamp_intralipid'].loc[:,'FFA']\\\n",
    "    /data['FFA_clamp_intralipid'].query(\"variable == 'Saline'\")['FFA'].mean()\n",
    "\n",
    "data['FFA_clamp_lactate'].loc[:,'FFA'] = data['FFA_clamp_lactate'].loc[:,'FFA']\\\n",
    "    /data['FFA_clamp_lactate'].query(\"variable == 'Saline'\")['FFA'].mean()\n",
    "\n",
    "data['lactate_clamp_intralipid'].loc[:,'lactate'] = data['lactate_clamp_intralipid'].loc[:,'lactate']\\\n",
    "    /data['lactate_clamp_intralipid'].query(\"variable == 'Saline'\")['lactate'].mean()"
   ]
  },
  {
   "cell_type": "code",
   "execution_count": 9,
   "metadata": {},
   "outputs": [
    {
     "data": {
      "text/html": [
       "<div>\n",
       "<style scoped>\n",
       "    .dataframe tbody tr th:only-of-type {\n",
       "        vertical-align: middle;\n",
       "    }\n",
       "\n",
       "    .dataframe tbody tr th {\n",
       "        vertical-align: top;\n",
       "    }\n",
       "\n",
       "    .dataframe thead th {\n",
       "        text-align: right;\n",
       "    }\n",
       "</style>\n",
       "<table border=\"1\" class=\"dataframe\">\n",
       "  <thead>\n",
       "    <tr style=\"text-align: right;\">\n",
       "      <th></th>\n",
       "      <th>time</th>\n",
       "      <th>variable</th>\n",
       "      <th>lactate</th>\n",
       "    </tr>\n",
       "  </thead>\n",
       "  <tbody>\n",
       "    <tr>\n",
       "      <th>0</th>\n",
       "      <td>0</td>\n",
       "      <td>Saline</td>\n",
       "      <td>1.378788</td>\n",
       "    </tr>\n",
       "    <tr>\n",
       "      <th>1</th>\n",
       "      <td>10</td>\n",
       "      <td>Saline</td>\n",
       "      <td>0.787879</td>\n",
       "    </tr>\n",
       "    <tr>\n",
       "      <th>2</th>\n",
       "      <td>20</td>\n",
       "      <td>Saline</td>\n",
       "      <td>0.984848</td>\n",
       "    </tr>\n",
       "    <tr>\n",
       "      <th>3</th>\n",
       "      <td>30</td>\n",
       "      <td>Saline</td>\n",
       "      <td>0.984848</td>\n",
       "    </tr>\n",
       "    <tr>\n",
       "      <th>4</th>\n",
       "      <td>40</td>\n",
       "      <td>Saline</td>\n",
       "      <td>1.181818</td>\n",
       "    </tr>\n",
       "    <tr>\n",
       "      <th>...</th>\n",
       "      <td>...</td>\n",
       "      <td>...</td>\n",
       "      <td>...</td>\n",
       "    </tr>\n",
       "    <tr>\n",
       "      <th>260</th>\n",
       "      <td>80</td>\n",
       "      <td>1.25 mU Insulin + Intralipid.2</td>\n",
       "      <td>1.181818</td>\n",
       "    </tr>\n",
       "    <tr>\n",
       "      <th>261</th>\n",
       "      <td>90</td>\n",
       "      <td>1.25 mU Insulin + Intralipid.2</td>\n",
       "      <td>1.181818</td>\n",
       "    </tr>\n",
       "    <tr>\n",
       "      <th>262</th>\n",
       "      <td>100</td>\n",
       "      <td>1.25 mU Insulin + Intralipid.2</td>\n",
       "      <td>1.378788</td>\n",
       "    </tr>\n",
       "    <tr>\n",
       "      <th>263</th>\n",
       "      <td>110</td>\n",
       "      <td>1.25 mU Insulin + Intralipid.2</td>\n",
       "      <td>1.181818</td>\n",
       "    </tr>\n",
       "    <tr>\n",
       "      <th>264</th>\n",
       "      <td>120</td>\n",
       "      <td>1.25 mU Insulin + Intralipid.2</td>\n",
       "      <td>0.787879</td>\n",
       "    </tr>\n",
       "  </tbody>\n",
       "</table>\n",
       "<p>265 rows × 3 columns</p>\n",
       "</div>"
      ],
      "text/plain": [
       "     time                        variable   lactate\n",
       "0       0                          Saline  1.378788\n",
       "1      10                          Saline  0.787879\n",
       "2      20                          Saline  0.984848\n",
       "3      30                          Saline  0.984848\n",
       "4      40                          Saline  1.181818\n",
       "..    ...                             ...       ...\n",
       "260    80  1.25 mU Insulin + Intralipid.2  1.181818\n",
       "261    90  1.25 mU Insulin + Intralipid.2  1.181818\n",
       "262   100  1.25 mU Insulin + Intralipid.2  1.378788\n",
       "263   110  1.25 mU Insulin + Intralipid.2  1.181818\n",
       "264   120  1.25 mU Insulin + Intralipid.2  0.787879\n",
       "\n",
       "[265 rows x 3 columns]"
      ]
     },
     "execution_count": 9,
     "metadata": {},
     "output_type": "execute_result"
    }
   ],
   "source": [
    "data['lactate_clamp_intralipid']"
   ]
  },
  {
   "cell_type": "code",
   "execution_count": 10,
   "metadata": {},
   "outputs": [],
   "source": [
    "x_insulin_low_3HB, GIR_insulin_low_3HB = insulin_clamp_dynamic(vI_low, time, 1,v_in_K=v_in_K)\n",
    "\n",
    "# Substrate fluxes GIR from GIR column matiching time \n",
    "temp = data['GIR_clamp_3HB'].query(\"variable == '1.25 mU Insulin + 3HB'\")\\\n",
    "            .merge(GIR_insulin_low_3HB, on='time', how='inner')\n",
    "res = temp['GIR_x'] - temp['GIR_y']\n",
    "\n",
    "res = data['3HB_clamp_3HB'].query(\"variable == '1.25 mU Insulin + 3HB'\")['3HB'] - x_insulin_low_3HB.loc[N-1,'K']"
   ]
  },
  {
   "cell_type": "code",
   "execution_count": 11,
   "metadata": {},
   "outputs": [],
   "source": [
    "def residual_function(params,data):\n",
    "    \n",
    "    # Allow only positive parameters\n",
    "    KI_lipo,  KA_glut4, KA_glut4_GL, KI_GY, KIL, KIK, KF, KG, KFK, KL, KI_F = 10**params[:-1]\n",
    "    v_in_F = abs(params[-1])\n",
    "\n",
    "    # Recompute constrainted parameter values \n",
    "    p = ref_parameters( KI_lipo,  KA_glut4, KA_glut4_GL, KI_GY, KIL, KIK, KF, KG, KFK, KL, KI_F,)\n",
    "\n",
    "    # Compute all the clamp model predicitons\n",
    "    x_insulin_low, GIR_insulin_low = insulin_clamp_dynamic(vI_low, time, 1, p=p)\n",
    "    x_insulin_high, GIR_insulin_high = insulin_clamp_dynamic(vI_high, time, 1, p=p)\n",
    "\n",
    "    x_insulin_low_intralipid, GIR_insulin_low_intralipid = insulin_clamp_dynamic(vI_low, time,1,p=p, v_in_F=v_in_F)\n",
    "    x_insulin_high_intralipid, GIR_insulin_high_intralipid = insulin_clamp_dynamic(vI_high, time,1,p=p, v_in_F=v_in_F)\n",
    "\n",
    "    x_insulin_low_3HB, GIR_insulin_low_3HB = insulin_clamp_dynamic(vI_low, time, 1,v_in_K=v_in_K, p=p)\n",
    "    x_insulin_high_3HB, GIR_insulin_high_3HB = insulin_clamp_dynamic(vI_high, time,1, v_in_K=v_in_K, p=p)\n",
    "\n",
    "    x_insulin_low_lactate, GIR_insulin_low_lactate = insulin_clamp_dynamic(vI_low, time,1,v_in_L=v_in_L, p=p)\n",
    "    x_insulin_high_lactate, GIR_insulin_high_lactate = insulin_clamp_dynamic(vI_high, time,1, v_in_L=v_in_L, p=p)\n",
    "\n",
    "\n",
    "    residuals = []\n",
    "\n",
    "    # Compute residuals of glucose infusion rate for each time point \n",
    "    # GIR Scale # based on max GIR\n",
    "    gir_scale = sGIR / 10 \n",
    "\n",
    "    # Low insulin\n",
    "    temp = data['GIR_clamp_intralipid'].query(\"variable == '1.25 mU Insulin'\")\\\n",
    "            .merge(GIR_insulin_low, on='time', how='inner')\n",
    "    res = temp['GIR_x'] - temp['GIR_y']\n",
    "    residuals.append(res * gir_scale)   \n",
    "\n",
    "    # High insulin\n",
    "    temp = data['GIR_clamp_intralipid'].query(\"variable == '2.5 mU Insulin'\")\\\n",
    "                    .merge(GIR_insulin_high, on='time', how='inner')\n",
    "    res = (temp['GIR_x'] - temp['GIR_y']) \n",
    "    residuals.append(res * gir_scale)\n",
    "\n",
    "    # Intralipid - low insulin\n",
    "    temp = data['GIR_clamp_intralipid'].query(\"variable == '1.25 mU Insulin + Intralipid'\")\\\n",
    "                .merge(GIR_insulin_low_intralipid, on='time', how='inner')\n",
    "    res = temp['GIR_x'] - temp['GIR_y']\n",
    "    residuals.append(res * gir_scale )\n",
    "\n",
    "    # Intralipid - high insulin\n",
    "    temp = data['GIR_clamp_intralipid'].query(\"variable == '2.5 mU Insulin + Intralipid'\")\\\n",
    "                     .merge(GIR_insulin_high_intralipid, on='time', how='inner')\n",
    "    res = temp['GIR_x'] - temp['GIR_y']\n",
    "    residuals.append(res * gir_scale)\n",
    "\n",
    "    # 3HB - low insulin\n",
    "    temp = data['GIR_clamp_3HB'].query(\"variable == '1.25 mU Insulin + 3HB'\")\\\n",
    "                    .merge(GIR_insulin_low_3HB, on='time', how='inner')\n",
    "    res = temp['GIR_x'] - temp['GIR_y']\n",
    "    residuals.append(res * gir_scale)\n",
    "\n",
    "    # 3HB - high insulin\n",
    "    temp = data['GIR_clamp_3HB'].query(\"variable == '2.5 mU Insulin + 3HB'\")\\\n",
    "                   .merge(GIR_insulin_high_3HB, on='time', how='inner')\n",
    "    res = temp['GIR_x'] - temp['GIR_y']\n",
    "    residuals.append(res * gir_scale)\n",
    "\n",
    "    # Lactate - low insulin\n",
    "    temp = data['GIR_clamp_lactate'].query(\"variable == '1.25 mU Insulin + Lactate'\")\\\n",
    "                    .merge(GIR_insulin_low_lactate, on='time', how='inner')\n",
    "    res = temp['GIR_x'] - temp['GIR_y']\n",
    "    residuals.append(res * gir_scale)\n",
    "\n",
    "    # Lactate - high insulin\n",
    "    temp = data['GIR_clamp_lactate'].query(\"variable == '2.5 mU Insulin + Lactate'\")\\\n",
    "                    .merge(GIR_insulin_high_lactate, on='time', how='inner')\n",
    "    res = temp['GIR_x'] - temp['GIR_y']\n",
    "    residuals.append(res * gir_scale)\n",
    "\n",
    "    # Compute the residuals for concentrations at steady state\n",
    "\n",
    "    # Insulin - low insulin\n",
    "    res = data['FFA_clamp_intralipid'].query(\"variable == '1.25 mU Insulin'\")['FFA'] - x_insulin_low.loc[N-1,'F']\n",
    "    residuals.append(res)\n",
    "\n",
    "    res = data['3HB_clamp_3HB'].query(\"variable == '1.25 mU Insulin'\")['3HB'] - x_insulin_low.loc[N-1,'K']\n",
    "    residuals.append(res)\n",
    "\n",
    "    res = data['lactate_clamp_lactate'].query(\"variable == '1.25 mU Insulin'\")['lactate'] - x_insulin_low.loc[N-1,'L']\n",
    "    residuals.append(res)\n",
    "\n",
    "    # Insulin - high insulin\n",
    "    res = data['FFA_clamp_intralipid'].query(\"variable == '2.5 mU Insulin'\")['FFA'] - x_insulin_high.loc[N-1,'F']\n",
    "    residuals.append(res)\n",
    "    \n",
    "    res = data['3HB_clamp_3HB'].query(\"variable == '2.5 mU Insulin'\")['3HB'] - x_insulin_high.loc[N-1,'K']\n",
    "    residuals.append(res)\n",
    "    \n",
    "    res = data['lactate_clamp_lactate'].query(\"variable == '2.5 mU Insulin'\")['lactate'] - x_insulin_high.loc[N-1,'L']\n",
    "    residuals.append(res)\n",
    "\n",
    "    # Intralipid - low insulin\n",
    "    res = data['FFA_clamp_intralipid'].query(\"variable == '1.25 mU Insulin + Intralipid'\")['FFA'] - x_insulin_low_intralipid.loc[N-1,'F']\n",
    "    residuals.append(res)\n",
    "\n",
    "    res = data['lactate_clamp_intralipid'].query(\"variable == '1.25 mU Insulin + Intralipid'\")['lactate'] - x_insulin_low_intralipid.loc[N-1,'L']\n",
    "    residuals.append(res)\n",
    "\n",
    "     # Intralipid - high insulin\n",
    "    res = data['FFA_clamp_intralipid'].query(\"variable == '2.5 mU Insulin + Intralipid'\")['FFA'] - x_insulin_high_intralipid.loc[N-1,'F']\n",
    "    residuals.append(res)\n",
    "\n",
    "    # 3HB - low insulin\n",
    "    res = data['3HB_clamp_3HB'].query(\"variable == '1.25 mU Insulin + 3HB'\")['3HB'] - x_insulin_low_3HB.loc[N-1,'K']\n",
    "    residuals.append(res)   \n",
    "\n",
    "     # 3HB - high insulin\n",
    "    res = data['3HB_clamp_3HB'].query(\"variable == '2.5 mU Insulin + 3HB'\")['3HB'] - x_insulin_high_3HB.loc[N-1,'K']\n",
    "    residuals.append(res)\n",
    "    \n",
    "    # Lactate - low insulin\n",
    "    res = data['lactate_clamp_lactate'].query(\"variable == '1.25 mU Insulin + Lactate'\")['lactate'] - x_insulin_low_lactate.loc[N-1,'L']\n",
    "    residuals.append(res)\n",
    "\n",
    "    res = data['FFA_clamp_lactate'].query(\"variable == '1.25 mU Insulin + Lactate'\")['FFA'] - x_insulin_low_lactate.loc[N-1,'F']\n",
    "    residuals.append(res)\n",
    "\n",
    "     # Lactate - high insulin\n",
    "    res = data['lactate_clamp_lactate'].query(\"variable == '2.5 mU Insulin + Lactate'\")['lactate'] - x_insulin_high_lactate.loc[N-1,'L']\n",
    "    residuals.append(res)\n",
    "    \n",
    "    return np.concatenate(residuals)\n",
    "\n",
    "\n",
    "\n",
    "\n"
   ]
  },
  {
   "cell_type": "code",
   "execution_count": 12,
   "metadata": {},
   "outputs": [
    {
     "data": {
      "image/png": "[encoded data removed]",
      "text/plain": [
       "<Figure size 400x300 with 1 Axes>"
      ]
     },
     "metadata": {},
     "output_type": "display_data"
    }
   ],
   "source": [
    "# Test the residual function\n",
    "p0 = np.zeros(12)\n",
    "\n",
    "import matplotlib.pyplot as plt \n",
    "import seaborn as sns\n",
    "\n",
    "# Risiduals from the initial guess\n",
    "f, ax = plt.subplots(1,1, figsize=(4,3))\n",
    "plt.hist(residual_function(p0,data), bins=50)\n",
    "plt.xlabel('Residuals')\n",
    "plt.ylabel('Frequency')\n",
    "\n",
    "sns.despine()\n"
   ]
  },
  {
   "cell_type": "code",
   "execution_count": null,
   "metadata": {},
   "outputs": [],
   "source": []
  },
  {
   "cell_type": "code",
   "execution_count": null,
   "metadata": {},
   "outputs": [],
   "source": []
  },
  {
   "cell_type": "code",
   "execution_count": 13,
   "metadata": {},
   "outputs": [
    {
     "name": "stdout",
     "output_type": "stream",
     "text": [
      "   Iteration     Total nfev        Cost      Cost reduction    Step norm     Optimality   \n",
      "       0              1         7.4388e+02                                    1.75e+03    \n",
      "       1              2         7.0853e+02      3.53e+01       2.63e-02       5.64e+02    \n",
      "       2              3         7.0159e+02      6.95e+00       6.17e-02       2.91e+01    \n",
      "       3              4         7.0043e+02      1.15e+00       1.24e-01       2.74e+01    \n",
      "       4              5         6.9871e+02      1.73e+00       2.43e-01       1.17e+01    \n",
      "       5              6         6.9696e+02      1.75e+00       4.65e-01       4.81e+01    \n",
      "       6              7         6.9667e+02      2.88e-01       1.05e-01       3.61e+00    \n",
      "       7              8         6.9635e+02      3.17e-01       2.05e-01       2.18e+00    \n",
      "       8              9         6.9603e+02      3.19e-01       3.88e-01       1.71e+00    \n",
      "       9             14         6.9603e+02      1.03e-03       2.67e-03       4.76e-01    \n",
      "      10             15         6.9603e+02      7.41e-04       6.35e-04       5.46e+00    \n",
      "      11             25         6.9603e+02      0.00e+00       0.00e+00       5.46e+00    \n",
      "`xtol` termination condition is satisfied.\n",
      "Function evaluations 25, initial cost 7.4388e+02, final cost 6.9603e+02, first-order optimality 5.46e+00.\n"
     ]
    },
    {
     "data": {
      "text/plain": [
       "     message: `xtol` termination condition is satisfied.\n",
       "     success: True\n",
       "      status: 3\n",
       "         fun: [ 0.000e+00  0.000e+00 ...  1.083e-01 -3.559e-01]\n",
       "           x: [ 0.000e+00  0.000e+00  0.000e+00  0.000e+00  0.000e+00\n",
       "                5.013e-18  9.735e-16  0.000e+00  0.000e+00  0.000e+00\n",
       "               -1.622e+00  1.124e-02]\n",
       "        cost: 696.0304592282212\n",
       "         jac: [[ 0.000e+00  0.000e+00 ... -0.000e+00  0.000e+00]\n",
       "               [ 0.000e+00  0.000e+00 ... -0.000e+00  0.000e+00]\n",
       "               ...\n",
       "               [ 0.000e+00  0.000e+00 ... -2.717e-03  0.000e+00]\n",
       "               [ 0.000e+00  0.000e+00 ... -2.660e-03  0.000e+00]]\n",
       "        grad: [ 0.000e+00  0.000e+00  0.000e+00  0.000e+00  0.000e+00\n",
       "                0.000e+00  0.000e+00  0.000e+00  0.000e+00  0.000e+00\n",
       "               -1.181e+00  2.647e+00]\n",
       "  optimality: 5.458781518848798\n",
       " active_mask: [0 0 0 0 0 0 0 0 0 0 0 0]\n",
       "        nfev: 25\n",
       "        njev: 11"
      ]
     },
     "execution_count": 13,
     "metadata": {},
     "output_type": "execute_result"
    }
   ],
   "source": [
    "from scipy.optimize import least_squares\n",
    "\n",
    "bounds = [(-3, 3)] * 12\n",
    "bounds[-1] = (0,0.1)\n",
    "\n",
    "# convert from [[], []] to [], []\n",
    "bounds = list(zip(*bounds))\n",
    "\n",
    "p0[-1] = 0.0056 # ~Fatty acid oxidation\n",
    "res_robust = least_squares(residual_function, p0, loss='soft_l1', f_scale=2.0, bounds=bounds,\n",
    "                           args=(data,), verbose=2)\n",
    "\n",
    "res_robust"
   ]
  },
  {
   "cell_type": "code",
   "execution_count": 14,
   "metadata": {},
   "outputs": [
    {
     "data": {
      "image/png": "[encoded data removed]",
      "text/plain": [
       "<Figure size 400x300 with 1 Axes>"
      ]
     },
     "metadata": {},
     "output_type": "display_data"
    }
   ],
   "source": [
    "# Risiduals from the resulst guess\n",
    "f, ax = plt.subplots(1,1, figsize=(4,3))\n",
    "plt.hist(residual_function(res_robust.x,data), bins=50)\n",
    "plt.xlabel('Residuals')\n",
    "plt.ylabel('Frequency')\n",
    "\n",
    "sns.despine()"
   ]
  },
  {
   "cell_type": "code",
   "execution_count": null,
   "metadata": {},
   "outputs": [],
   "source": []
  },
  {
   "cell_type": "code",
   "execution_count": 15,
   "metadata": {},
   "outputs": [],
   "source": [
    "# Allow only positive parameters\n",
    "KI_lipo,  KA_glut4, KA_glut_GL, KI_GL, KIL, KIK, KF, KG, KFK, KL, KI_F = 10**res_robust.x[:-1]\n",
    "v_in_F = abs(res_robust.x[-1])\n",
    "\n",
    "# Recompute constrainted parameter values \n",
    "p_test = ref_parameters( KI_lipo,  KA_glut4, KA_glut_GL, KI_GL, KIL, KIK, KF, KG, KFK, KL, KI_F,)"
   ]
  },
  {
   "cell_type": "code",
   "execution_count": 16,
   "metadata": {},
   "outputs": [
    {
     "name": "stdout",
     "output_type": "stream",
     "text": [
      "KI_lipo = 1.0\n",
      "KA_glut4 = 1.0\n",
      "KA_glut_GL = 1.0\n",
      "KI_GL = 1.0\n",
      "KIL = 1.0\n",
      "KIK = 1.0\n",
      "KF = 1.0000000000000022\n",
      "KG = 1.0\n",
      "KFK = 1.0\n",
      "KL = 1.0\n",
      "KI_F = 0.023877450482079586\n",
      "v_in_F = 0.0112422322540602\n"
     ]
    }
   ],
   "source": [
    "# Print the parameters to the screen\n",
    "print(f\"KI_lipo = {KI_lipo}\")\n",
    "print(f\"KA_glut4 = {KA_glut4}\")\n",
    "print(f\"KA_glut_GL = {KA_glut_GL}\")\n",
    "print(f\"KI_GL = {KI_GL}\")\n",
    "print(f\"KIL = {KIL}\")\n",
    "print(f\"KIK = {KIK}\")\n",
    "print(f\"KF = {KF}\")\n",
    "print(f\"KG = {KG}\")\n",
    "print(f\"KFK = {KFK}\")\n",
    "print(f\"KL = {KL}\")\n",
    "print(f\"KI_F = {KI_F}\")\n",
    "\n",
    "# Fin \n",
    "print(f\"v_in_F = {v_in_F}\")\n"
   ]
  },
  {
   "cell_type": "code",
   "execution_count": null,
   "metadata": {},
   "outputs": [],
   "source": []
  },
  {
   "cell_type": "code",
   "execution_count": 17,
   "metadata": {},
   "outputs": [],
   "source": [
    "time = np.linspace(0,120,120)\n",
    "x_insulin_low, GIR_insulin_low = insulin_clamp_dynamic(vI_low, time, 1,p = p_test)\n",
    "x_insulin_high, GIR_insulin_high = insulin_clamp_dynamic(vI_high, time, 1,p = p_test)\n",
    "\n",
    "# With Intralipid\n",
    "x_insulin_low_intralipid, GIR_insulin_low_intralipid = insulin_clamp_dynamic(vI_low, time,1,p = p_test, v_in_F=v_in_F)\n"
   ]
  },
  {
   "cell_type": "code",
   "execution_count": null,
   "metadata": {},
   "outputs": [],
   "source": []
  },
  {
   "cell_type": "code",
   "execution_count": 18,
   "metadata": {},
   "outputs": [],
   "source": [
    "# scale the GIR by sGIR\n",
    "GIR_insulin_low.loc[:,'GIR'] = GIR_insulin_low.loc[:,'GIR'] * sGIR\n",
    "GIR_insulin_high.loc[:,'GIR'] = GIR_insulin_high.loc[:,'GIR'] * sGIR\n",
    "GIR_insulin_low_intralipid.loc[:,'GIR'] = GIR_insulin_low_intralipid.loc[:,'GIR'] * sGIR"
   ]
  },
  {
   "cell_type": "code",
   "execution_count": 19,
   "metadata": {},
   "outputs": [
    {
     "data": {
      "text/plain": [
       "<Axes: xlabel='time'>"
      ]
     },
     "execution_count": 19,
     "metadata": {},
     "output_type": "execute_result"
    },
    {
     "data": {
      "image/png": "[encoded data removed]",
      "text/plain": [
       "<Figure size 400x300 with 1 Axes>"
      ]
     },
     "metadata": {},
     "output_type": "display_data"
    }
   ],
   "source": [
    "import matplotlib.pyplot as plt \n",
    "\n",
    "fig, ax = plt.subplots(1,1, figsize=(4,3))\n",
    "\n",
    "x_insulin_low.plot(x='time', y='L', label='L', linewidth=1, ax=ax)\n",
    "x_insulin_low.plot(x='time', y='G', label='G', linewidth=1, ax=ax)\n",
    "x_insulin_low.plot(x='time', y='F', label='F', linewidth=1, ax=ax)\n",
    "x_insulin_low.plot(x='time', y='K', label='K', linewidth=1, ax=ax)\n"
   ]
  },
  {
   "cell_type": "code",
   "execution_count": 20,
   "metadata": {},
   "outputs": [
    {
     "data": {
      "text/plain": [
       "<Axes: xlabel='time'>"
      ]
     },
     "execution_count": 20,
     "metadata": {},
     "output_type": "execute_result"
    },
    {
     "data": {
      "image/png": "[encoded data removed]",
      "text/plain": [
       "<Figure size 400x300 with 1 Axes>"
      ]
     },
     "metadata": {},
     "output_type": "display_data"
    }
   ],
   "source": [
    "fig, ax = plt.subplots(1,1, figsize=(4,3))\n",
    "\n",
    "x_insulin_low_intralipid.plot(x='time', y='L', label='L', linewidth=1, ax=ax)\n",
    "x_insulin_low_intralipid.plot(x='time', y='G', label='G', linewidth=1, ax=ax)\n",
    "x_insulin_low_intralipid.plot(x='time', y='F', label='F', linewidth=1, ax=ax)\n",
    "x_insulin_low_intralipid.plot(x='time', y='K', label='K', linewidth=1, ax=ax)\n"
   ]
  },
  {
   "cell_type": "code",
   "execution_count": 21,
   "metadata": {},
   "outputs": [
    {
     "data": {
      "text/plain": [
       "<Axes: xlabel='time'>"
      ]
     },
     "execution_count": 21,
     "metadata": {},
     "output_type": "execute_result"
    },
    {
     "data": {
      "image/png": "[encoded data removed]",
      "text/plain": [
       "<Figure size 400x300 with 1 Axes>"
      ]
     },
     "metadata": {},
     "output_type": "display_data"
    }
   ],
   "source": [
    "fig, ax = plt.subplots(1,1, figsize=(4,3))\n",
    "\n",
    "GIR_insulin_low.plot(x='time', y='GIR', label='GIR', linewidth=1, ax=ax)\n",
    "GIR_insulin_high.plot(x='time', y='GIR', label='GIR', linewidth=1, ax=ax)\n",
    "GIR_insulin_low_intralipid.plot(x='time', y='GIR', label='GIR', linewidth=1, ax=ax)\n"
   ]
  },
  {
   "cell_type": "code",
   "execution_count": null,
   "metadata": {},
   "outputs": [],
   "source": []
  },
  {
   "cell_type": "code",
   "execution_count": null,
   "metadata": {},
   "outputs": [],
   "source": []
  },
  {
   "cell_type": "code",
   "execution_count": null,
   "metadata": {},
   "outputs": [],
   "source": []
  }
 ],
 "metadata": {
  "kernelspec": {
   "display_name": "skimpy-env",
   "language": "python",
   "name": "python3"
  },
  "language_info": {
   "codemirror_mode": {
    "name": "ipython",
    "version": 3
   },
   "file_extension": ".py",
   "mimetype": "text/x-python",
   "name": "python",
   "nbconvert_exporter": "python",
   "pygments_lexer": "ipython3",
   "version": "3.8.19"
  }
 },
 "nbformat": 4,
 "nbformat_minor": 2
}
