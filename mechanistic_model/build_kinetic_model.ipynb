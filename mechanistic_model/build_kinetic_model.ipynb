{
 "cells": [
  {
   "cell_type": "markdown",
   "metadata": {},
   "source": [
    "# Build kinetic models from the tfa model and sampling"
   ]
  },
  {
   "cell_type": "code",
   "execution_count": 1,
   "metadata": {},
   "outputs": [
    {
     "name": "stderr",
     "output_type": "stream",
     "text": [
      "2024-12-13 15:46:00,126 - thermomodel_Recon3thermoCurated - continuous - INFO - # Model initialized with units kcal/mol and temperature 298.15 K\n"
     ]
    }
   ],
   "source": [
    "# Load the tfa model \n",
    "from pytfa.io.json import load_json_model\n",
    "model_file = 'reduced_model_ETC_core_20240816-155234_continuous.json'\n",
    "tmodel = load_json_model(model_file)\n",
    "sol = tmodel.optimize()"
   ]
  },
  {
   "cell_type": "code",
   "execution_count": 2,
   "metadata": {},
   "outputs": [
    {
     "name": "stderr",
     "output_type": "stream",
     "text": [
      "2024-12-13 15:46:00,673 - Unnamed - WARNING - Metabolite bhb_e in pyTFA model is not part of any reaction and is omitted in the SKiMpy model \n",
      "2024-12-13 15:46:00,674 - Unnamed - WARNING - Metabolite hdca_e in pyTFA model is not part of any reaction and is omitted in the SKiMpy model \n",
      "2024-12-13 15:46:00,674 - Unnamed - WARNING - Metabolite co2_e in pyTFA model is not part of any reaction and is omitted in the SKiMpy model \n",
      "2024-12-13 15:46:00,675 - Unnamed - WARNING - Metabolite h_e in pyTFA model is not part of any reaction and is omitted in the SKiMpy model \n",
      "2024-12-13 15:46:00,676 - Unnamed - WARNING - Metabolite lac_L_e in pyTFA model is not part of any reaction and is omitted in the SKiMpy model \n",
      "2024-12-13 15:46:00,677 - Unnamed - WARNING - Metabolite o2_e in pyTFA model is not part of any reaction and is omitted in the SKiMpy model \n",
      "2024-12-13 15:46:00,677 - Unnamed - WARNING - Metabolite glc_D_e in pyTFA model is not part of any reaction and is omitted in the SKiMpy model \n",
      "2024-12-13 15:46:00,678 - Unnamed - WARNING - Metabolite pyr_e in pyTFA model is not part of any reaction and is omitted in the SKiMpy model \n"
     ]
    }
   ],
   "source": [
    "# Import the a kinetic model \n",
    "from skimpy.io.generate_from_pytfa import FromPyTFA\n",
    "\n",
    "small_molecules = ['h_c', 'h_e','h_i', 'h_m', 'na1_e', 'na1_c', 'na1_m','k_e','k_c']\n",
    "\n",
    "model_gen = FromPyTFA(small_molecules=small_molecules, max_revesible_deltag_0=1e3,)\n",
    "\n",
    "kmodel = model_gen.import_model(tmodel, sol.raw)\n",
    "\n",
    "kmodel.name = \"muscle_kinetic_model\"\n"
   ]
  },
  {
   "cell_type": "code",
   "execution_count": 3,
   "metadata": {},
   "outputs": [
    {
     "name": "stdout",
     "output_type": "stream",
     "text": [
      "bhb_e\n",
      "hdca_e\n",
      "co2_e\n",
      "h_e\n",
      "met h2o_e not in model\n",
      "lac_L_e\n",
      "o2_e\n",
      "glc_D_e\n",
      "pyr_e\n"
     ]
    }
   ],
   "source": [
    "# Impose boundary conditions\n",
    "\n",
    "from skimpy.core.modifiers import ConstantConcentration\n",
    "\n",
    "for r in tmodel.boundary:\n",
    "    met = [m for m in r.metabolites][0]\n",
    "    try:\n",
    "        k_met = kmodel.reactants[met.id]\n",
    "        boundary = ConstantConcentration(k_met)\n",
    "        kmodel.add_boundary_condition(boundary)\n",
    "        print(k_met)\n",
    "    except:\n",
    "        print(f'met {met} not in model')\n",
    "\n",
    "# Also assume intracellular sodium to be constant\n",
    "# boundary = ConstantConcentration(kmodel.reactants['na1_c']) \n",
    "# kmodel.add_boundary_condition(boundary)"
   ]
  },
  {
   "cell_type": "code",
   "execution_count": 4,
   "metadata": {},
   "outputs": [
    {
     "data": {
      "text/plain": [
       "True"
      ]
     },
     "execution_count": 4,
     "metadata": {},
     "output_type": "execute_result"
    }
   ],
   "source": [
    "# Export the model to yaml\n",
    "from skimpy.io.yaml import export_to_yaml\n",
    "export_to_yaml(kmodel, model_file.replace(\"_continuous.json\", \"_kinetic.yml\") )\n"
   ]
  },
  {
   "cell_type": "code",
   "execution_count": 5,
   "metadata": {},
   "outputs": [
    {
     "ename": "ZeroDivisionError",
     "evalue": "division by zero",
     "output_type": "error",
     "traceback": [
      "\u001b[0;31m---------------------------------------------------------------------------\u001b[0m",
      "\u001b[0;31mZeroDivisionError\u001b[0m                         Traceback (most recent call last)",
      "Cell \u001b[0;32mIn[5], line 1\u001b[0m\n\u001b[0;32m----> 1\u001b[0m \u001b[38;5;241;43m1\u001b[39;49m\u001b[38;5;241;43m/\u001b[39;49m\u001b[38;5;241;43m0\u001b[39;49m\n",
      "\u001b[0;31mZeroDivisionError\u001b[0m: division by zero"
     ]
    }
   ],
   "source": [
    "1/0"
   ]
  },
  {
   "cell_type": "markdown",
   "metadata": {},
   "source": [
    "# Parameterize the kinetic model following ORACLE framework"
   ]
  },
  {
   "cell_type": "code",
   "execution_count": null,
   "metadata": {},
   "outputs": [],
   "source": [
    "# Reload and prepare the model\n",
    "from skimpy.io.yaml import load_yaml_model\n",
    "kmodel = load_yaml_model(model_file.replace(\"_continuous.json\", \"_kinetic_curated.yml\"))\n",
    "\n",
    "# Compile the jacobian expressions\n",
    "NCPU = 12\n",
    "kmodel.prepare()\n",
    "kmodel.compile_jacobian(ncpu=NCPU)"
   ]
  },
  {
   "cell_type": "code",
   "execution_count": null,
   "metadata": {},
   "outputs": [],
   "source": []
  },
  {
   "cell_type": "code",
   "execution_count": null,
   "metadata": {},
   "outputs": [],
   "source": [
    "# Initiate a parameter sampler\n",
    "from skimpy.sampling.simple_parameter_sampler import SimpleParameterSampler\n",
    "\n",
    "params = SimpleParameterSampler.Parameters(n_samples = 100)\n",
    "sampler = SimpleParameterSampler(params)"
   ]
  },
  {
   "cell_type": "code",
   "execution_count": null,
   "metadata": {},
   "outputs": [],
   "source": [
    "# Load TFA samples \n",
    "import pandas as pd \n",
    "tfa_sample_file = 'reduced_model_ETC_core_20240701-184451_tfa_sampling.csv'\n",
    "tfa_samples = pd.read_csv(tfa_sample_file)"
   ]
  },
  {
   "cell_type": "code",
   "execution_count": null,
   "metadata": {},
   "outputs": [],
   "source": [
    "# Scaling parameters\n",
    "CONCENTRATION_SCALING = 1e6 # 1 mol to 1 umol\n",
    "TIME_SCALING = 1 # 1min\n",
    "DENSITY = 1200 # g/L \n",
    "GDW_GWW_RATIO = 1.0 # Fluxes are in gWW\n",
    "\n"
   ]
  },
  {
   "cell_type": "code",
   "execution_count": null,
   "metadata": {},
   "outputs": [
    {
     "ename": "KeyError",
     "evalue": "'AKGMALtm'",
     "output_type": "error",
     "traceback": [
      "\u001b[0;31m---------------------------------------------------------------------------\u001b[0m",
      "\u001b[0;31mKeyError\u001b[0m                                  Traceback (most recent call last)",
      "File \u001b[0;32m/opt/homebrew/Caskroom/miniconda/base/envs/skimpy-env/lib/python3.8/site-packages/pandas/core/indexes/base.py:3802\u001b[0m, in \u001b[0;36mIndex.get_loc\u001b[0;34m(self, key, method, tolerance)\u001b[0m\n\u001b[1;32m   3801\u001b[0m \u001b[38;5;28;01mtry\u001b[39;00m:\n\u001b[0;32m-> 3802\u001b[0m     \u001b[38;5;28;01mreturn\u001b[39;00m \u001b[38;5;28;43mself\u001b[39;49m\u001b[38;5;241;43m.\u001b[39;49m\u001b[43m_engine\u001b[49m\u001b[38;5;241;43m.\u001b[39;49m\u001b[43mget_loc\u001b[49m\u001b[43m(\u001b[49m\u001b[43mcasted_key\u001b[49m\u001b[43m)\u001b[49m\n\u001b[1;32m   3803\u001b[0m \u001b[38;5;28;01mexcept\u001b[39;00m \u001b[38;5;167;01mKeyError\u001b[39;00m \u001b[38;5;28;01mas\u001b[39;00m err:\n",
      "File \u001b[0;32m/opt/homebrew/Caskroom/miniconda/base/envs/skimpy-env/lib/python3.8/site-packages/pandas/_libs/index.pyx:138\u001b[0m, in \u001b[0;36mpandas._libs.index.IndexEngine.get_loc\u001b[0;34m()\u001b[0m\n",
      "File \u001b[0;32m/opt/homebrew/Caskroom/miniconda/base/envs/skimpy-env/lib/python3.8/site-packages/pandas/_libs/index.pyx:165\u001b[0m, in \u001b[0;36mpandas._libs.index.IndexEngine.get_loc\u001b[0;34m()\u001b[0m\n",
      "File \u001b[0;32mpandas/_libs/hashtable_class_helper.pxi:5745\u001b[0m, in \u001b[0;36mpandas._libs.hashtable.PyObjectHashTable.get_item\u001b[0;34m()\u001b[0m\n",
      "File \u001b[0;32mpandas/_libs/hashtable_class_helper.pxi:5753\u001b[0m, in \u001b[0;36mpandas._libs.hashtable.PyObjectHashTable.get_item\u001b[0;34m()\u001b[0m\n",
      "\u001b[0;31mKeyError\u001b[0m: 'AKGMALtm'",
      "\nThe above exception was the direct cause of the following exception:\n",
      "\u001b[0;31mKeyError\u001b[0m                                  Traceback (most recent call last)",
      "Cell \u001b[0;32mIn[9], line 17\u001b[0m\n\u001b[1;32m     12\u001b[0m path_for_output \u001b[38;5;241m=\u001b[39m \u001b[38;5;124m'\u001b[39m\u001b[38;5;124m./\u001b[39m\u001b[38;5;124m'\u001b[39m\u001b[38;5;241m+\u001b[39mtfa_sample_file\u001b[38;5;241m.\u001b[39mreplace(\u001b[38;5;124m\"\u001b[39m\u001b[38;5;124mcsv\u001b[39m\u001b[38;5;124m\"\u001b[39m,\u001b[38;5;124m'\u001b[39m\u001b[38;5;124m'\u001b[39m)\u001b[38;5;241m+\u001b[39m\u001b[38;5;124m'\u001b[39m\u001b[38;5;124m/paramter_pop_\u001b[39m\u001b[38;5;132;01m{}\u001b[39;00m\u001b[38;5;124m.h5\u001b[39m\u001b[38;5;124m'\u001b[39m\n\u001b[1;32m     15\u001b[0m \u001b[38;5;28;01mfor\u001b[39;00m i, sample \u001b[38;5;129;01min\u001b[39;00m tfa_samples\u001b[38;5;241m.\u001b[39miterrows():\n\u001b[1;32m     16\u001b[0m     \u001b[38;5;66;03m# Load fluxes and concentrations\u001b[39;00m\n\u001b[0;32m---> 17\u001b[0m     fluxes \u001b[38;5;241m=\u001b[39m \u001b[43mload_fluxes\u001b[49m\u001b[43m(\u001b[49m\u001b[43msample\u001b[49m\u001b[43m,\u001b[49m\u001b[43m \u001b[49m\u001b[43mtmodel\u001b[49m\u001b[43m,\u001b[49m\u001b[43m \u001b[49m\u001b[43mkmodel\u001b[49m\u001b[43m,\u001b[49m\n\u001b[1;32m     18\u001b[0m \u001b[43m                            \u001b[49m\u001b[43mdensity\u001b[49m\u001b[38;5;241;43m=\u001b[39;49m\u001b[43mDENSITY\u001b[49m\u001b[43m,\u001b[49m\n\u001b[1;32m     19\u001b[0m \u001b[43m                            \u001b[49m\u001b[43mratio_gdw_gww\u001b[49m\u001b[38;5;241;43m=\u001b[39;49m\u001b[43mGDW_GWW_RATIO\u001b[49m\u001b[43m,\u001b[49m\n\u001b[1;32m     20\u001b[0m \u001b[43m                            \u001b[49m\u001b[43mconcentration_scaling\u001b[49m\u001b[38;5;241;43m=\u001b[39;49m\u001b[43mCONCENTRATION_SCALING\u001b[49m\u001b[43m,\u001b[49m\n\u001b[1;32m     21\u001b[0m \u001b[43m                            \u001b[49m\u001b[43mtime_scaling\u001b[49m\u001b[38;5;241;43m=\u001b[39;49m\u001b[43mTIME_SCALING\u001b[49m\u001b[43m)\u001b[49m\n\u001b[1;32m     22\u001b[0m     concentrations \u001b[38;5;241m=\u001b[39m load_concentrations(sample, tmodel, kmodel,\n\u001b[1;32m     23\u001b[0m                                             concentration_scaling\u001b[38;5;241m=\u001b[39mCONCENTRATION_SCALING)\n\u001b[1;32m     25\u001b[0m     \u001b[38;5;66;03m# Fetch equilibrium constants\u001b[39;00m\n",
      "File \u001b[0;32m~/src/skimpy/skimpy/analysis/oracle/load_pytfa_solution.py:59\u001b[0m, in \u001b[0;36mload_fluxes\u001b[0;34m(solution_raw, tmodel, kmodel, density, ratio_gdw_gww, concentration_scaling, time_scaling, xmol_in_flux)\u001b[0m\n\u001b[1;32m     56\u001b[0m fluxes_in_kmodel \u001b[38;5;241m=\u001b[39m \u001b[38;5;28mlist\u001b[39m(kmodel\u001b[38;5;241m.\u001b[39mreactions\u001b[38;5;241m.\u001b[39mkeys())\n\u001b[1;32m     58\u001b[0m \u001b[38;5;66;03m# Convert to net-fluxes\u001b[39;00m\n\u001b[0;32m---> 59\u001b[0m solution_nf \u001b[38;5;241m=\u001b[39m  { this_rxn\u001b[38;5;241m.\u001b[39mid: (solution_raw[this_rxn\u001b[38;5;241m.\u001b[39mforward_variable\u001b[38;5;241m.\u001b[39mname] \\\n\u001b[1;32m     60\u001b[0m                   \u001b[38;5;241m-\u001b[39m solution_raw[this_rxn\u001b[38;5;241m.\u001b[39mreverse_variable\u001b[38;5;241m.\u001b[39mname])  \\\n\u001b[1;32m     61\u001b[0m                  \u001b[38;5;28;01mfor\u001b[39;00m this_rxn \u001b[38;5;129;01min\u001b[39;00m tmodel\u001b[38;5;241m.\u001b[39mreactions}\n\u001b[1;32m     63\u001b[0m \u001b[38;5;66;03m# Convert tmodel net fluxes to kmodel fluxes\u001b[39;00m\n\u001b[1;32m     64\u001b[0m flux_dict \u001b[38;5;241m=\u001b[39m {rxn: solution_nf[rxn]\u001b[38;5;241m*\u001b[39mflux_scaling_factor \u001b[38;5;28;01mfor\u001b[39;00m rxn \u001b[38;5;129;01min\u001b[39;00m fluxes_in_kmodel}\n",
      "File \u001b[0;32m~/src/skimpy/skimpy/analysis/oracle/load_pytfa_solution.py:59\u001b[0m, in \u001b[0;36m<dictcomp>\u001b[0;34m(.0)\u001b[0m\n\u001b[1;32m     56\u001b[0m fluxes_in_kmodel \u001b[38;5;241m=\u001b[39m \u001b[38;5;28mlist\u001b[39m(kmodel\u001b[38;5;241m.\u001b[39mreactions\u001b[38;5;241m.\u001b[39mkeys())\n\u001b[1;32m     58\u001b[0m \u001b[38;5;66;03m# Convert to net-fluxes\u001b[39;00m\n\u001b[0;32m---> 59\u001b[0m solution_nf \u001b[38;5;241m=\u001b[39m  { this_rxn\u001b[38;5;241m.\u001b[39mid: (\u001b[43msolution_raw\u001b[49m\u001b[43m[\u001b[49m\u001b[43mthis_rxn\u001b[49m\u001b[38;5;241;43m.\u001b[39;49m\u001b[43mforward_variable\u001b[49m\u001b[38;5;241;43m.\u001b[39;49m\u001b[43mname\u001b[49m\u001b[43m]\u001b[49m \\\n\u001b[1;32m     60\u001b[0m                   \u001b[38;5;241m-\u001b[39m solution_raw[this_rxn\u001b[38;5;241m.\u001b[39mreverse_variable\u001b[38;5;241m.\u001b[39mname])  \\\n\u001b[1;32m     61\u001b[0m                  \u001b[38;5;28;01mfor\u001b[39;00m this_rxn \u001b[38;5;129;01min\u001b[39;00m tmodel\u001b[38;5;241m.\u001b[39mreactions}\n\u001b[1;32m     63\u001b[0m \u001b[38;5;66;03m# Convert tmodel net fluxes to kmodel fluxes\u001b[39;00m\n\u001b[1;32m     64\u001b[0m flux_dict \u001b[38;5;241m=\u001b[39m {rxn: solution_nf[rxn]\u001b[38;5;241m*\u001b[39mflux_scaling_factor \u001b[38;5;28;01mfor\u001b[39;00m rxn \u001b[38;5;129;01min\u001b[39;00m fluxes_in_kmodel}\n",
      "File \u001b[0;32m/opt/homebrew/Caskroom/miniconda/base/envs/skimpy-env/lib/python3.8/site-packages/pandas/core/series.py:981\u001b[0m, in \u001b[0;36mSeries.__getitem__\u001b[0;34m(self, key)\u001b[0m\n\u001b[1;32m    978\u001b[0m     \u001b[38;5;28;01mreturn\u001b[39;00m \u001b[38;5;28mself\u001b[39m\u001b[38;5;241m.\u001b[39m_values[key]\n\u001b[1;32m    980\u001b[0m \u001b[38;5;28;01melif\u001b[39;00m key_is_scalar:\n\u001b[0;32m--> 981\u001b[0m     \u001b[38;5;28;01mreturn\u001b[39;00m \u001b[38;5;28;43mself\u001b[39;49m\u001b[38;5;241;43m.\u001b[39;49m\u001b[43m_get_value\u001b[49m\u001b[43m(\u001b[49m\u001b[43mkey\u001b[49m\u001b[43m)\u001b[49m\n\u001b[1;32m    983\u001b[0m \u001b[38;5;28;01mif\u001b[39;00m is_hashable(key):\n\u001b[1;32m    984\u001b[0m     \u001b[38;5;66;03m# Otherwise index.get_value will raise InvalidIndexError\u001b[39;00m\n\u001b[1;32m    985\u001b[0m     \u001b[38;5;28;01mtry\u001b[39;00m:\n\u001b[1;32m    986\u001b[0m         \u001b[38;5;66;03m# For labels that don't resolve as scalars like tuples and frozensets\u001b[39;00m\n",
      "File \u001b[0;32m/opt/homebrew/Caskroom/miniconda/base/envs/skimpy-env/lib/python3.8/site-packages/pandas/core/series.py:1089\u001b[0m, in \u001b[0;36mSeries._get_value\u001b[0;34m(self, label, takeable)\u001b[0m\n\u001b[1;32m   1086\u001b[0m     \u001b[38;5;28;01mreturn\u001b[39;00m \u001b[38;5;28mself\u001b[39m\u001b[38;5;241m.\u001b[39m_values[label]\n\u001b[1;32m   1088\u001b[0m \u001b[38;5;66;03m# Similar to Index.get_value, but we do not fall back to positional\u001b[39;00m\n\u001b[0;32m-> 1089\u001b[0m loc \u001b[38;5;241m=\u001b[39m \u001b[38;5;28;43mself\u001b[39;49m\u001b[38;5;241;43m.\u001b[39;49m\u001b[43mindex\u001b[49m\u001b[38;5;241;43m.\u001b[39;49m\u001b[43mget_loc\u001b[49m\u001b[43m(\u001b[49m\u001b[43mlabel\u001b[49m\u001b[43m)\u001b[49m\n\u001b[1;32m   1090\u001b[0m \u001b[38;5;28;01mreturn\u001b[39;00m \u001b[38;5;28mself\u001b[39m\u001b[38;5;241m.\u001b[39mindex\u001b[38;5;241m.\u001b[39m_get_values_for_loc(\u001b[38;5;28mself\u001b[39m, loc, label)\n",
      "File \u001b[0;32m/opt/homebrew/Caskroom/miniconda/base/envs/skimpy-env/lib/python3.8/site-packages/pandas/core/indexes/base.py:3804\u001b[0m, in \u001b[0;36mIndex.get_loc\u001b[0;34m(self, key, method, tolerance)\u001b[0m\n\u001b[1;32m   3802\u001b[0m     \u001b[38;5;28;01mreturn\u001b[39;00m \u001b[38;5;28mself\u001b[39m\u001b[38;5;241m.\u001b[39m_engine\u001b[38;5;241m.\u001b[39mget_loc(casted_key)\n\u001b[1;32m   3803\u001b[0m \u001b[38;5;28;01mexcept\u001b[39;00m \u001b[38;5;167;01mKeyError\u001b[39;00m \u001b[38;5;28;01mas\u001b[39;00m err:\n\u001b[0;32m-> 3804\u001b[0m     \u001b[38;5;28;01mraise\u001b[39;00m \u001b[38;5;167;01mKeyError\u001b[39;00m(key) \u001b[38;5;28;01mfrom\u001b[39;00m \u001b[38;5;21;01merr\u001b[39;00m\n\u001b[1;32m   3805\u001b[0m \u001b[38;5;28;01mexcept\u001b[39;00m \u001b[38;5;167;01mTypeError\u001b[39;00m:\n\u001b[1;32m   3806\u001b[0m     \u001b[38;5;66;03m# If we have a listlike key, _check_indexing_error will raise\u001b[39;00m\n\u001b[1;32m   3807\u001b[0m     \u001b[38;5;66;03m#  InvalidIndexError. Otherwise we fall through and re-raise\u001b[39;00m\n\u001b[1;32m   3808\u001b[0m     \u001b[38;5;66;03m#  the TypeError.\u001b[39;00m\n\u001b[1;32m   3809\u001b[0m     \u001b[38;5;28mself\u001b[39m\u001b[38;5;241m.\u001b[39m_check_indexing_error(key)\n",
      "\u001b[0;31mKeyError\u001b[0m: 'AKGMALtm'"
     ]
    }
   ],
   "source": [
    "from skimpy.analysis.oracle.load_pytfa_solution import load_fluxes, load_concentrations,\\\n",
    "      load_equilibrium_constants\n",
    "from skimpy.core.parameters import ParameterValuePopulation\n",
    "\n",
    "lambda_max_all = []\n",
    "lambda_min_all = []\n",
    "\n",
    "# Make a new directory for the output\n",
    "import os\n",
    "os.makedirs(tfa_sample_file.replace(\"csv\",''), exist_ok=True)\n",
    "\n",
    "path_for_output = './'+tfa_sample_file.replace(\"csv\",'')+'/paramter_pop_{}.h5'\n",
    "\n",
    "\n",
    "for i, sample in tfa_samples.iterrows():\n",
    "    # Load fluxes and concentrations\n",
    "    fluxes = load_fluxes(sample, tmodel, kmodel,\n",
    "                            density=DENSITY,\n",
    "                            ratio_gdw_gww=GDW_GWW_RATIO,\n",
    "                            concentration_scaling=CONCENTRATION_SCALING,\n",
    "                            time_scaling=TIME_SCALING)\n",
    "    concentrations = load_concentrations(sample, tmodel, kmodel,\n",
    "                                            concentration_scaling=CONCENTRATION_SCALING)\n",
    "    \n",
    "    # Fetch equilibrium constants\n",
    "    load_equilibrium_constants(sample, tmodel, kmodel,\n",
    "                               concentration_scaling=CONCENTRATION_SCALING,\n",
    "                               in_place=True)\n",
    "    \n",
    "    # Generate sampels and fetch slowest and fastest eigenvalues\n",
    "    params, lamda_max, lamda_min = sampler.sample(kmodel, fluxes, concentrations,\n",
    "                                                    only_stable=False,\n",
    "                                                    min_max_eigenvalues=True)\n",
    "    lambda_max_all.append(pd.DataFrame(lamda_max))\n",
    "    lambda_min_all.append(pd.DataFrame(lamda_min))\n",
    "\n",
    "    params_population = ParameterValuePopulation(params, kmodel)\n",
    "    params_population.save(path_for_output.format(i))\n",
    "\n",
    "\n",
    "# Process df and save dataframe\n",
    "lambda_max_all = pd.concat(lambda_max_all, axis=1)\n",
    "lambda_min_all = pd.concat(lambda_min_all, axis=1)\n"
   ]
  },
  {
   "cell_type": "code",
   "execution_count": null,
   "metadata": {},
   "outputs": [],
   "source": []
  },
  {
   "cell_type": "code",
   "execution_count": null,
   "metadata": {},
   "outputs": [],
   "source": []
  },
  {
   "cell_type": "code",
   "execution_count": null,
   "metadata": {},
   "outputs": [],
   "source": []
  }
 ],
 "metadata": {
  "kernelspec": {
   "display_name": "skimpy-env",
   "language": "python",
   "name": "python3"
  },
  "language_info": {
   "codemirror_mode": {
    "name": "ipython",
    "version": 3
   },
   "file_extension": ".py",
   "mimetype": "text/x-python",
   "name": "python",
   "nbconvert_exporter": "python",
   "pygments_lexer": "ipython3",
   "version": "3.8.19"
  }
 },
 "nbformat": 4,
 "nbformat_minor": 2
}
