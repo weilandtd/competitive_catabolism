{
 "cells": [
  {
   "cell_type": "markdown",
   "metadata": {},
   "source": [
    "# Build kinetic models from the tfa model and sampling"
   ]
  },
  {
   "cell_type": "code",
   "execution_count": 1,
   "metadata": {},
   "outputs": [
    {
     "name": "stderr",
     "output_type": "stream",
     "text": [
      "2024-07-10 10:20:09,126 - thermomodel_Recon3thermoCurated - continuous - INFO - # Model initialized with units kcal/mol and temperature 298.15 K\n"
     ]
    }
   ],
   "source": [
    "# Load the tfa model \n",
    "from pytfa.io.json import load_json_model\n",
    "model_file = 'reduced_model_ETC_core_20240710-100629_continuous.json'\n",
    "tmodel = load_json_model(model_file)\n",
    "sol = tmodel.optimize()"
   ]
  },
  {
   "cell_type": "code",
   "execution_count": 2,
   "metadata": {},
   "outputs": [
    {
     "name": "stderr",
     "output_type": "stream",
     "text": [
      "2024-07-10 10:20:10,312 - Unnamed - WARNING - Metabolite bhb_e in pyTFA model is not part of any reaction and is omitted in the SKiMpy model \n",
      "2024-07-10 10:20:10,313 - Unnamed - WARNING - Metabolite hdca_e in pyTFA model is not part of any reaction and is omitted in the SKiMpy model \n",
      "2024-07-10 10:20:10,315 - Unnamed - WARNING - Metabolite co2_e in pyTFA model is not part of any reaction and is omitted in the SKiMpy model \n",
      "2024-07-10 10:20:10,316 - Unnamed - WARNING - Metabolite h_e in pyTFA model is not part of any reaction and is omitted in the SKiMpy model \n",
      "2024-07-10 10:20:10,317 - Unnamed - WARNING - Metabolite lac_L_e in pyTFA model is not part of any reaction and is omitted in the SKiMpy model \n",
      "2024-07-10 10:20:10,319 - Unnamed - WARNING - Metabolite o2_e in pyTFA model is not part of any reaction and is omitted in the SKiMpy model \n",
      "2024-07-10 10:20:10,320 - Unnamed - WARNING - Metabolite glc_D_e in pyTFA model is not part of any reaction and is omitted in the SKiMpy model \n"
     ]
    }
   ],
   "source": [
    "# Import the a kinetic model \n",
    "from skimpy.io.generate_from_pytfa import FromPyTFA\n",
    "\n",
    "small_molecules = ['h_c', 'h_e','h_i', 'h_m', 'na1_e', 'na1_c']\n",
    "\n",
    "model_gen = FromPyTFA(small_molecules=small_molecules, max_revesible_deltag_0=1e3,)\n",
    "\n",
    "kmodel = model_gen.import_model(tmodel, sol.raw)\n",
    "\n",
    "kmodel.name = \"muscle_kinetic_model\"\n"
   ]
  },
  {
   "cell_type": "code",
   "execution_count": 3,
   "metadata": {},
   "outputs": [
    {
     "name": "stdout",
     "output_type": "stream",
     "text": [
      "met h2o_e not in model\n"
     ]
    }
   ],
   "source": [
    "# Impose boundary conditions\n",
    "\n",
    "from skimpy.core.modifiers import ConstantConcentration\n",
    "\n",
    "for r in tmodel.boundary:\n",
    "    met = [m for m in r.metabolites][0]\n",
    "    try:\n",
    "        k_met = kmodel.reactants[met.id]\n",
    "        boundary = ConstantConcentration(k_met)\n",
    "        kmodel.add_boundary_condition(boundary)\n",
    "    except:\n",
    "        print(f'met {met} not in model')\n",
    "\n",
    "# Also assume intracellular sodium to be constant\n",
    "# boundary = ConstantConcentration(kmodel.reactants['na1_c']) \n",
    "# kmodel.add_boundary_condition(boundary)"
   ]
  },
  {
   "cell_type": "code",
   "execution_count": 4,
   "metadata": {},
   "outputs": [
    {
     "data": {
      "text/plain": [
       "True"
      ]
     },
     "execution_count": 4,
     "metadata": {},
     "output_type": "execute_result"
    }
   ],
   "source": [
    "# Export the model to yaml\n",
    "from skimpy.io.yaml import export_to_yaml\n",
    "export_to_yaml(kmodel, model_file.replace(\"_continuous.json\", \"_kinetic.yml\") )\n"
   ]
  },
  {
   "cell_type": "code",
   "execution_count": null,
   "metadata": {},
   "outputs": [],
   "source": []
  },
  {
   "cell_type": "markdown",
   "metadata": {},
   "source": [
    "# Parameterize the kinetic model following ORACLE framework"
   ]
  },
  {
   "cell_type": "code",
   "execution_count": 6,
   "metadata": {},
   "outputs": [],
   "source": [
    "# Reload and prepare the model\n",
    "from skimpy.io.yaml import load_yaml_model\n",
    "kmodel = load_yaml_model(model_file.replace(\"_continuous.json\", \"_kinetic_curated.yml\"))\n",
    "\n",
    "# Compile the jacobian expressions\n",
    "NCPU = 12\n",
    "kmodel.prepare()\n",
    "kmodel.compile_jacobian(ncpu=NCPU)"
   ]
  },
  {
   "cell_type": "code",
   "execution_count": null,
   "metadata": {},
   "outputs": [
    {
     "data": {
      "text/plain": [
       "<module 'skimpy.mechanisms.rev_massaction' from '/home/daniel/miniconda3/envs/skimpy-env/lib/python3.8/site-packages/skimpy/mechanisms/rev_massaction.py'>"
      ]
     },
     "execution_count": 26,
     "metadata": {},
     "output_type": "execute_result"
    }
   ],
   "source": []
  },
  {
   "cell_type": "code",
   "execution_count": null,
   "metadata": {},
   "outputs": [],
   "source": [
    "# Initiate a parameter sampler\n",
    "from skimpy.sampling.simple_parameter_sampler import SimpleParameterSampler\n",
    "\n",
    "params = SimpleParameterSampler.Parameters(n_samples = 100)\n",
    "sampler = SimpleParameterSampler(params)"
   ]
  },
  {
   "cell_type": "code",
   "execution_count": null,
   "metadata": {},
   "outputs": [],
   "source": [
    "# Load TFA samples \n",
    "import pandas as pd \n",
    "tfa_sample_file = 'reduced_model_ETC_core_20240701-184451_tfa_sampling.csv'\n",
    "tfa_samples = pd.read_csv(tfa_sample_file)"
   ]
  },
  {
   "cell_type": "code",
   "execution_count": null,
   "metadata": {},
   "outputs": [],
   "source": [
    "# Scaling parameters\n",
    "CONCENTRATION_SCALING = 1e6 # 1 mol to 1 umol\n",
    "TIME_SCALING = 1 # 1min\n",
    "DENSITY = 1200 # g/L \n",
    "GDW_GWW_RATIO = 1.0 # Fluxes are in gWW\n",
    "\n"
   ]
  },
  {
   "cell_type": "code",
   "execution_count": null,
   "metadata": {},
   "outputs": [],
   "source": [
    "from skimpy.analysis.oracle.load_pytfa_solution import load_fluxes, load_concentrations,\\\n",
    "      load_equilibrium_constants\n",
    "from skimpy.core.parameters import ParameterValuePopulation\n",
    "\n",
    "lambda_max_all = []\n",
    "lambda_min_all = []\n",
    "\n",
    "# Make a new directory for the output\n",
    "import os\n",
    "os.makedirs(tfa_sample_file.replace(\"csv\",''), exist_ok=True)\n",
    "\n",
    "path_for_output = './'+tfa_sample_file.replace(\"csv\",'')+'/paramter_pop_{}.h5'\n",
    "\n",
    "\n",
    "for i, sample in tfa_samples.iterrows():\n",
    "    # Load fluxes and concentrations\n",
    "    fluxes = load_fluxes(sample, tmodel, kmodel,\n",
    "                            density=DENSITY,\n",
    "                            ratio_gdw_gww=GDW_GWW_RATIO,\n",
    "                            concentration_scaling=CONCENTRATION_SCALING,\n",
    "                            time_scaling=TIME_SCALING)\n",
    "    concentrations = load_concentrations(sample, tmodel, kmodel,\n",
    "                                            concentration_scaling=CONCENTRATION_SCALING)\n",
    "    \n",
    "    # Fetch equilibrium constants\n",
    "    load_equilibrium_constants(sample, tmodel, kmodel,\n",
    "                               concentration_scaling=CONCENTRATION_SCALING,\n",
    "                               in_place=True)\n",
    "    \n",
    "    # Generate sampels and fetch slowest and fastest eigenvalues\n",
    "    params, lamda_max, lamda_min = sampler.sample(kmodel, fluxes, concentrations,\n",
    "                                                    only_stable=False,\n",
    "                                                    min_max_eigenvalues=True)\n",
    "    lambda_max_all.append(pd.DataFrame(lamda_max))\n",
    "    lambda_min_all.append(pd.DataFrame(lamda_min))\n",
    "\n",
    "    params_population = ParameterValuePopulation(params, kmodel)\n",
    "    params_population.save(path_for_output.format(i))\n",
    "\n",
    "\n",
    "# Process df and save dataframe\n",
    "lambda_max_all = pd.concat(lambda_max_all, axis=1)\n",
    "lambda_min_all = pd.concat(lambda_min_all, axis=1)\n"
   ]
  },
  {
   "cell_type": "code",
   "execution_count": null,
   "metadata": {},
   "outputs": [],
   "source": []
  },
  {
   "cell_type": "code",
   "execution_count": null,
   "metadata": {},
   "outputs": [],
   "source": []
  },
  {
   "cell_type": "code",
   "execution_count": null,
   "metadata": {},
   "outputs": [],
   "source": []
  }
 ],
 "metadata": {
  "kernelspec": {
   "display_name": ".venv",
   "language": "python",
   "name": "python3"
  },
  "language_info": {
   "codemirror_mode": {
    "name": "ipython",
    "version": 3
   },
   "file_extension": ".py",
   "mimetype": "text/x-python",
   "name": "python",
   "nbconvert_exporter": "python",
   "pygments_lexer": "ipython3",
   "version": "3.8.13"
  }
 },
 "nbformat": 4,
 "nbformat_minor": 2
}
