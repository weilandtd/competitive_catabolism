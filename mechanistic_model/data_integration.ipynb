{
 "cells": [
  {
   "cell_type": "code",
   "execution_count": 2,
   "metadata": {},
   "outputs": [
    {
     "name": "stderr",
     "output_type": "stream",
     "text": [
      "2024-09-27 16:03:08,489 - thermomodel_Recon3thermoCurated - INFO - # Model initialized with units kcal/mol and temperature 298.15 K\n"
     ]
    }
   ],
   "source": [
    "from pytfa.io.json import load_json_model\n",
    "from cobra import Reaction\n",
    "\n",
    "redgem_file_name = 'reduced_model_ETC_core_20240816-155234.json'\n",
    "reduced_model = load_json_model(redgem_file_name)\n",
    "reduced_model.optimize()\n",
    "\n",
    "# remove sinks if there are still any\n",
    "reduced_model.remove_reactions([rxn.id for rxn in reduced_model.reactions if 'sink' in rxn.id])\n",
    "\n",
    "# Thermo for sodium\n",
    "reduced_model.thermo_data['metabolites']['cpd00971']['deltaGf_std'] = 1.0\n",
    "reduced_model.thermo_data['metabolites']['cpd00971']['deltaGf_err'] = 0.1\n",
    "reduced_model.thermo_data['metabolites']['cpd00971']['error']  = 'Nil'\n"
   ]
  },
  {
   "cell_type": "code",
   "execution_count": 3,
   "metadata": {},
   "outputs": [],
   "source": [
    "# Resting membrane potential\n",
    "reduced_model.compartments['c']['membranePot']['e'] = 60\n",
    "reduced_model.compartments['e']['membranePot']['c'] = -60\n",
    "# Resting mitochondrial membrane potential\n",
    "reduced_model.compartments['m']['membranePot']['c'] = 150\n",
    "reduced_model.compartments['c']['membranePot']['m'] = -150\n"
   ]
  },
  {
   "cell_type": "code",
   "execution_count": 4,
   "metadata": {},
   "outputs": [
    {
     "data": {
      "text/plain": [
       "{'pH': 8.0,\n",
       " 'ionicStr': 0.15,\n",
       " 'symbol': 'm',\n",
       " 'name': 'Mitochondria',\n",
       " 'c_max': 0.08,\n",
       " 'c_min': 1e-11,\n",
       " 'membranePot': {'c': 150,\n",
       "  'm': 0.0,\n",
       "  'v': 0.0,\n",
       "  'x': 0.0,\n",
       "  'e': 0.0,\n",
       "  't': 0.0,\n",
       "  'g': 0.0,\n",
       "  'r': 0.0,\n",
       "  'n': 0.0,\n",
       "  'p': 0.0,\n",
       "  'l': 0.0,\n",
       "  's': 0.0,\n",
       "  'i': 180}}"
      ]
     },
     "execution_count": 4,
     "metadata": {},
     "output_type": "execute_result"
    }
   ],
   "source": [
    "reduced_model.compartments['m']"
   ]
  },
  {
   "cell_type": "code",
   "execution_count": 5,
   "metadata": {},
   "outputs": [],
   "source": [
    "from cobra import Metabolite\n",
    "# Add extracellular phosphate\n",
    "pi_e = Metabolite('pi_e')\n",
    "pi_e.charge = reduced_model.metabolites.pi_c.charge\n",
    "pi_e.compartment = 'e'\n",
    "pi_e.formula = reduced_model.metabolites.pi_c.formula\n",
    "pi_e.name = reduced_model.metabolites.pi_c.name\n",
    "pi_e.annotation['seed_id'] = 'cpd00009'\n",
    "reduced_model.add_metabolites([pi_e,])\n",
    "\n",
    "# Add mitochondrial sodium\n",
    "na1_m = Metabolite('na1_m')\n",
    "na1_m.charge = 1\n",
    "na1_m.compartment = 'm'\n",
    "na1_m.formula = 'Na'\n",
    "na1_m.name = 'Sodium'\n",
    "na1_m.annotation['seed_id'] = 'cpd00971'\n",
    "\n",
    "# Add potassium intracellular and extracellular\n",
    "k_e = Metabolite('k_e')\n",
    "k_e.charge = 1\n",
    "k_e.compartment = 'e'\n",
    "k_e.formula = 'K'\n",
    "k_e.name = 'Potassium'\n",
    "k_e.annotation['seed_id'] = 'cpd00205'\n",
    "\n",
    "k_c = Metabolite('k_c')\n",
    "k_c.charge = 1\n",
    "k_c.compartment = 'c'\n",
    "k_c.formula = 'K'\n",
    "k_c.name = 'Potassium'\n",
    "k_c.annotation['seed_id'] = 'cpd00205'\n",
    "\n",
    "reduced_model.add_metabolites([pi_e, na1_m, k_e, k_c])\n"
   ]
  },
  {
   "cell_type": "code",
   "execution_count": 6,
   "metadata": {},
   "outputs": [],
   "source": [
    "# Thermodynamic annotation \n",
    "reduced_model.thermo_data['metabolites']['cpd00205']['deltaGf_std'] = 1.0\n",
    "reduced_model.thermo_data['metabolites']['cpd00205']['deltaGf_err'] = 0.1\n",
    "reduced_model.thermo_data['metabolites']['cpd00205']['error']  = 'Nil'\n",
    "reduced_model.thermo_data['metabolites']['cpd00205']['pKa']  = []\n",
    "reduced_model.thermo_data['metabolites']['cpd00971']['pKa']  = []\n"
   ]
  },
  {
   "cell_type": "code",
   "execution_count": 7,
   "metadata": {},
   "outputs": [
    {
     "data": {
      "text/plain": [
       "[{'id': 'cpd00971',\n",
       "  'mass_std': 23,\n",
       "  'name': 'Sodium',\n",
       "  'formula': 'Na',\n",
       "  'charge_std': 1,\n",
       "  'struct_cues': {'Nap': 1},\n",
       "  'nH_std': 0,\n",
       "  'deltaGf_std': 1.0,\n",
       "  'deltaGf_err': 0.1,\n",
       "  'error': 'Nil',\n",
       "  'pKa': []}]"
      ]
     },
     "execution_count": 7,
     "metadata": {},
     "output_type": "execute_result"
    }
   ],
   "source": [
    "[  met for met in reduced_model.thermo_data['metabolites'].values() if met['formula'] == 'Na' ]"
   ]
  },
  {
   "cell_type": "code",
   "execution_count": 8,
   "metadata": {},
   "outputs": [],
   "source": [
    "# Add phosphate importy \n",
    "pit1 = Reaction('PIt1') # SLC20A1\n",
    "reduced_model.add_reactions([ pit1,])\n",
    "pit1.reaction = 'pi_e + 2 na1_e <=> pi_c + 2 na1_c'\n",
    "# Phosphate export \n",
    "pie = Reaction('PiE') # ???\n",
    "reduced_model.add_reactions([ pie,])\n",
    "pie.reaction = 'pi_e <=> pi_c '\n"
   ]
  },
  {
   "cell_type": "code",
   "execution_count": 9,
   "metadata": {},
   "outputs": [],
   "source": [
    "# Add sodium pump \n",
    "na1_pump = Reaction('NaK_pump')\n",
    "reduced_model.add_reactions([ na1_pump,])\n",
    "na1_pump.reaction = '3 na1_c + 2 k_e + atp_c + h2o_c -> adp_c + pi_c + h_c + 3 na1_e + 2 k_c'\n",
    "\n",
    "# Potassium channel \n",
    "k_channel = Reaction('K_channel')\n",
    "reduced_model.add_reactions([ k_channel,])\n",
    "k_channel.reaction = 'k_e <=> k_c'\n",
    "\n",
    "# Dummy for all the other sodium co-transport\n",
    "na1_dummy = Reaction('Na_dummy')\n",
    "reduced_model.add_reactions([ na1_dummy,])\n",
    "na1_dummy.reaction = 'na1_e <=> na1_c'"
   ]
  },
  {
   "cell_type": "code",
   "execution_count": 10,
   "metadata": {},
   "outputs": [],
   "source": [
    "# PH Homeostasis\n",
    "h_channel = Reaction('H_channel')\n",
    "reduced_model.add_reactions([ h_channel,])\n",
    "h_channel.reaction = 'h_e <=> h_c'\n"
   ]
  },
  {
   "cell_type": "code",
   "execution_count": 11,
   "metadata": {},
   "outputs": [],
   "source": [
    "# Model the establishment of mitochondrial membrane potential\n",
    "na_h_antiport = Reaction('NaH_antiport')\n",
    "reduced_model.add_reactions([ na_h_antiport,])\n",
    "na_h_antiport.reaction = 'na1_m + h_c <=> na1_c + h_m'\n",
    "\n",
    "# Sodium channel\n",
    "na1_channel = Reaction('Na_channel')\n",
    "reduced_model.add_reactions([ na1_channel,])\n",
    "na1_channel.reaction = 'na1_c <=> na1_m'"
   ]
  },
  {
   "cell_type": "code",
   "execution_count": null,
   "metadata": {},
   "outputs": [],
   "source": []
  },
  {
   "cell_type": "code",
   "execution_count": 12,
   "metadata": {},
   "outputs": [
    {
     "data": {
      "text/plain": [
       "'hdca_c + na1_c <=> hdca_e + na1_e'"
      ]
     },
     "execution_count": 12,
     "metadata": {},
     "output_type": "execute_result"
    }
   ],
   "source": [
    "FATP1t = reduced_model.reactions.get_by_id('FATP1t')\n",
    "FATP1t.reaction"
   ]
  },
  {
   "cell_type": "code",
   "execution_count": 13,
   "metadata": {},
   "outputs": [],
   "source": [
    "# Remodel the FAPT1t reactions substitute sodium for protons \n",
    "FATP1t = reduced_model.reactions.get_by_id('FATP1t')\n",
    "FATP1t.add_metabolites({reduced_model.metabolites.na1_c: 1, \n",
    "                        reduced_model.metabolites.na1_e: -1 ,\n",
    "                        reduced_model.metabolites.h_c: -1, \n",
    "                        reduced_model.metabolites.h_e: 1})\n"
   ]
  },
  {
   "cell_type": "code",
   "execution_count": 14,
   "metadata": {},
   "outputs": [
    {
     "name": "stderr",
     "output_type": "stream",
     "text": [
      "100%|██████████| 5/5 [00:00<00:00, 3067.81it/s]\n"
     ]
    }
   ],
   "source": [
    "# Remove constraints of type ModelConstraints \n",
    "from tqdm import tqdm\n",
    "\n",
    "cons_subclass = reduced_model._cons_kinds['ModelConstraint']\n",
    "for cons in tqdm(cons_subclass):\n",
    "    reduced_model.remove_constraint(cons)\n",
    "\n",
    "reduced_model.repair()\n"
   ]
  },
  {
   "cell_type": "code",
   "execution_count": 15,
   "metadata": {},
   "outputs": [
    {
     "name": "stderr",
     "output_type": "stream",
     "text": [
      "2024-09-27 16:03:08,853 - thermomodel_Recon3thermoCurated - INFO - # Model preparation starting...\n",
      "2024-09-27 16:03:08,862 - thermomodel_Recon3thermoCurated - INFO - # Model preparation done.\n",
      "2024-09-27 16:03:08,862 - thermomodel_Recon3thermoCurated - INFO - # Model conversion starting...\n",
      "2024-09-27 16:03:09,014 - thermomodel_Recon3thermoCurated - INFO - # Model conversion done.\n",
      "2024-09-27 16:03:09,014 - thermomodel_Recon3thermoCurated - INFO - # Updating cobra_model variables...\n",
      "2024-09-27 16:03:09,016 - thermomodel_Recon3thermoCurated - INFO - # cobra_model variables are up-to-date\n"
     ]
    }
   ],
   "source": [
    "# Set h_c to h_i \n",
    "h_i = reduced_model.metabolites.h_i\n",
    "h_c = reduced_model.metabolites.h_c\n",
    "for r in reduced_model.reactions:\n",
    "    if h_i in r.metabolites:\n",
    "        stoich = r.metabolites[h_i]\n",
    "        r.add_metabolites({h_i: -stoich, h_c: stoich})\n",
    "\n",
    "reduced_model.prepare()\n",
    "reduced_model.convert()\n"
   ]
  },
  {
   "cell_type": "code",
   "execution_count": 16,
   "metadata": {},
   "outputs": [
    {
     "data": {
      "text/plain": [
       "{'id': 'cpd00009', 'pKa': [1.8, 6.95], 'error': 'Nil', 'deltaGf_std': -261.974, 'deltaGf_err': 0.5, 'mass': 96, 'nH_std': 1, 'charge_std': -2, 'struct_cues': {'orthophosphate': 1}, 'deltaGf_tr': -252.44964311034005, 'pH': 7.4, 'ionicStr': 0.15}"
      ]
     },
     "execution_count": 16,
     "metadata": {},
     "output_type": "execute_result"
    }
   ],
   "source": [
    "reduced_model.metabolites.pi_e.thermo"
   ]
  },
  {
   "cell_type": "code",
   "execution_count": 17,
   "metadata": {},
   "outputs": [
    {
     "name": "stdout",
     "output_type": "stream",
     "text": [
      "HEX1 : -4.0914002 < -4.0914002 < -3.8914001999999996 kcal/mol\n",
      "PGI : 0.3063102 < 0.3063102 < 0.5063102 kcal/mol\n",
      "PFK : -3.6611894 < -3.6611894 < -3.4611894 kcal/mol\n",
      "FBA : 5.5883428 < 5.5883428 < 5.7883428 kcal/mol\n",
      "TPI : 1.2384335999999998 < 1.292545 < 1.4384336 kcal/mol\n",
      "GAPD : 1.4057377999999998 < 1.4057377999999998 < 1.6057378 kcal/mol\n",
      "PGK : 4.3933128 < 4.3933128 < 4.5933128 kcal/mol\n",
      "PGM : 0.9516264 < 1.1516264 < 1.1516264 kcal/mol\n",
      "ENO : 1.692545 < 1.692545 < 1.8925450000000001 kcal/mol\n",
      "PYK : -7.6047883999999994 < -7.6047883999999994 < -7.4047884 kcal/mol\n",
      "LDH_L : 5.899050600000001 < 6.0990506 < 6.0990506 kcal/mol\n",
      "LDH_Lm : 7.8110986 < 7.8110986 < 8.0110986 kcal/mol\n"
     ]
    }
   ],
   "source": [
    "# Refine Glycolysis corrected delta G constraints from Lehninger:\n",
    "# Units are in kJ/mol\n",
    "glycolysis_thermodynamics = {\n",
    "    'HEX1': -16.7,\n",
    "    'PGI': 1.7,\n",
    "    'PFK': -14.9,\n",
    "    'FBA': 23.8,\n",
    "    'TPI': 5.6, # Equilibrator value\n",
    "    'GAPD': 6.3,\n",
    "    'PGK': 18.8,\n",
    "    'PGM': 4.4, \n",
    "    'ENO': 7.5,\n",
    "    'PYK': -31.4,\n",
    "    'LDH_L': 25.1,\n",
    "    'LDH_Lm': 33.1,\n",
    "    }\n",
    "\n",
    "# Converstion to kcal/mol\n",
    "scaling = 0.239006\n",
    "for r_id, dg in glycolysis_thermodynamics.items():\n",
    "    dgo = reduced_model.delta_gstd.get_by_id(r_id).variable\n",
    "    try:\n",
    "        dgo.ub = dg * scaling + 0.1\n",
    "        dgo.lb = dg * scaling - 0.1\n",
    "    except ValueError:\n",
    "        dgo.lb = dg * scaling - 0.1\n",
    "        dgo.ub = dg * scaling + 0.1\n",
    "\n",
    "    reduced_model.optimize()\n",
    "    print(f\"{r_id} : {dgo.lb} < {dgo.primal} < {dgo.ub} kcal/mol\")\n",
    "\n",
    "\n",
    "sol = reduced_model.optimize()"
   ]
  },
  {
   "cell_type": "code",
   "execution_count": 18,
   "metadata": {},
   "outputs": [
    {
     "data": {
      "text/html": [
       "\n",
       "        <table>\n",
       "            <tr>\n",
       "                <td><strong>Reaction identifier</strong></td><td>PGK</td>\n",
       "            </tr><tr>\n",
       "                <td><strong>Name</strong></td><td>Phosphoglycerate Kinase</td>\n",
       "            </tr><tr>\n",
       "                <td><strong>Memory address</strong></td>\n",
       "                <td>0x07fd499512f10</td>\n",
       "            </tr><tr>\n",
       "                <td><strong>Stoichiometry</strong></td>\n",
       "                <td>\n",
       "                    <p style='text-align:right'>3pg_c + atp_c <=> 13dpg_c + adp_c</p>\n",
       "                    <p style='text-align:right'>3-Phospho-D-Glycerate + Adenosine Triphosphate <=> 3-Phospho-D-Glyceroyl Phosphate + Adenosine Diphosphate</p>\n",
       "                </td>\n",
       "            </tr><tr>\n",
       "                <td><strong>GPR</strong></td><td>5230.1 or 375056.1 or 5232.1</td>\n",
       "            </tr><tr>\n",
       "                <td><strong>Lower bound</strong></td><td>-200.0</td>\n",
       "            </tr><tr>\n",
       "                <td><strong>Upper bound</strong></td><td>200.0</td>\n",
       "            </tr>\n",
       "        </table>\n",
       "        "
      ],
      "text/plain": [
       "<Reaction PGK at 0x7fd499512f10>"
      ]
     },
     "execution_count": 18,
     "metadata": {},
     "output_type": "execute_result"
    }
   ],
   "source": [
    "reduced_model.reactions.PGK"
   ]
  },
  {
   "cell_type": "code",
   "execution_count": 19,
   "metadata": {},
   "outputs": [
    {
     "data": {
      "text/plain": [
       "{'id': 'cpd00009', 'pKa': [1.8, 6.95], 'error': 'Nil', 'deltaGf_std': -261.974, 'deltaGf_err': 0.5, 'mass': 96, 'nH_std': 1, 'charge_std': -2, 'struct_cues': {'orthophosphate': 1}, 'deltaGf_tr': -252.44964311034005, 'pH': 7.4, 'ionicStr': 0.15}"
      ]
     },
     "execution_count": 19,
     "metadata": {},
     "output_type": "execute_result"
    }
   ],
   "source": [
    "reduced_model.metabolites.get_by_id('pi_e').thermo\n"
   ]
  },
  {
   "cell_type": "markdown",
   "metadata": {},
   "source": []
  },
  {
   "cell_type": "code",
   "execution_count": null,
   "metadata": {},
   "outputs": [],
   "source": []
  },
  {
   "cell_type": "code",
   "execution_count": 20,
   "metadata": {},
   "outputs": [
    {
     "name": "stdout",
     "output_type": "stream",
     "text": [
      "PDHm : -8.0828004 < -8.0828004 < -7.8828004 kcal/mol\n",
      "CSm : -7.819893799999999 < -7.819893799999999 < -7.6198938 kcal/mol\n",
      "ACONTm : 3.0787798 < 3.0787798 < 3.2787798 kcal/mol\n",
      "ICDHxm : 2.29006 < 2.29006 < 2.49006 kcal/mol\n",
      "AKGDm : -8.106701 < -8.106701 < -7.906701 kcal/mol\n",
      "SUCOAS1m : -0.7931174 < -0.5931174 < -0.5931174 kcal/mol\n",
      "r0509 : -5.8600446 < -5.8600446 < -5.660044600000001 kcal/mol\n",
      "FUMm : -1.0082228 < -1.0082228 < -0.8082228 kcal/mol\n",
      "MDHm : 6.9984782 < 6.9984782 < 7.198478199999999 kcal/mol\n",
      "MDH : 7.614685381248 < 7.614685381248 < 7.814685381247999 kcal/mol\n",
      "ADK1 : -0.02829820000000001 < -0.02829820000000001 < 0.17170180000000002 kcal/mol\n",
      "NDPK1m : -0.7453162 < -0.7453162 < -0.5453162 kcal/mol\n",
      "FADH2ETC : -8.465209999999999 < -8.465209999999999 < -8.26521 kcal/mol\n",
      "G3PD1 : 5.3015356 < 5.3015356 < 5.5015355999999995 kcal/mol\n",
      "r0205 : -14.3686582 < -14.3686582 < -14.168658200000001 kcal/mol\n",
      "PiC : -0.40810359062400003 < -0.40810359062400003 < -0.208103590624 kcal/mol\n",
      "PPA : -4.641114 < -4.641114 < -4.441114000000001 kcal/mol\n",
      "FACOAL160i : -3.68509 < -3.68509 < -3.48509 kcal/mol\n",
      "BDHm : 1.8120479999999999 < 1.8120479999999999 < 2.012048 kcal/mol\n",
      "OCOAT1m : 2.9114755999999997 < 2.9114755999999997 < 3.1114756 kcal/mol\n",
      "ACACT1rm : 5.8751500000000005 < 5.968633070210639 < 6.07515 kcal/mol\n",
      "C160CPT1 : 0.4258132 < 0.4258132 < 0.6258132 kcal/mol\n"
     ]
    }
   ],
   "source": [
    "# Refine TCA corrected delta G constraints from Lehninger:\n",
    "# Units are in kJ/mol\n",
    "tca_thermodynamics = {\n",
    "    'PDHm' : -33.4,\n",
    "    'CSm' : -32.3,\n",
    "    'ACONTm' : 13.3,\n",
    "    'ICDHxm' : 10.0, # Equilibrator value ?!?!\n",
    "    'AKGDm' : -33.5,\n",
    "    'SUCOAS1m' : -2.9,\n",
    "    'r0509' : -24.1, # Equilibrator value (EC: 1.3.5.1) \n",
    "    'FUMm': -3.8,\n",
    "    'MDHm' : 29.7,\n",
    "    'MDH': 29.7 + 2.3 * 2 * 310 * 2.26 * (0.8) /1000 , # MDH delta proton correction in cytosol (nH 2.3 RT * delta pH)\n",
    "    'ADK1': 0.3, # Equilibrator value ?!\n",
    "    'NDPK1m': -2.7, # Equilibrator value  (EC: 2.7.4.6)\n",
    "    'FADH2ETC': -70/2, # Equilibrator  value ?\n",
    "    'G3PD1': 22.6, # Equilibrator value ?!?\n",
    "    'r0205': -59.7, # Equilibrator value ?!?\n",
    "    'PiC': 2.3 * 310 * 2.26 * (-0.8) / 1000 ,  # Charge NEUTRAL transport of phophate -> only proton force (nH 2.3 RT * delta pH)\n",
    "    'PPA': -19, # \n",
    "    'FACOAL160i': -15, # Lehninge\n",
    "    'BDHm': 8.0, # Equilibrator value (EC: 1.1.1.30)\n",
    "    'OCOAT1m': 12.6, # Equilibrator value (EC: 2.8.3.5)\n",
    "    'ACACT1rm': 25, # Equilibrator value (EC: 2.3.1.9)\n",
    "    'C160CPT1': -2.2, # Equilibrator value (EC: 2.3.1.21 reverse)\n",
    "    'C160CPT1': 2.2, # Equilibrator value (EC: 2.3.1.21)\n",
    "}\n",
    "# Converstion to kcal/mol\n",
    "scaling = 0.239006\n",
    "for r_id, dg in tca_thermodynamics.items():\n",
    "    dgo = reduced_model.delta_gstd.get_by_id(r_id).variable\n",
    "    try:\n",
    "        dgo.ub = dg * scaling + 0.1\n",
    "        dgo.lb = dg * scaling - 0.1\n",
    "    except ValueError:\n",
    "        dgo.lb = dg * scaling - 0.1\n",
    "        dgo.ub = dg * scaling + 0.1\n",
    "\n",
    "    reduced_model.optimize()\n",
    "    print(f\"{r_id} : {dgo.lb} < {dgo.primal} < {dgo.ub} kcal/mol\")\n",
    "    \n",
    "\n",
    "sol = reduced_model.optimize()"
   ]
  },
  {
   "cell_type": "code",
   "execution_count": null,
   "metadata": {},
   "outputs": [],
   "source": []
  },
  {
   "cell_type": "code",
   "execution_count": 21,
   "metadata": {},
   "outputs": [
    {
     "name": "stdout",
     "output_type": "stream",
     "text": [
      "AKGMALtm : akg_m + mal_L_c <=> akg_c + mal_L_m 0.0012994733051527874 kcal/mol\n",
      "ASPGLUm : asp_L_m + glu_L_c + h_c --> asp_L_c + glu_L_m + h_m -4.550942133284353 kcal/mol\n",
      "ATPtm : adp_c + atp_m <=> adp_m + atp_c -3.4080072060923845 kcal/mol\n",
      "BHBt : bhb_e + h_e <=> bhb_c + h_c 0.27246543423115455 kcal/mol\n",
      "BHBtm : bhb_c + h_c <=> bhb_m + h_m -1.0902086818095462 kcal/mol\n",
      "CO2tm : co2_c <=> co2_m 0.0 kcal/mol\n",
      "FATP1t : h_c + hdca_c <=> h_e + hdca_e -0.27196881644598747 kcal/mol\n",
      "GLCt1r : glc_D_e <=> glc_D_c 0.0 kcal/mol\n",
      "H2Otm : h2o_c <=> h2o_m 0 kcal/mol\n",
      "L_LACtm : h_c + lac_L_c <=> h_m + lac_L_m -1.0905609991066534 kcal/mol\n",
      "O2tm : o2_c <=> o2_m 0.0 kcal/mol\n",
      "PYRt2m : h_c + pyr_c <=> h_m + pyr_m -1.0906689378694914 kcal/mol\n",
      "r2435 : crn_m + pmtcrn_c <=> crn_c + pmtcrn_m 1.3372807472933346e-05 kcal/mol\n",
      "CO2t : co2_e <=> co2_c 0.0 kcal/mol\n",
      "H2Ot : h2o_e <=> h2o_c 0 kcal/mol\n",
      "L_LACt2r : h_e + lac_L_e <=> h_c + lac_L_c 0.27261990058316243 kcal/mol\n",
      "NAt3_1 : h_e + na1_c <=> h_c + na1_e 0.27266723446737373 kcal/mol\n",
      "O2t : o2_e <=> o2_c 0.0 kcal/mol\n",
      "PIt1 : 2.0 na1_e + pi_e <=> 2.0 na1_c + pi_c -0.03474280334026858 kcal/mol\n",
      "PiE : pi_e <=> pi_c 2.732577196659731 kcal/mol\n",
      "NaK_pump : atp_c + h2o_c + 2.0 k_e + 3.0 na1_c --> adp_c + h_c + 2.0 k_c + 3.0 na1_e + pi_c -5.548590778287141 kcal/mol\n",
      "K_channel : k_e <=> k_c -1.38366 kcal/mol\n",
      "H_channel : h_e <=> h_c -1.1109927655326262 kcal/mol\n",
      "NaH_antiport : h_c + na1_m <=> h_m + na1_c -1.0906689378694914 kcal/mol\n",
      "Na_channel : na1_c <=> na1_m -3.4591499999999997 kcal/mol\n"
     ]
    },
    {
     "data": {
      "text/html": [
       "<strong><em>Optimal</em> solution with objective value 172.417</strong><br><div>\n",
       "<style scoped>\n",
       "    .dataframe tbody tr th:only-of-type {\n",
       "        vertical-align: middle;\n",
       "    }\n",
       "\n",
       "    .dataframe tbody tr th {\n",
       "        vertical-align: top;\n",
       "    }\n",
       "\n",
       "    .dataframe thead th {\n",
       "        text-align: right;\n",
       "    }\n",
       "</style>\n",
       "<table border=\"1\" class=\"dataframe\">\n",
       "  <thead>\n",
       "    <tr style=\"text-align: right;\">\n",
       "      <th></th>\n",
       "      <th>fluxes</th>\n",
       "      <th>reduced_costs</th>\n",
       "    </tr>\n",
       "  </thead>\n",
       "  <tbody>\n",
       "    <tr>\n",
       "      <th>ACACT1rm</th>\n",
       "      <td>-1.000000</td>\n",
       "      <td>None</td>\n",
       "    </tr>\n",
       "    <tr>\n",
       "      <th>ACONTm</th>\n",
       "      <td>12.861111</td>\n",
       "      <td>None</td>\n",
       "    </tr>\n",
       "    <tr>\n",
       "      <th>AKGDm</th>\n",
       "      <td>12.861111</td>\n",
       "      <td>None</td>\n",
       "    </tr>\n",
       "    <tr>\n",
       "      <th>AKGMALtm</th>\n",
       "      <td>0.000000</td>\n",
       "      <td>None</td>\n",
       "    </tr>\n",
       "    <tr>\n",
       "      <th>ASPGLUm</th>\n",
       "      <td>0.000000</td>\n",
       "      <td>None</td>\n",
       "    </tr>\n",
       "    <tr>\n",
       "      <th>...</th>\n",
       "      <td>...</td>\n",
       "      <td>...</td>\n",
       "    </tr>\n",
       "    <tr>\n",
       "      <th>K_channel</th>\n",
       "      <td>0.000000</td>\n",
       "      <td>None</td>\n",
       "    </tr>\n",
       "    <tr>\n",
       "      <th>Na_dummy</th>\n",
       "      <td>0.000000</td>\n",
       "      <td>None</td>\n",
       "    </tr>\n",
       "    <tr>\n",
       "      <th>H_channel</th>\n",
       "      <td>0.000000</td>\n",
       "      <td>None</td>\n",
       "    </tr>\n",
       "    <tr>\n",
       "      <th>NaH_antiport</th>\n",
       "      <td>0.000000</td>\n",
       "      <td>None</td>\n",
       "    </tr>\n",
       "    <tr>\n",
       "      <th>Na_channel</th>\n",
       "      <td>0.000000</td>\n",
       "      <td>None</td>\n",
       "    </tr>\n",
       "  </tbody>\n",
       "</table>\n",
       "<p>79 rows × 2 columns</p>\n",
       "</div>"
      ],
      "text/plain": [
       "<Solution 172.417 at 0x7fd49856f160>"
      ]
     },
     "execution_count": 21,
     "metadata": {},
     "output_type": "execute_result"
    }
   ],
   "source": [
    "# Make sure that transporters dont have unrealistic equilibrium constants\n",
    "EPSILON_DG = 1e-6\n",
    "\n",
    "exceptions = ['ATPS4mi','CYOR_u10mi','CYOOm2i','NADH2_u10mi','PiC','Na_dummy']\n",
    "# Print transport deltaG0\n",
    "for r in reduced_model.reactions:\n",
    "    if r.thermo['isTrans'] and (r.id not in exceptions):\n",
    "        try:\n",
    "            print(f\"{r.id} : {r.reaction} {r.thermo['deltaGR']} kcal/mol\")\n",
    "            dgo = reduced_model.delta_gstd.get_by_id(r.id)\n",
    "            dgo.variable.ub = r.thermo['deltaGR'] + EPSILON_DG\n",
    "            dgo.variable.lb = r.thermo['deltaGR'] - EPSILON_DG\n",
    "        except KeyError:\n",
    "            pass\n",
    "\n",
    "# The sodium channels model all other non-equilibrium sodium transport\n",
    "# reactions\n",
    "reduced_model.delta_gstd.Na_dummy.variable.lb = -5\n",
    "reduced_model.delta_gstd.Na_dummy.variable.ub = 5\n",
    "\n",
    "reduced_model.optimize()\n",
    "\n"
   ]
  },
  {
   "cell_type": "code",
   "execution_count": 22,
   "metadata": {},
   "outputs": [
    {
     "name": "stdout",
     "output_type": "stream",
     "text": [
      "MDH :  mal_L_c + nad_c <=> 2.0 h_c + nadh_c + oaa_c , 7.614685381248 < 7.614685381248 < 7.814685381247999 kcal/mol\n",
      "ASPTA :  akg_c + asp_L_c <=> glu_L_c + oaa_c , -3.143823519664295 < -3.143823519664295 < 0.856176480335705 kcal/mol\n",
      "ASPTAm :  akg_m + asp_L_m <=> glu_L_m + oaa_m , -3.144983579865368 < -3.144983579865368 < 0.855016420134632 kcal/mol\n",
      "MDHm :  mal_L_m + nad_m <=> 2.0 h_m + nadh_m + oaa_m , 6.9984782 < 6.9984782 < 7.198478199999999 kcal/mol\n",
      "ASPGLUm :  asp_L_m + glu_L_c + h_c --> asp_L_c + glu_L_m + h_m , -4.5509431332843535 < -4.5509431332843535 < -4.550941133284353 kcal/mol\n",
      "AKGMALtm :  akg_m + mal_L_c <=> akg_c + mal_L_m , 0.0012984733051527874 < 0.0012984733051527874 < 0.0013004733051527873 kcal/mol\n"
     ]
    }
   ],
   "source": [
    "aspartate_malate_shuttle = ['MDH', 'ASPTA', 'ASPTAm', 'MDHm', 'ASPGLUm', 'AKGMALtm']\n",
    "# print thermodynamics for aspartate malate shuttle\n",
    "\n",
    "for r_id in aspartate_malate_shuttle:\n",
    "    r = reduced_model.reactions.get_by_id(r_id)\n",
    "    dgo = reduced_model.delta_gstd.get_by_id(r_id).variable\n",
    "    print(f\"{r_id} :  {r.reaction} , {dgo.lb} < {dgo.primal} < {dgo.ub} kcal/mol\")"
   ]
  },
  {
   "cell_type": "code",
   "execution_count": 23,
   "metadata": {},
   "outputs": [
    {
     "name": "stdout",
     "output_type": "stream",
     "text": [
      "Integrate cytosolic ATP/ADP ratio: 8-10 \n",
      "ATP yield: 172.41666666666669\n",
      "Integrate mitochondrial ATP/ADP ratio: 2-8\n",
      "ATP yield: 172.4166666666666\n",
      "Integrate mitochondrial GTP/GDP ratio: 10-300\n",
      "ATP yield: 172.4166666666666\n",
      "Integrate mitochondrial NAD+/NADH ratio: 5-20\n",
      "ATP yield: 172.4166666666666\n",
      "Integrate cytoplasmic NAD+/NADH ratio: 50-1000\n",
      "ATP yield: 172.4166666666666\n",
      "Integrate cytoplasmic/mitochondrial glutamate ratio: 100-5000\n",
      "ATP yield: 172.41666666666669\n",
      "Integrate cytoplasmic/mitochondrial aspartate ratio: 0.1-10\n"
     ]
    }
   ],
   "source": [
    "import numpy as np\n",
    "from pytfa.optim.constraints import ModelConstraint\n",
    "\n",
    "# Force ATP/ADP ratio to be 10\n",
    "# Cytosolic ATP/ADP ratio\n",
    "# https://pubmed.ncbi.nlm.nih.gov/749453/\n",
    "\n",
    "\n",
    "expression = reduced_model.log_concentration.atp_c.variable - reduced_model.log_concentration.adp_c.variable\n",
    "id_='atp_c_adp_c_ratio'\n",
    "\n",
    "reduced_model.add_constraint(ModelConstraint,\n",
    "                        hook=reduced_model,\n",
    "                        expr=expression,\n",
    "                        id_=id_, \n",
    "                        lb=np.log(8), \n",
    "                        ub=np.log(10),\n",
    "                        )\n",
    "print(f\"Integrate cytosolic ATP/ADP ratio: 8-10 \")\n",
    "sol = reduced_model.optimize()\n",
    "print(f\"ATP yield: {sol.objective_value}\")\n",
    "\n",
    "\n",
    "# Force ATP/ADP ratio to bearround 2 and 8\n",
    "# Cytosolic ATP/ADP ratio\n",
    "# https://www.mdpi.com/1422-0067/23/10/5550\n",
    "\n",
    "\n",
    "expression = reduced_model.log_concentration.atp_m.variable - reduced_model.log_concentration.adp_m.variable\n",
    "id_='atp_m_adp_m_ratio'\n",
    "\n",
    "reduced_model.add_constraint(ModelConstraint,\n",
    "                        hook=reduced_model,\n",
    "                        expr=expression,\n",
    "                        id_=id_, \n",
    "                        lb=np.log(2), \n",
    "                        ub=np.log(8),\n",
    "                        )\n",
    "print(f\"Integrate mitochondrial ATP/ADP ratio: 2-8\")\n",
    "sol = reduced_model.optimize()\n",
    "sol = reduced_model.optimize()\n",
    "print(f\"ATP yield: {sol.objective_value}\")\n",
    "\n",
    "# mitochondrial GTP/GDP ratio\n",
    "expression = reduced_model.log_concentration.gtp_m.variable - reduced_model.log_concentration.gdp_m.variable\n",
    "\n",
    "reduced_model.add_constraint(ModelConstraint,\n",
    "                        hook=reduced_model,\n",
    "                        expr=expression,\n",
    "                        id_='gtp_m_gdp_m_ratio', \n",
    "                        lb=np.log(10), \n",
    "                        ub=np.log(300),\n",
    "                        )\n",
    "print(f\"Integrate mitochondrial GTP/GDP ratio: 10-300\")\n",
    "reduced_model.optimize()\n",
    "sol = reduced_model.optimize()\n",
    "print(f\"ATP yield: {sol.objective_value}\")        \n",
    "\n",
    "# mitochondrial NAD/NADH ratio\n",
    "expression = reduced_model.log_concentration.nad_m.variable - reduced_model.log_concentration.nadh_m.variable\n",
    "\n",
    "reduced_model.add_constraint(ModelConstraint,\n",
    "                        hook=reduced_model,\n",
    "                        expr=expression,\n",
    "                        id_='nad_m_nadh_m_ratio', \n",
    "                        lb=np.log(5), \n",
    "                        ub=np.log(20),\n",
    "                        )\n",
    "print(f\"Integrate mitochondrial NAD+/NADH ratio: 5-20\")\n",
    "reduced_model.optimize()\n",
    "sol = reduced_model.optimize()\n",
    "print(f\"ATP yield: {sol.objective_value}\")  \n",
    "\n",
    "# Cytoplasmic NAD/NADH ratio\n",
    "expression = reduced_model.log_concentration.nad_c.variable - reduced_model.log_concentration.nadh_c.variable\n",
    "\n",
    "reduced_model.add_constraint(ModelConstraint,\n",
    "                        hook=reduced_model,\n",
    "                        expr=expression,\n",
    "                        id_='nad_c_nadh_c_ratio', \n",
    "                        lb=np.log(50), \n",
    "                        ub=np.log(1000),\n",
    "                        )\n",
    "\n",
    "print(f\"Integrate cytoplasmic NAD+/NADH ratio: 50-1000\")\n",
    "reduced_model.optimize()\n",
    "sol = reduced_model.optimize()\n",
    "print(f\"ATP yield: {sol.objective_value}\")  \n",
    "\n",
    "\n",
    "# Add constaints on the glutamate and astpatate partitioning in mitochondria and cytosol\n",
    "# https://www.ncbi.nlm.nih.gov/pmc/articles/PMC5030821/#:~:text=The%20most%20abundant%20metabolites%20were,et%20al.%2C%202015).\n",
    "\n",
    "# Glutamtmate is about factor 100 - 1000 more abundant in the cytosol than in the mitochondria\n",
    "expression = reduced_model.log_concentration.glu_L_c.variable - reduced_model.log_concentration.glu_L_m.variable\n",
    "\n",
    "reduced_model.add_constraint(ModelConstraint,\n",
    "                        hook=reduced_model,\n",
    "                        expr=expression,\n",
    "                        id_='glu_L_c_glu_L_m_ratio', \n",
    "                        lb=np.log(10), \n",
    "                        ub=np.log(1000),\n",
    "                        )\n",
    "\n",
    "print(f\"Integrate cytoplasmic/mitochondrial glutamate ratio: 100-5000\")\n",
    "reduced_model.optimize()\n",
    "sol = reduced_model.optimize()\n",
    "print(f\"ATP yield: {sol.objective_value}\")\n",
    "\n",
    "# Aspartate is about factor 0.1-10 \n",
    "expression = reduced_model.log_concentration.asp_L_c.variable - reduced_model.log_concentration.asp_L_m.variable\n",
    "\n",
    "reduced_model.add_constraint(ModelConstraint,\n",
    "                        hook=reduced_model,\n",
    "                        expr=expression,\n",
    "                        id_='asp_L_c_asp_L_m_ratio', \n",
    "                        lb=np.log(0.01), \n",
    "                        ub=np.log(10),\n",
    "                        )\n",
    "\n",
    "print(f\"Integrate cytoplasmic/mitochondrial aspartate ratio: 0.1-10\")\n",
    "sol = reduced_model.optimize()"
   ]
  },
  {
   "cell_type": "code",
   "execution_count": 24,
   "metadata": {},
   "outputs": [],
   "source": [
    "# List all the compounds that have no thermo \n",
    "for met in reduced_model.metabolites:\n",
    "    if met.thermo['deltaGf_std'] >= 1000:\n",
    "        print(met.id, met.thermo)\n",
    "        print('-------------------')\n",
    "\n",
    "# Find all reactions that dont have a thermo constraint that are not boundary reactions\n",
    "thermo_reactions = [r.id for r in reduced_model.delta_g]\n",
    "\n",
    "for rxn in reduced_model.reactions:\n",
    "    #if not rxn.id in thermo_reactions and not rxn in reduced_model.boundary:\n",
    "    if rxn.thermo['computed'] == False and not rxn in reduced_model.boundary:\n",
    "        print(rxn.id, rxn.reaction)\n",
    "        print('-------------------')\n"
   ]
  },
  {
   "cell_type": "code",
   "execution_count": 25,
   "metadata": {},
   "outputs": [
    {
     "name": "stderr",
     "output_type": "stream",
     "text": [
      "2024-09-27 16:03:10,543 - thermomodel_Recon3thermoCurated - INFO - Beginning variability analysis for variable of type <class 'pytfa.optim.variables.DeltaG'>\n",
      "minimizing: 100%|██████████| 69/69 [00:01<00:00, 67.11it/s]\n",
      "maximizing: 100%|██████████| 69/69 [00:00<00:00, 78.91it/s]\n"
     ]
    }
   ],
   "source": [
    "# Run a flux analysis to see how constrain is the flux \n",
    "from pytfa.analysis import variability_analysis\n",
    "from pytfa.optim.variables import DeltaG\n",
    "\n",
    "#FVA = variability_analysis(reduced_model, kind='reactions')\n",
    "TVA = variability_analysis(reduced_model, kind=DeltaG)"
   ]
  },
  {
   "cell_type": "code",
   "execution_count": 26,
   "metadata": {},
   "outputs": [
    {
     "data": {
      "text/html": [
       "\n",
       "        <table>\n",
       "            <tr>\n",
       "                <td><strong>Reaction identifier</strong></td><td>NaK_pump</td>\n",
       "            </tr><tr>\n",
       "                <td><strong>Name</strong></td><td></td>\n",
       "            </tr><tr>\n",
       "                <td><strong>Memory address</strong></td>\n",
       "                <td>0x07fd4b873ed90</td>\n",
       "            </tr><tr>\n",
       "                <td><strong>Stoichiometry</strong></td>\n",
       "                <td>\n",
       "                    <p style='text-align:right'>atp_c + h2o_c + 2.0 k_e + 3.0 na1_c --> adp_c + h_c + 2.0 k_c + 3.0 na1_e + pi_c</p>\n",
       "                    <p style='text-align:right'>Adenosine Triphosphate + Water + 2.0 Potassium + 3.0 Sodium --> Adenosine Diphosphate + Proton + 2.0 Potassium + 3.0 Sodium + Orthophosphate</p>\n",
       "                </td>\n",
       "            </tr><tr>\n",
       "                <td><strong>GPR</strong></td><td></td>\n",
       "            </tr><tr>\n",
       "                <td><strong>Lower bound</strong></td><td>0</td>\n",
       "            </tr><tr>\n",
       "                <td><strong>Upper bound</strong></td><td>1000.0</td>\n",
       "            </tr>\n",
       "        </table>\n",
       "        "
      ],
      "text/plain": [
       "<Reaction NaK_pump at 0x7fd4b873ed90>"
      ]
     },
     "execution_count": 26,
     "metadata": {},
     "output_type": "execute_result"
    }
   ],
   "source": [
    "reduced_model.reactions.NaK_pump"
   ]
  },
  {
   "cell_type": "code",
   "execution_count": 27,
   "metadata": {},
   "outputs": [
    {
     "data": {
      "text/html": [
       "\n",
       "        <table>\n",
       "            <tr>\n",
       "                <td><strong>Reaction identifier</strong></td><td>Na_dummy</td>\n",
       "            </tr><tr>\n",
       "                <td><strong>Name</strong></td><td></td>\n",
       "            </tr><tr>\n",
       "                <td><strong>Memory address</strong></td>\n",
       "                <td>0x07fd4987084c0</td>\n",
       "            </tr><tr>\n",
       "                <td><strong>Stoichiometry</strong></td>\n",
       "                <td>\n",
       "                    <p style='text-align:right'>na1_e <=> na1_c</p>\n",
       "                    <p style='text-align:right'>Sodium <=> Sodium</p>\n",
       "                </td>\n",
       "            </tr><tr>\n",
       "                <td><strong>GPR</strong></td><td></td>\n",
       "            </tr><tr>\n",
       "                <td><strong>Lower bound</strong></td><td>-1000.0</td>\n",
       "            </tr><tr>\n",
       "                <td><strong>Upper bound</strong></td><td>1000.0</td>\n",
       "            </tr>\n",
       "        </table>\n",
       "        "
      ],
      "text/plain": [
       "<Reaction Na_dummy at 0x7fd4987084c0>"
      ]
     },
     "execution_count": 27,
     "metadata": {},
     "output_type": "execute_result"
    }
   ],
   "source": [
    "reduced_model.reactions.Na_dummy"
   ]
  },
  {
   "cell_type": "code",
   "execution_count": 28,
   "metadata": {},
   "outputs": [
    {
     "data": {
      "text/plain": [
       "[('NaK_pump',\n",
       "  'atp_c + h2o_c + 2.0 k_e + 3.0 na1_c --> adp_c + h_c + 2.0 k_c + 3.0 na1_e + pi_c'),\n",
       " ('Na_dummy', 'na1_e <=> na1_c'),\n",
       " ('NAt3_1', 'h_e + na1_c <=> h_c + na1_e'),\n",
       " ('PIt1', '2.0 na1_e + pi_e <=> 2.0 na1_c + pi_c')]"
      ]
     },
     "execution_count": 28,
     "metadata": {},
     "output_type": "execute_result"
    }
   ],
   "source": [
    "[(r.id, r.reaction) for r in reduced_model.metabolites.na1_e.reactions]"
   ]
  },
  {
   "cell_type": "code",
   "execution_count": null,
   "metadata": {},
   "outputs": [],
   "source": []
  },
  {
   "cell_type": "code",
   "execution_count": 29,
   "metadata": {},
   "outputs": [],
   "source": [
    "# Flux constraints for the core model \n",
    "RER = 0.79\n",
    "fraction_of_whole_body_o2 = 0.8\n",
    "total_carbon_contribution_modeled = 0.8\n",
    "\n",
    "o2_uptake = 2.0 * fraction_of_whole_body_o2 * total_carbon_contribution_modeled\n",
    "co2_production = o2_uptake * RER \n",
    "\n",
    "# oxygen uptake about of redmuscle 80% of total oxygen uptake 2000 nmol/min/gBW -2 umol/min/gDW\n",
    "reduced_model.reactions.EX_o2_e.bounds = (-o2_uptake, -o2_uptake)\n",
    "# Constrain the RET to about 0.8 of the total glucose uptake\n",
    "#reduced_model.reactions.EX_co2_e.bounds = (co2_production, co2_production)\n",
    "#reduced_model.reactions.CO2tm.bounds = (-10, -co2_production*0.5)\n",
    "\n",
    "#Dont waste ATP by cycling via ACYP\n",
    "reduced_model.reactions.ACYP.bounds = (0,0)\n",
    "\n",
    "# MDHm is forward driven (TCA is turning)\n",
    "reduced_model.reactions.MDHm.bounds = (0.1, 100)\n",
    "\n",
    "reduced_model.optimize()\n",
    "\n",
    "#Add constraints for CO2 production in the core model of and glucose, lactate\n",
    "glucose_direct_contribution = 0.042 / 6 / total_carbon_contribution_modeled\n",
    "lactate_direct_contribution = 0.24 / 3 / total_carbon_contribution_modeled\n",
    "bhb_direct_contribution = 0.021 / 4 / total_carbon_contribution_modeled \n",
    "\n",
    "# Glucose uptake in redmuscle 20 nmol/min/gDW -> This seem to be more accutalty reflecting that glucose uptake is about 10%  of the oxygen uptake\n",
    "glucose_uptake_est = 20/1000 \n",
    "reduced_model.reactions.EX_glc_D_e.bounds = (-glucose_uptake_est, -glucose_uptake_est)\n",
    "#reduced_model.reactions.EX_glc_D_e.bounds = (-co2_production * glucose_direct_contribution, -co2_production * glucose_direct_contribution)\n",
    "\n",
    "reduced_model.reactions.EX_lac_L_e.bounds = (-co2_production * lactate_direct_contribution, -co2_production * lactate_direct_contribution)\n",
    "reduced_model.reactions.EX_bhb_e.bounds = (-co2_production * bhb_direct_contribution, -co2_production * bhb_direct_contribution)\n",
    "\n",
    "sol = reduced_model.optimize()\n"
   ]
  },
  {
   "cell_type": "code",
   "execution_count": null,
   "metadata": {},
   "outputs": [],
   "source": []
  },
  {
   "cell_type": "code",
   "execution_count": 30,
   "metadata": {},
   "outputs": [],
   "source": [
    "# Phosphate turnover \n",
    "reduced_model.reactions.PIt1.bounds  = (1.0, 2.0) # 1-2 umol/h/gD - 0.01-0.02 umol/min/gDW\n",
    "#reduced_model.reactions.PiE.bounds  = (1.0, 2.0)\n",
    "reduced_model.optimize()\n",
    "\n",
    "# Potassium turnover\n",
    "reduced_model.reactions.K_channel.bounds = (-1.1,-1)\n",
    "\n",
    "# Mitochondrial sodium turnover (Time scale of  themembrane potental)\n",
    "reduced_model.reactions.Na_channel.bounds = (1,1.1)"
   ]
  },
  {
   "cell_type": "code",
   "execution_count": null,
   "metadata": {},
   "outputs": [],
   "source": []
  },
  {
   "cell_type": "code",
   "execution_count": null,
   "metadata": {},
   "outputs": [],
   "source": []
  },
  {
   "cell_type": "code",
   "execution_count": null,
   "metadata": {},
   "outputs": [],
   "source": []
  },
  {
   "cell_type": "markdown",
   "metadata": {},
   "source": []
  },
  {
   "cell_type": "code",
   "execution_count": 31,
   "metadata": {},
   "outputs": [
    {
     "data": {
      "image/png": "[encoded data removed]",
      "text/plain": [
       "<Figure size 640x480 with 1 Axes>"
      ]
     },
     "metadata": {},
     "output_type": "display_data"
    }
   ],
   "source": [
    "# Make a pi chart of the carbon contribution of the different metabolites\n",
    "# Uptakes rates \n",
    "import pandas as pd\n",
    "\n",
    "rows = ['GLCt1r',  'L_LACt2r','FATP1t', 'BHBt',]\n",
    "carbons = pd.Series({ 'GLCt1r': 6, 'L_LACt2r': 3, 'FATP1t': 16, 'BHBt': 4, })[rows]\n",
    "\n",
    "uptake_flux = sol.fluxes[rows].abs() * carbons[rows]\n",
    "\n",
    "# 25% others \n",
    "uptake_flux['others'] = uptake_flux.abs().sum() * (1/0.80 - 1)\n",
    "\n",
    "import matplotlib.pyplot as plt\n",
    "import numpy as np\n",
    "\n",
    "fig, ax = plt.subplots()\n",
    "ax.pie(uptake_flux, labels=uptake_flux.index, autopct='%1.1f%%', startangle=90)\n",
    "\n",
    "plt.show()\n"
   ]
  },
  {
   "cell_type": "code",
   "execution_count": 32,
   "metadata": {},
   "outputs": [],
   "source": [
    "# Function to integrate metabolite concentrations\n",
    "import numpy as np \n",
    "from optlang.exceptions import SolverError\n",
    "\n",
    "def set_concentration(model, metabolite_id, concentration, uncertainty=0.1, unit='mmol/L', std=None):\n",
    "    if unit == 'mmol/L':\n",
    "        concentration = concentration / 1000\n",
    "        if not std is None:\n",
    "            std = std/1000\n",
    "        if not np.isscalar(uncertainty):\n",
    "            uncertainty = [x/1000 for x in uncertainty]\n",
    "    else:\n",
    "        raise ValueError('Unit not supported')\n",
    "    \n",
    "\n",
    "    metabolite = model.log_concentration.get_by_id(metabolite_id)\n",
    "    compartment = model.metabolites.get_by_id(metabolite_id).compartment\n",
    "    c_min = reduced_model.compartments[compartment]['c_min']\n",
    "\n",
    "    var = metabolite.variable\n",
    "\n",
    "    if (std is None) and np.isscalar(uncertainty):\n",
    "        try:            \n",
    "            var.ub = np.log(concentration + concentration * uncertainty)\n",
    "            var.lb = np.log(concentration - concentration * uncertainty)\n",
    "        except ValueError:\n",
    "            var.lb = np.log(concentration - concentration * uncertainty)\n",
    "            var.ub = np.log(concentration + concentration * uncertainty)\n",
    "    elif (std is None) and (len(uncertainty) == 2):\n",
    "        try:\n",
    "            var.lb = np.log(uncertainty[0])\n",
    "            var.ub = np.log(uncertainty[1])\n",
    "        except ValueError:\n",
    "            var.ub = np.log(uncertainty[1])\n",
    "            var.lb = np.log(uncertainty[0])\n",
    "    elif std is not None:\n",
    "        try:\n",
    "            var.ub = np.log(concentration + std)\n",
    "            lb = np.log(concentration - std) if concentration - std > c_min else np.log(c_min)\n",
    "            var.lb = lb\n",
    "        except ValueError:\n",
    "            lb = np.log(concentration - std) if concentration - std > c_min else np.log(c_min)\n",
    "            var.lb = lb\n",
    "            var.ub = np.log(concentration + std)\n",
    "    else:\n",
    "        raise ValueError('Uncertainty not supported')\n",
    "        \n",
    "    # Test the constraint\n",
    "    try:\n",
    "        sol = model.optimize()\n",
    "        if sol.status != 'optimal':\n",
    "            raise ValueError(f'Constraining {metabolite_id} to {concentration} failed.')\n",
    "    except:\n",
    "        raise ValueError(f'Constraning {metabolite_id} to {concentration} failed.')\n",
    "    "
   ]
  },
  {
   "cell_type": "code",
   "execution_count": 33,
   "metadata": {},
   "outputs": [
    {
     "name": "stderr",
     "output_type": "stream",
     "text": [
      "2024-09-27 16:03:12,963 - thermomodel_Recon3thermoCurated - INFO - Beginning variability analysis for variable of type <class 'pytfa.optim.variables.LogConcentration'>\n",
      "minimizing: 100%|██████████| 87/87 [00:00<00:00, 168.01it/s]\n",
      "maximizing: 100%|██████████| 87/87 [00:00<00:00, 107.41it/s]\n"
     ]
    }
   ],
   "source": [
    "from pytfa.optim.variables import LogConcentration\n",
    "TVA = variability_analysis(reduced_model, kind=LogConcentration)"
   ]
  },
  {
   "cell_type": "code",
   "execution_count": 34,
   "metadata": {},
   "outputs": [
    {
     "data": {
      "text/html": [
       "<strong><em>Optimal</em> solution with objective value 5.360</strong><br><div>\n",
       "<style scoped>\n",
       "    .dataframe tbody tr th:only-of-type {\n",
       "        vertical-align: middle;\n",
       "    }\n",
       "\n",
       "    .dataframe tbody tr th {\n",
       "        vertical-align: top;\n",
       "    }\n",
       "\n",
       "    .dataframe thead th {\n",
       "        text-align: right;\n",
       "    }\n",
       "</style>\n",
       "<table border=\"1\" class=\"dataframe\">\n",
       "  <thead>\n",
       "    <tr style=\"text-align: right;\">\n",
       "      <th></th>\n",
       "      <th>fluxes</th>\n",
       "      <th>reduced_costs</th>\n",
       "    </tr>\n",
       "  </thead>\n",
       "  <tbody>\n",
       "    <tr>\n",
       "      <th>ACACT1rm</th>\n",
       "      <td>-0.006636</td>\n",
       "      <td>None</td>\n",
       "    </tr>\n",
       "    <tr>\n",
       "      <th>ACONTm</th>\n",
       "      <td>0.441967</td>\n",
       "      <td>None</td>\n",
       "    </tr>\n",
       "    <tr>\n",
       "      <th>AKGDm</th>\n",
       "      <td>0.441967</td>\n",
       "      <td>None</td>\n",
       "    </tr>\n",
       "    <tr>\n",
       "      <th>AKGMALtm</th>\n",
       "      <td>0.000000</td>\n",
       "      <td>None</td>\n",
       "    </tr>\n",
       "    <tr>\n",
       "      <th>ASPGLUm</th>\n",
       "      <td>0.000000</td>\n",
       "      <td>None</td>\n",
       "    </tr>\n",
       "    <tr>\n",
       "      <th>...</th>\n",
       "      <td>...</td>\n",
       "      <td>...</td>\n",
       "    </tr>\n",
       "    <tr>\n",
       "      <th>K_channel</th>\n",
       "      <td>-1.000000</td>\n",
       "      <td>None</td>\n",
       "    </tr>\n",
       "    <tr>\n",
       "      <th>Na_dummy</th>\n",
       "      <td>-2.500000</td>\n",
       "      <td>None</td>\n",
       "    </tr>\n",
       "    <tr>\n",
       "      <th>H_channel</th>\n",
       "      <td>0.000000</td>\n",
       "      <td>None</td>\n",
       "    </tr>\n",
       "    <tr>\n",
       "      <th>NaH_antiport</th>\n",
       "      <td>1.000000</td>\n",
       "      <td>None</td>\n",
       "    </tr>\n",
       "    <tr>\n",
       "      <th>Na_channel</th>\n",
       "      <td>1.000000</td>\n",
       "      <td>None</td>\n",
       "    </tr>\n",
       "  </tbody>\n",
       "</table>\n",
       "<p>79 rows × 2 columns</p>\n",
       "</div>"
      ],
      "text/plain": [
       "<Solution 5.360 at 0x7fd4780becd0>"
      ]
     },
     "execution_count": 34,
     "metadata": {},
     "output_type": "execute_result"
    }
   ],
   "source": [
    "# Integrate serum metabolomics \n",
    "\n",
    "# Glucose concentration in serum\n",
    "glucose_concentration = 5.5 # mmol/L \n",
    "# Lactate concentration in serum\n",
    "lactate_concentration = 0.75 # mmol/L\n",
    "# Fatty-acid concentration in serum\n",
    "fatty_acid_concentration = 0.5 # mmol/L\n",
    "# Ketone concentration in serum \n",
    "ketone_concentration = 0.1 # mmol/L\n",
    "\n",
    "# O2 concentration in serum 80 mmHG -> to mmol/L\n",
    "T = 273.15 + 37\n",
    "o2_concentration_artery = 1e3 * 80/ (62.36367*T)\n",
    "o2_concentration_muscle = 1e3 * 30/ (62.36367*T)\n",
    "\n",
    "# CO2 concentration in serum 40 mmHG -> to mmol/L\n",
    "co2_concentration = 1e3 * 40/ (62.36367*T)\n",
    "\n",
    "na1_concentration_serum = 140 # mmol/L\n",
    "na1_concentration_muscle = 10 # mmol/L\n",
    "na1_concentration_mitochondria = 8 # mmol/L\n",
    "\n",
    "# Potassium \n",
    "k_concentration_serum = 4.5 # mmol/L\n",
    "k_concentration_muscle = 140 # mmol/L\n",
    "\n",
    "set_concentration(reduced_model, 'glc_D_e', glucose_concentration, uncertainty=0.1)\n",
    "\n",
    "set_concentration(reduced_model, 'lac_L_e', lactate_concentration, uncertainty=0.1)\n",
    "set_concentration(reduced_model, 'lac_L_c', lactate_concentration*0.8, uncertainty=0.9)\n",
    "\n",
    "set_concentration(reduced_model, 'hdca_e', fatty_acid_concentration, uncertainty=0.1)\n",
    "\n",
    "set_concentration(reduced_model, 'bhb_e', ketone_concentration, uncertainty=0.1)    \n",
    "\n",
    "set_concentration(reduced_model, 'o2_e', o2_concentration_artery, uncertainty=0.1)\n",
    "set_concentration(reduced_model, 'o2_c', o2_concentration_muscle*0.75, uncertainty=0.1)\n",
    "set_concentration(reduced_model, 'o2_m', o2_concentration_muscle*0.5, uncertainty=0.1)\n",
    "\n",
    "set_concentration(reduced_model, 'co2_e', co2_concentration, uncertainty=0.1)   \n",
    "\n",
    "\n",
    "# Inorganic concentrations in serum\n",
    "\n",
    "set_concentration(reduced_model, 'k_e', k_concentration_serum, uncertainty=0.1)\n",
    "set_concentration(reduced_model, 'k_c', k_concentration_muscle, uncertainty=0.1)\n",
    "\n",
    "set_concentration(reduced_model, 'na1_c', na1_concentration_muscle, uncertainty=0.0)\n",
    "set_concentration(reduced_model, 'na1_m', na1_concentration_mitochondria, uncertainty=0.0)\n",
    "set_concentration(reduced_model, 'na1_e', na1_concentration_serum, uncertainty=0.1)\n",
    "\n",
    "# Phosphate concentration 5 mM \n",
    "# https://www.frontiersin.org/journals/physiology/articles/10.3389/fphys.2012.00463/full\n",
    "set_concentration(reduced_model, 'pi_e', 1, 0.5) # 1 mM\n",
    "set_concentration(reduced_model, 'pi_c', 5, 0.9)\n",
    "set_concentration(reduced_model, 'pi_m', 12, 0.5)\n",
    "\n",
    "\n",
    "# Set the concentration of the cytosol -> 10% of the serum concentration\n",
    "set_concentration(reduced_model, 'hdca_c', fatty_acid_concentration*0.1)\n",
    "\n",
    "reduced_model.optimize()\n"
   ]
  },
  {
   "cell_type": "code",
   "execution_count": null,
   "metadata": {},
   "outputs": [],
   "source": []
  },
  {
   "cell_type": "code",
   "execution_count": 35,
   "metadata": {},
   "outputs": [
    {
     "name": "stderr",
     "output_type": "stream",
     "text": [
      "2024-09-27 16:03:14,434 - thermomodel_Recon3thermoCurated - INFO - Beginning variability analysis for variable of type reactions\n",
      "minimizing: 100%|██████████| 79/79 [00:00<00:00, 197.91it/s]\n",
      "maximizing: 100%|██████████| 79/79 [00:00<00:00, 323.30it/s]\n"
     ]
    }
   ],
   "source": [
    "# Run a flux analysis to see how constrain is the flux distribution\n",
    "from pytfa.analysis import variability_analysis\n",
    "FVA = variability_analysis(reduced_model, kind='reactions')\n"
   ]
  },
  {
   "cell_type": "code",
   "execution_count": null,
   "metadata": {},
   "outputs": [],
   "source": []
  },
  {
   "cell_type": "code",
   "execution_count": 36,
   "metadata": {},
   "outputs": [
    {
     "name": "stdout",
     "output_type": "stream",
     "text": [
      "GAPD g3p_c + nad_c + pi_c <=> 13dpg_c + 2.0 h_c + nadh_c\n",
      "-------------------\n",
      "PPA h2o_c + ppi_c --> h_c + 2.0 pi_c\n",
      "-------------------\n",
      "ACYP 13dpg_c + h2o_c --> 3pg_c + h_c + pi_c\n",
      "-------------------\n",
      "cyt_atp2adp atp_c + h2o_c --> adp_c + h_c + pi_c\n",
      "-------------------\n",
      "PiC h_c + pi_c --> h_m + pi_m\n",
      "-------------------\n",
      "PIt1 2.0 na1_e + pi_e --> 2.0 na1_c + pi_c\n",
      "-------------------\n",
      "PiE pi_e <=> pi_c\n",
      "-------------------\n",
      "NaK_pump atp_c + h2o_c + 2.0 k_e + 3.0 na1_c --> adp_c + h_c + 2.0 k_c + 3.0 na1_e + pi_c\n",
      "-------------------\n"
     ]
    }
   ],
   "source": [
    "# Print all reactions involving phosphate\n",
    "for r in reduced_model.reactions:\n",
    "    if reduced_model.metabolites.pi_c in r.metabolites:\n",
    "        print(r.id, r.reaction)\n",
    "        print('-------------------')"
   ]
  },
  {
   "cell_type": "code",
   "execution_count": null,
   "metadata": {},
   "outputs": [],
   "source": []
  },
  {
   "cell_type": "code",
   "execution_count": 37,
   "metadata": {},
   "outputs": [],
   "source": [
    "#reduced_model.solver.problem.conflict.refine()\n",
    "#reduced_model.solver.problem.conflict.write('bla.txt')"
   ]
  },
  {
   "cell_type": "code",
   "execution_count": 38,
   "metadata": {},
   "outputs": [
    {
     "data": {
      "text/html": [
       "<div>\n",
       "<style scoped>\n",
       "    .dataframe tbody tr th:only-of-type {\n",
       "        vertical-align: middle;\n",
       "    }\n",
       "\n",
       "    .dataframe tbody tr th {\n",
       "        vertical-align: top;\n",
       "    }\n",
       "\n",
       "    .dataframe thead th {\n",
       "        text-align: right;\n",
       "    }\n",
       "</style>\n",
       "<table border=\"1\" class=\"dataframe\">\n",
       "  <thead>\n",
       "    <tr style=\"text-align: right;\">\n",
       "      <th></th>\n",
       "      <th>Tissue</th>\n",
       "      <th>a-ketoglutarate</th>\n",
       "      <th>alanine</th>\n",
       "      <th>arginine</th>\n",
       "      <th>asparagine</th>\n",
       "      <th>aspartate</th>\n",
       "      <th>citrate</th>\n",
       "      <th>fumarate</th>\n",
       "      <th>glutamate</th>\n",
       "      <th>glutamine</th>\n",
       "      <th>...</th>\n",
       "      <th>methionine</th>\n",
       "      <th>phenylalanine</th>\n",
       "      <th>proline</th>\n",
       "      <th>pyruvate</th>\n",
       "      <th>serine</th>\n",
       "      <th>succinate</th>\n",
       "      <th>threonine</th>\n",
       "      <th>tryptophan</th>\n",
       "      <th>tyrosine</th>\n",
       "      <th>valine</th>\n",
       "    </tr>\n",
       "  </thead>\n",
       "  <tbody>\n",
       "    <tr>\n",
       "      <th>48</th>\n",
       "      <td>Soleus</td>\n",
       "      <td>164.82</td>\n",
       "      <td>8830.95</td>\n",
       "      <td>166.09</td>\n",
       "      <td>125.35</td>\n",
       "      <td>343.31</td>\n",
       "      <td>506.18</td>\n",
       "      <td>41.44</td>\n",
       "      <td>4334.70</td>\n",
       "      <td>3264.68</td>\n",
       "      <td>...</td>\n",
       "      <td>32.66</td>\n",
       "      <td>58.63</td>\n",
       "      <td>86.84</td>\n",
       "      <td>375.54</td>\n",
       "      <td>261.30</td>\n",
       "      <td>74.22</td>\n",
       "      <td>197.54</td>\n",
       "      <td>15.66</td>\n",
       "      <td>43.59</td>\n",
       "      <td>171.44</td>\n",
       "    </tr>\n",
       "    <tr>\n",
       "      <th>49</th>\n",
       "      <td>Soleus</td>\n",
       "      <td>270.08</td>\n",
       "      <td>20673.02</td>\n",
       "      <td>135.75</td>\n",
       "      <td>175.04</td>\n",
       "      <td>1091.43</td>\n",
       "      <td>441.79</td>\n",
       "      <td>63.14</td>\n",
       "      <td>4171.56</td>\n",
       "      <td>2943.38</td>\n",
       "      <td>...</td>\n",
       "      <td>42.34</td>\n",
       "      <td>78.29</td>\n",
       "      <td>86.92</td>\n",
       "      <td>560.16</td>\n",
       "      <td>315.55</td>\n",
       "      <td>173.60</td>\n",
       "      <td>236.77</td>\n",
       "      <td>14.86</td>\n",
       "      <td>71.53</td>\n",
       "      <td>184.09</td>\n",
       "    </tr>\n",
       "    <tr>\n",
       "      <th>50</th>\n",
       "      <td>Soleus</td>\n",
       "      <td>221.14</td>\n",
       "      <td>18248.35</td>\n",
       "      <td>190.22</td>\n",
       "      <td>196.63</td>\n",
       "      <td>2462.46</td>\n",
       "      <td>390.77</td>\n",
       "      <td>93.81</td>\n",
       "      <td>2686.22</td>\n",
       "      <td>2526.05</td>\n",
       "      <td>...</td>\n",
       "      <td>65.75</td>\n",
       "      <td>70.51</td>\n",
       "      <td>124.80</td>\n",
       "      <td>717.46</td>\n",
       "      <td>374.81</td>\n",
       "      <td>183.29</td>\n",
       "      <td>302.36</td>\n",
       "      <td>17.03</td>\n",
       "      <td>115.98</td>\n",
       "      <td>187.89</td>\n",
       "    </tr>\n",
       "    <tr>\n",
       "      <th>51</th>\n",
       "      <td>Soleus</td>\n",
       "      <td>218.93</td>\n",
       "      <td>18785.52</td>\n",
       "      <td>180.17</td>\n",
       "      <td>183.07</td>\n",
       "      <td>1992.65</td>\n",
       "      <td>354.46</td>\n",
       "      <td>95.38</td>\n",
       "      <td>3141.48</td>\n",
       "      <td>2557.69</td>\n",
       "      <td>...</td>\n",
       "      <td>61.26</td>\n",
       "      <td>60.67</td>\n",
       "      <td>123.48</td>\n",
       "      <td>698.18</td>\n",
       "      <td>370.55</td>\n",
       "      <td>181.01</td>\n",
       "      <td>277.40</td>\n",
       "      <td>17.02</td>\n",
       "      <td>95.59</td>\n",
       "      <td>191.78</td>\n",
       "    </tr>\n",
       "  </tbody>\n",
       "</table>\n",
       "<p>4 rows × 27 columns</p>\n",
       "</div>"
      ],
      "text/plain": [
       "    Tissue  a-ketoglutarate   alanine  arginine  asparagine  aspartate  \\\n",
       "48  Soleus           164.82   8830.95    166.09      125.35     343.31   \n",
       "49  Soleus           270.08  20673.02    135.75      175.04    1091.43   \n",
       "50  Soleus           221.14  18248.35    190.22      196.63    2462.46   \n",
       "51  Soleus           218.93  18785.52    180.17      183.07    1992.65   \n",
       "\n",
       "    citrate  fumarate  glutamate  glutamine  ...  methionine  phenylalanine  \\\n",
       "48   506.18     41.44    4334.70    3264.68  ...       32.66          58.63   \n",
       "49   441.79     63.14    4171.56    2943.38  ...       42.34          78.29   \n",
       "50   390.77     93.81    2686.22    2526.05  ...       65.75          70.51   \n",
       "51   354.46     95.38    3141.48    2557.69  ...       61.26          60.67   \n",
       "\n",
       "    proline  pyruvate  serine  succinate  threonine  tryptophan  tyrosine  \\\n",
       "48    86.84    375.54  261.30      74.22     197.54       15.66     43.59   \n",
       "49    86.92    560.16  315.55     173.60     236.77       14.86     71.53   \n",
       "50   124.80    717.46  374.81     183.29     302.36       17.03    115.98   \n",
       "51   123.48    698.18  370.55     181.01     277.40       17.02     95.59   \n",
       "\n",
       "    valine  \n",
       "48  171.44  \n",
       "49  184.09  \n",
       "50  187.89  \n",
       "51  191.78  \n",
       "\n",
       "[4 rows x 27 columns]"
      ]
     },
     "execution_count": 38,
     "metadata": {},
     "output_type": "execute_result"
    }
   ],
   "source": [
    "# Read the tissue metabolomics data\n",
    "import pandas as pd\n",
    "tissue_metabolomics = pd.read_csv('./../data/C57BL6_6hr_fasted.csv')\n",
    "\n",
    "tissue_type = 'Soleus'\n",
    "\n",
    "tissue_samples = tissue_metabolomics.Tissue == tissue_type\n",
    "tissue_metabolomics[tissue_samples]\n",
    "\n"
   ]
  },
  {
   "cell_type": "code",
   "execution_count": 39,
   "metadata": {},
   "outputs": [
    {
     "data": {
      "text/html": [
       "<strong><em>Optimal</em> solution with objective value 5.360</strong><br><div>\n",
       "<style scoped>\n",
       "    .dataframe tbody tr th:only-of-type {\n",
       "        vertical-align: middle;\n",
       "    }\n",
       "\n",
       "    .dataframe tbody tr th {\n",
       "        vertical-align: top;\n",
       "    }\n",
       "\n",
       "    .dataframe thead th {\n",
       "        text-align: right;\n",
       "    }\n",
       "</style>\n",
       "<table border=\"1\" class=\"dataframe\">\n",
       "  <thead>\n",
       "    <tr style=\"text-align: right;\">\n",
       "      <th></th>\n",
       "      <th>fluxes</th>\n",
       "      <th>reduced_costs</th>\n",
       "    </tr>\n",
       "  </thead>\n",
       "  <tbody>\n",
       "    <tr>\n",
       "      <th>ACACT1rm</th>\n",
       "      <td>-0.006636</td>\n",
       "      <td>None</td>\n",
       "    </tr>\n",
       "    <tr>\n",
       "      <th>ACONTm</th>\n",
       "      <td>0.441967</td>\n",
       "      <td>None</td>\n",
       "    </tr>\n",
       "    <tr>\n",
       "      <th>AKGDm</th>\n",
       "      <td>0.441967</td>\n",
       "      <td>None</td>\n",
       "    </tr>\n",
       "    <tr>\n",
       "      <th>AKGMALtm</th>\n",
       "      <td>0.000000</td>\n",
       "      <td>None</td>\n",
       "    </tr>\n",
       "    <tr>\n",
       "      <th>ASPGLUm</th>\n",
       "      <td>0.000000</td>\n",
       "      <td>None</td>\n",
       "    </tr>\n",
       "    <tr>\n",
       "      <th>...</th>\n",
       "      <td>...</td>\n",
       "      <td>...</td>\n",
       "    </tr>\n",
       "    <tr>\n",
       "      <th>K_channel</th>\n",
       "      <td>-1.000000</td>\n",
       "      <td>None</td>\n",
       "    </tr>\n",
       "    <tr>\n",
       "      <th>Na_dummy</th>\n",
       "      <td>-2.500000</td>\n",
       "      <td>None</td>\n",
       "    </tr>\n",
       "    <tr>\n",
       "      <th>H_channel</th>\n",
       "      <td>0.000000</td>\n",
       "      <td>None</td>\n",
       "    </tr>\n",
       "    <tr>\n",
       "      <th>NaH_antiport</th>\n",
       "      <td>1.000000</td>\n",
       "      <td>None</td>\n",
       "    </tr>\n",
       "    <tr>\n",
       "      <th>Na_channel</th>\n",
       "      <td>1.000000</td>\n",
       "      <td>None</td>\n",
       "    </tr>\n",
       "  </tbody>\n",
       "</table>\n",
       "<p>79 rows × 2 columns</p>\n",
       "</div>"
      ],
      "text/plain": [
       "<Solution 5.360 at 0x7fd4cad0f550>"
      ]
     },
     "execution_count": 39,
     "metadata": {},
     "output_type": "execute_result"
    }
   ],
   "source": [
    "# Metabolomics from taras paper (we use soleus concentrtions)\n",
    "set_concentration(reduced_model, 'g6p_c', 0.45, uncertainty=0.9)\n",
    "set_concentration(reduced_model, 'f6p_c', 0.45, uncertainty=0.9) # (Assuumes 50/50 splot in g6p anf f6p)\n",
    "set_concentration(reduced_model, 'fdp_c', 0.44, std=0.18)\n",
    "set_concentration(reduced_model, 'g3p_c', 0.43, uncertainty=0.9)\n",
    "\n",
    "reduced_model.optimize()\n"
   ]
  },
  {
   "cell_type": "code",
   "execution_count": 40,
   "metadata": {},
   "outputs": [
    {
     "name": "stderr",
     "output_type": "stream",
     "text": [
      "2024-09-27 16:03:15,181 - thermomodel_Recon3thermoCurated - INFO - Beginning variability analysis for variable of type <class 'pytfa.optim.variables.DeltaG'>\n",
      "minimizing: 100%|██████████| 69/69 [00:01<00:00, 51.34it/s]\n",
      "maximizing: 100%|██████████| 69/69 [00:01<00:00, 54.05it/s]\n"
     ]
    }
   ],
   "source": [
    "TVA = variability_analysis(reduced_model, kind=DeltaG)\n",
    "\n",
    "# Transform from log to log10 -> scale with log10(e)\n",
    "TVA['minimum'] = TVA.minimum * np.log10(np.exp(1))\n",
    "TVA['maximum'] = TVA.maximum * np.log10(np.exp(1))\n",
    "\n",
    "TVA['range'] = TVA.maximum - TVA.minimum\n",
    "TVA['mid'] = (TVA.maximum + TVA.minimum) / 2\n",
    "\n",
    "# Print a list of delta G with low range\n",
    "for met_id in TVA.index:\n",
    "    entry = TVA.loc[met_id]\n",
    "    if abs(entry['minimum']) < 1e-3 and abs(entry['maximum']) < 1e-3:\n",
    "        print(met_id, entry['minimum'], entry['mid'], entry['maximum'])\n",
    "        print('-------------------')\n"
   ]
  },
  {
   "cell_type": "code",
   "execution_count": 41,
   "metadata": {},
   "outputs": [
    {
     "data": {
      "image/png": "[encoded data removed]",
      "text/plain": [
       "<Figure size 640x480 with 1 Axes>"
      ]
     },
     "metadata": {},
     "output_type": "display_data"
    }
   ],
   "source": [
    "\n",
    "metabolite_mapping = [\n",
    "    ('a-ketoglutarate', ('akg_m', 100.0)),\n",
    "    ('a-ketoglutarate', ('akg_c', 10.0)),\n",
    "    ('citrate', ('cit_m', 2.0)),\n",
    "    ('fumarate', ('fum_m', 2.0)),\n",
    "    #('lactate', ('lac_L_c', 5.0)),\n",
    "    #('lactate', ('lac_L_m', 5.0)),\n",
    "    ('malate', ('mal_L_m', 100.0)),\n",
    "    ('malate', ('mal_L_c', 10.0)),\n",
    "    ('pyruvate', ('pyr_m', 50.0)),\n",
    "    ('pyruvate', ('pyr_c', 50.0)),\n",
    "    ('succinate', ('succ_m',  2.0)),\n",
    "    #('glutamate', ('glu_L_m', 100.0)),\n",
    "    ('glutamate', ('glu_L_c', 5.0)),\n",
    "    #('aspartate', ('asp_L_m', 10.0)),\n",
    "    ('aspartate', ('asp_L_c', 10.0)),\n",
    "]\n",
    "\n",
    "metabolites_to_map = list(set(m[0] for m in metabolite_mapping))\n",
    "data_extracted = tissue_metabolomics[tissue_samples][metabolites_to_map] * 1e-3 # convert uM to mM \n",
    "\n",
    "# Plot the metabolomics data and the assumed bounds for the metabolites\n",
    "import matplotlib.pyplot as plt\n",
    "import seaborn as sns\n",
    "\n",
    "fig, ax = plt.subplots()\n",
    "# Plot all the data points \n",
    "sns.stripplot(data=data_extracted, ax=ax, jitter=0.2, color='black', alpha=0.5)\n",
    "\n",
    "means = data_extracted.mean()\n",
    "\n",
    "# Compute mitochondrial and cytosolic ranges -> mean/scaling , mean*scaling\n",
    "ranges = []\n",
    "for met, (met_id, scaling) in metabolite_mapping:\n",
    "    mid = means[met]\n",
    "    lb = mid / scaling\n",
    "    ub = mid * scaling\n",
    "    if met_id.endswith('_m'):\n",
    "        ranges.append({'metabolite': met, 'lb': lb, 'ub': ub, 'compartment': 'mitochondrial'})\n",
    "    else:\n",
    "        ranges.append({'metabolite': met, 'lb': lb, 'ub': ub, 'compartment': 'cytosolic'})\n",
    "\n",
    "ranges = pd.DataFrame(ranges)\n",
    "\n",
    "# Plot the mitochondiral and cytosolic ranges as ractangles between lb and ub \n",
    "ranges = ranges.set_index('metabolite')\n",
    "mit_ranges = ranges[ranges.compartment == 'mitochondrial']\n",
    "cyt_ranges = ranges[ranges.compartment == 'cytosolic']\n",
    "\n",
    "plt.bar(mit_ranges.index, mit_ranges.ub - mit_ranges.lb, bottom=mit_ranges.lb, color='red', alpha=0.5)\n",
    "plt.bar(cyt_ranges.index, cyt_ranges.ub - cyt_ranges.lb, bottom=cyt_ranges.lb, color='blue', alpha=0.5)\n",
    "\n",
    "plt.yscale('log')\n",
    "\n",
    "plt.xticks(rotation=90)\n",
    "\n",
    "plt.ylabel('Concentration (mM)')\n",
    "\n",
    "plt.show()"
   ]
  },
  {
   "cell_type": "code",
   "execution_count": 42,
   "metadata": {},
   "outputs": [],
   "source": [
    "# # # Map the metabolomics data to the model\n",
    "for metabolite_name, (metabolite_id, uncertainty_fac) in metabolite_mapping:\n",
    "    concentration = data_extracted[metabolite_name].mean()\n",
    "    uncertainty = data_extracted[metabolite_name].std()\n",
    "    #print(f\"{metabolite_name} concentration: {concentration} +/- {uncertainty*uncertainty_fac}\")\n",
    "    uncertainty = (concentration / uncertainty_fac, concentration * uncertainty_fac)\n",
    "    set_concentration(reduced_model, metabolite_id, concentration, uncertainty=uncertainty)\n",
    "    \n"
   ]
  },
  {
   "cell_type": "code",
   "execution_count": 43,
   "metadata": {},
   "outputs": [
    {
     "name": "stdout",
     "output_type": "stream",
     "text": [
      "5.324562173913046\n"
     ]
    }
   ],
   "source": [
    "# Carnitine concentration in Muscle 500 pmol/mg -> (1000g/L density of muscle) -> 500 uM\n",
    "carnitine_concentration = 500e-3\n",
    "set_concentration(reduced_model, 'crn_c', carnitine_concentration, 0.99)\n",
    "set_concentration(reduced_model, 'crn_m', carnitine_concentration, 0.99)\n",
    "\n",
    "# Long chain acyl-carnitine concentration 01 - 10 uM in Muscle \n",
    "# https://www.nature.com/articles/s41598-017-17797-x\n",
    "# https://www.ncbi.nlm.nih.gov/pmc/articles/PMC4274800/\n",
    "# https://www.ncbi.nlm.nih.gov/pmc/articles/PMC4274800/\n",
    "set_concentration(reduced_model, 'pmtcrn_c', 5e-3 , 0.9)\n",
    "set_concentration(reduced_model, 'pmtcrn_m', 5e-3 , 0.99)\n",
    "\n",
    "# acyl-CoA in Muscle\n",
    "# https://www.ncbi.nlm.nih.gov/pmc/articles/PMC4274800/\n",
    "set_concentration(reduced_model, 'pmtcoa_c', 5e-3 , 0.9)\n",
    "set_concentration(reduced_model, 'pmtcoa_m', 5e-3 , 0.99)\n",
    "\n",
    "# CoA in Muscle\n",
    "set_concentration(reduced_model, 'coa_c', 1.0e-3 , 0.99)\n",
    "set_concentration(reduced_model, 'coa_m', 1.0e-3 , 0.99)\n",
    "\n",
    "\n",
    "# Try glycerol-3 phosphate integration (assumed to quite abundand in muscle)\n",
    "# https://www.nature.com/articles/s41387-018-0045-x -> 10 - 100 uM\n",
    "set_concentration(reduced_model, 'glyc3p_c', 100e-3, 0.99)\n",
    "\n",
    "\n",
    "sol = reduced_model.optimize()\n",
    "print(sol.objective_value)"
   ]
  },
  {
   "cell_type": "code",
   "execution_count": 44,
   "metadata": {},
   "outputs": [
    {
     "name": "stderr",
     "output_type": "stream",
     "text": [
      "2024-09-27 16:03:18,681 - thermomodel_Recon3thermoCurated - INFO - Beginning variability analysis for variable of type <class 'pytfa.optim.variables.LogConcentration'>\n",
      "minimizing: 100%|██████████| 87/87 [00:00<00:00, 100.07it/s]\n",
      "maximizing: 100%|██████████| 87/87 [00:01<00:00, 60.47it/s]"
     ]
    },
    {
     "name": "stdout",
     "output_type": "stream",
     "text": [
      "na1_e -0.899629454882437 -0.8560543670229869 -0.8124792791635368\n",
      "-------------------\n",
      "na1_c -1.9999999999999998 -1.9999999999999998 -1.9999999999999998\n",
      "-------------------\n",
      "k_e -2.3925449767853313 -2.348969888925881 -2.305394801066431\n",
      "-------------------\n",
      "k_c -0.899629454882437 -0.8560543670229869 -0.8124792791635368\n",
      "-------------------\n",
      "coa_m -5.813431571042959 -5.757289246732736 -5.701146922422513\n",
      "-------------------\n"
     ]
    },
    {
     "name": "stderr",
     "output_type": "stream",
     "text": [
      "\n"
     ]
    }
   ],
   "source": [
    "# Plot the flux variablity analysis\n",
    "import matplotlib.pyplot as plt\n",
    "import seaborn as sns\n",
    "\n",
    "# Concentration of metabolites\n",
    "from pytfa.optim.variables import LogConcentration, DeltaG\n",
    "TVA = variability_analysis(reduced_model, kind=LogConcentration)\n",
    "\n",
    "\n",
    "# Transform from log to log10 -> scale with log10(e)\n",
    "TVA['minimum'] = TVA.minimum * np.log10(np.exp(1))\n",
    "TVA['maximum'] = TVA.maximum * np.log10(np.exp(1))\n",
    "\n",
    "TVA['range'] = TVA.maximum - TVA.minimum\n",
    "TVA['mid'] = (TVA.maximum + TVA.minimum) / 2\n",
    "\n",
    "# Pyruvate and Pi\n",
    "metabolites = ['na1_e', 'na1_c', 'k_e', 'k_c', 'coa_m']\n",
    "# LC_ + met_id\n",
    "# Print a list of the TVA min max and range\n",
    "for met_id in metabolites:\n",
    "    entry = TVA.loc['LC_'+met_id]\n",
    "    print(met_id, entry['minimum'], entry['mid'], entry['maximum'])\n",
    "    print('-------------------')\n",
    "\n"
   ]
  },
  {
   "cell_type": "code",
   "execution_count": 45,
   "metadata": {},
   "outputs": [
    {
     "name": "stderr",
     "output_type": "stream",
     "text": [
      "2024-09-27 16:03:21,008 - thermomodel_Recon3thermoCurated - INFO - Beginning variability analysis for variable of type <class 'pytfa.optim.variables.DeltaG'>\n",
      "minimizing: 100%|██████████| 69/69 [00:02<00:00, 31.09it/s]\n",
      "maximizing: 100%|██████████| 69/69 [00:01<00:00, 61.09it/s]\n"
     ]
    }
   ],
   "source": [
    "TVA = variability_analysis(reduced_model, kind=DeltaG)\n",
    "\n",
    "# Transform from log to log10 -> scale with log10(e)\n",
    "TVA['minimum'] = TVA.minimum * np.log10(np.exp(1))\n",
    "TVA['maximum'] = TVA.maximum * np.log10(np.exp(1))\n",
    "\n",
    "TVA['range'] = TVA.maximum - TVA.minimum\n",
    "TVA['mid'] = (TVA.maximum + TVA.minimum) / 2\n",
    "\n",
    "# Print a list of delta G with low range\n",
    "for met_id in TVA.index:\n",
    "    entry = TVA.loc[met_id]\n",
    "    if abs(entry['minimum']) < 1e-3 and abs(entry['maximum']) < 1e-3:\n",
    "        print(met_id, entry['minimum'], entry['mid'], entry['maximum'])\n",
    "        print('-------------------')\n",
    "\n",
    "\n"
   ]
  },
  {
   "cell_type": "code",
   "execution_count": 46,
   "metadata": {},
   "outputs": [
    {
     "name": "stdout",
     "output_type": "stream",
     "text": [
      "LDH_L lac_L_c + nad_c <=> 2.0 h_c + nadh_c + pyr_c -0.1890428847763969 3.235606282598881\n",
      "-------------------\n",
      "LDH_Lm lac_L_m + nad_m <=> 2.0 h_m + nadh_m + pyr_m 0.35262812332765636 8.671358903267645\n",
      "-------------------\n",
      "PYRt2m h_c + pyr_c <=> h_m + pyr_m -2.4855561171382567 -4.342898890650989e-10\n",
      "-------------------\n",
      "L_LACDcm 2.0 ficytC_m + lac_L_c --> 2.0 focytC_m + 2.0 h_c + pyr_c -12.459045194593847 -6.181860102662086\n",
      "-------------------\n"
     ]
    }
   ],
   "source": [
    "# Print malate aspartate shuttle free ene\n",
    "aspartate_malate_shuttle= ['MDH', 'ASPTA', 'ASPTAm', 'MDHm', 'ASPGLUm', 'AKGMALtm']\n",
    "lactate_shuttle = ['LDH_L', 'LDH_Lm', 'PYRt2m','L_LACDcm' ]\n",
    "\n",
    "for rxn_id in lactate_shuttle:\n",
    "    entry = TVA.loc[\"DG_\"+rxn_id]\n",
    "    rxn = reduced_model.reactions.get_by_id(rxn_id)\n",
    "    print(rxn_id,rxn.reaction, entry['minimum'], entry['maximum'])\n",
    "    print('-------------------')"
   ]
  },
  {
   "cell_type": "code",
   "execution_count": 47,
   "metadata": {},
   "outputs": [],
   "source": [
    "# Here we choose a flux profile\n",
    "\n",
    "# Limit LDHm reverse\n",
    "reduced_model.reactions.LDH_Lm.bounds = (-0.01, -0.001)\n",
    "\n",
    "# Assume the direaction of all three shuttles\n",
    "reduced_model.reactions.AKGMALtm.bounds = (0, 0.15)\n",
    "reduced_model.reactions.G3PD1.bounds = (-0.15, -0.0)\n",
    "\n",
    "# LDH-D (Fe2+) is not the dominant LDH in muscle \n",
    "reduced_model.reactions.L_LACDcm.bounds = (0.001, 0.002)\n",
    "\n",
    "# Na dummy is the sodium channel\n",
    "reduced_model.reactions.Na_dummy.bounds = (-5,-1.5)\n",
    "\n",
    "# H-channel \n",
    "reduced_model.reactions.H_channel.bounds = (1,1.1)\n",
    "\n",
    "sol = reduced_model.optimize()\n"
   ]
  },
  {
   "cell_type": "code",
   "execution_count": 48,
   "metadata": {},
   "outputs": [
    {
     "ename": "ZeroDivisionError",
     "evalue": "division by zero",
     "output_type": "error",
     "traceback": [
      "\u001b[0;31m---------------------------------------------------------------------------\u001b[0m",
      "\u001b[0;31mZeroDivisionError\u001b[0m                         Traceback (most recent call last)",
      "Cell \u001b[0;32mIn[48], line 2\u001b[0m\n\u001b[1;32m      1\u001b[0m reduced_model\u001b[38;5;241m.\u001b[39mreactions\u001b[38;5;241m.\u001b[39mH_channel\n\u001b[0;32m----> 2\u001b[0m \u001b[38;5;241;43m1\u001b[39;49m\u001b[38;5;241;43m/\u001b[39;49m\u001b[38;5;241;43m0\u001b[39;49m\n",
      "\u001b[0;31mZeroDivisionError\u001b[0m: division by zero"
     ]
    }
   ],
   "source": []
  },
  {
   "cell_type": "code",
   "execution_count": 234,
   "metadata": {},
   "outputs": [
    {
     "name": "stderr",
     "output_type": "stream",
     "text": [
      "2024-09-26 11:05:03,444 - thermomodel_Recon3thermoCurated - INFO - Beginning variability analysis for variable of type reactions\n",
      "minimizing: 100%|██████████| 79/79 [00:00<00:00, 255.63it/s]\n",
      "maximizing: 100%|██████████| 79/79 [00:00<00:00, 276.13it/s]\n"
     ]
    }
   ],
   "source": [
    "# Run a flux analysis to see how constrain is the flux distribution\n",
    "from pytfa.analysis import variability_analysis\n",
    "FVA = variability_analysis(reduced_model, kind='reactions')\n"
   ]
  },
  {
   "cell_type": "code",
   "execution_count": 235,
   "metadata": {},
   "outputs": [
    {
     "name": "stdout",
     "output_type": "stream",
     "text": [
      "[<Reaction ACYP at 0x7fbe698abdc0>]\n",
      "5.323062173913047\n"
     ]
    }
   ],
   "source": [
    "# Remove the reactions that cannot carry flux\n",
    "EPSILON = 1e-6  \n",
    "reactions_to_remove = [r for r in reduced_model.reactions if FVA.loc[r.id, 'minimum'] >= -EPSILON and FVA.loc[r.id, 'maximum'] <= EPSILON ]\n",
    "print(reactions_to_remove)\n",
    "reduced_model.remove_reactions(reactions_to_remove)\n",
    "reduced_model.repair()\n",
    "\n",
    "metabolites_to_remove = [m for m in reduced_model.metabolites if len(m.reactions) == 0]\n",
    "reduced_model.remove_metabolites(metabolites_to_remove)\n",
    "reduced_model.repair()\n",
    "\n",
    "sol = reduced_model.optimize()\n",
    "print(sol.objective_value)"
   ]
  },
  {
   "cell_type": "code",
   "execution_count": 236,
   "metadata": {},
   "outputs": [
    {
     "name": "stderr",
     "output_type": "stream",
     "text": [
      "2024-09-26 11:05:04,074 - thermomodel_Recon3thermoCurated - INFO - Beginning variability analysis for variable of type reactions\n",
      "minimizing: 100%|██████████| 78/78 [00:00<00:00, 285.85it/s]\n",
      "maximizing: 100%|██████████| 78/78 [00:00<00:00, 199.76it/s]\n"
     ]
    }
   ],
   "source": [
    "# Run a flux analysis to see how constrain is the flux \n",
    "from pytfa.analysis import variability_analysis\n",
    "FVA = variability_analysis(reduced_model, kind='reactions')\n",
    "\n",
    "# Plot the fluxes as bars starting at min and ending at max\n",
    "FVA['range'] = FVA.maximum - FVA.minimum\n",
    "FVA['mid'] = (FVA.maximum + FVA.minimum) / 2\n",
    "\n",
    "fasted_fluxes = FVA['mid']"
   ]
  },
  {
   "cell_type": "code",
   "execution_count": null,
   "metadata": {},
   "outputs": [],
   "source": []
  },
  {
   "cell_type": "code",
   "execution_count": 237,
   "metadata": {},
   "outputs": [
    {
     "data": {
      "image/png": "[encoded data removed]",
      "text/plain": [
       "<Figure size 1000x300 with 1 Axes>"
      ]
     },
     "metadata": {},
     "output_type": "display_data"
    }
   ],
   "source": [
    "# Plot the flux variablity analysis\n",
    "import matplotlib.pyplot as plt\n",
    "import seaborn as sns\n",
    "\n",
    "f = plt.figure(figsize=(10, 3))\n",
    "plt.bar(FVA.index, FVA.range, bottom=FVA.minimum)\n",
    "plt.scatter(FVA.index, FVA.mid, color='k', s=10)\n",
    "\n",
    "# from cobra.flux_analysis.parsimonious import optimize_minimal_flux\n",
    "# reduced_model.objective = reduced_model.problem.Objective(reduced_model.reactions.cyt_atp2adp.forward_variable, direction='max')\n",
    "# sol = optimize_minimal_flux(reduced_model)\n",
    "# plt.scatter(sol.fluxes.index, sol.fluxes, color='r', s=10)\n",
    "\n",
    "plt.xticks(rotation=90)\n",
    "plt.tight_layout()\n",
    "\n",
    "plt.show()"
   ]
  },
  {
   "cell_type": "code",
   "execution_count": 238,
   "metadata": {},
   "outputs": [],
   "source": [
    "# Print bidreactional reactions from FVA\n",
    "for r in reduced_model.reactions:\n",
    "    if FVA.loc[r.id, 'minimum'] < -EPSILON and FVA.loc[r.id, 'maximum'] > EPSILON:\n",
    "        print(r.id, r.reaction, FVA.loc[r.id, ['minimum', 'maximum']].values)\n"
   ]
  },
  {
   "cell_type": "code",
   "execution_count": 239,
   "metadata": {},
   "outputs": [
    {
     "name": "stdout",
     "output_type": "stream",
     "text": [
      "NAt3_1 h_e + na1_c <=> h_c + na1_e [-1.1 -1. ]\n",
      "-------------------\n",
      "PIt1 2.0 na1_e + pi_e --> 2.0 na1_c + pi_c [1. 2.]\n",
      "-------------------\n",
      "NaK_pump atp_c + h2o_c + 2.0 k_e + 3.0 na1_c --> adp_c + h_c + 2.0 k_c + 3.0 na1_e + pi_c [0.5  0.55]\n",
      "-------------------\n",
      "Na_dummy na1_e <-- na1_c [-3.6 -1.5]\n",
      "-------------------\n",
      "NaH_antiport h_c + na1_m <=> h_m + na1_c [1.  1.1]\n",
      "-------------------\n",
      "Na_channel na1_c --> na1_m [1.  1.1]\n",
      "-------------------\n"
     ]
    }
   ],
   "source": [
    "# Print all reactions and reaction formulas that use sodium\n",
    "for r in reduced_model.reactions:\n",
    "    if reduced_model.metabolites.na1_c in r.metabolites or reduced_model.metabolites.na1_m in r.metabolites:\n",
    "        print(r.id, r.reaction, FVA.loc[r.id, ['minimum', 'maximum']].values)\n",
    "        print('-------------------')\n",
    "        "
   ]
  },
  {
   "cell_type": "code",
   "execution_count": null,
   "metadata": {},
   "outputs": [],
   "source": []
  },
  {
   "cell_type": "code",
   "execution_count": 240,
   "metadata": {},
   "outputs": [],
   "source": [
    "# Force minimal flux of 1e-4 and deltaG of -1e-4\n",
    "EPSILON_DG = 0.03 # kcal/mol\n",
    "EPSILON_FLUX = 1e-3\n",
    "sol = reduced_model.optimize()\n",
    "\n",
    "for rxn in reduced_model.reactions:\n",
    "    sol = reduced_model.optimize()\n",
    "    primal_dg = None\n",
    "    if FVA.loc[rxn.id].maximum > 0:\n",
    "\n",
    "        rxn.bounds = (EPSILON_FLUX, rxn.bounds[1])\n",
    "        try:\n",
    "            deltaG = reduced_model.delta_g.get_by_id(rxn.id).variable\n",
    "            deltaG.ub = -EPSILON_DG\n",
    "        except KeyError:\n",
    "            pass\n",
    "            \n",
    "    elif FVA.loc[rxn.id].minimum < 0:\n",
    "        rxn.bounds = (rxn.bounds[0], -EPSILON_FLUX)\n",
    "        try:\n",
    "            deltaG = reduced_model.delta_g.get_by_id(rxn.id).variable\n",
    "            deltaG.lb = EPSILON_DG\n",
    "        except KeyError:\n",
    "            pass\n",
    "    else:\n",
    "        raise ValueError(f\"Somthing is really from with {rxn.id}\")\n",
    "\n",
    "    try:\n",
    "        sol = reduced_model.optimize()\n",
    "        if sol.status != 'optimal':\n",
    "            raise SolverError(f\"Failed to constrain {rxn.id} as {primal_dg}\")\n",
    "    except SolverError:\n",
    "        raise SolverError(f\"Failed to constrain {rxn.id} as {primal_dg}\")\n",
    "    \n"
   ]
  },
  {
   "cell_type": "code",
   "execution_count": 241,
   "metadata": {},
   "outputs": [
    {
     "name": "stderr",
     "output_type": "stream",
     "text": [
      "2024-09-26 11:05:05,783 - thermomodel_Recon3thermoCurated - INFO - Beginning variability analysis for variable of type <class 'pytfa.optim.variables.LogConcentration'>\n",
      "minimizing: 100%|██████████| 86/86 [00:00<00:00, 360.34it/s]\n",
      "maximizing: 100%|██████████| 86/86 [00:00<00:00, 469.69it/s]\n"
     ]
    },
    {
     "data": {
      "image/png": "[encoded data removed]",
      "text/plain": [
       "<Figure size 1500x500 with 1 Axes>"
      ]
     },
     "metadata": {},
     "output_type": "display_data"
    }
   ],
   "source": [
    "# Plot the flux variablity analysis\n",
    "import matplotlib.pyplot as plt\n",
    "import seaborn as sns\n",
    "\n",
    "# Concentration of metabolites\n",
    "from pytfa.optim.variables import LogConcentration\n",
    "TVA = variability_analysis(reduced_model, kind=LogConcentration)\n",
    "\n",
    "\n",
    "# Plot the fluxes as bars starting at min and ending at max\n",
    "plt.figure(figsize=(15, 5))\n",
    "\n",
    "# Transform from log to log10 -> scale with log10(e)\n",
    "TVA['minimum'] = TVA.minimum * np.log10(np.exp(1))\n",
    "TVA['maximum'] = TVA.maximum * np.log10(np.exp(1))\n",
    "\n",
    "TVA['range'] = TVA.maximum - TVA.minimum\n",
    "TVA['mid'] = (TVA.maximum + TVA.minimum) / 2\n",
    "\n",
    "\n",
    "plt.bar(TVA.index, TVA.range, bottom=TVA.minimum)\n",
    "plt.scatter(TVA.index, TVA.mid, color='k', s=10)\n",
    "plt.xticks(np.arange(len(TVA.index)), TVA.index, rotation=90)\n",
    "plt.tight_layout()\n",
    "\n",
    "plt.show()"
   ]
  },
  {
   "cell_type": "code",
   "execution_count": 242,
   "metadata": {},
   "outputs": [
    {
     "name": "stderr",
     "output_type": "stream",
     "text": [
      "2024-09-26 11:05:06,512 - thermomodel_Recon3thermoCurated - INFO - Beginning variability analysis for variable of type <class 'pytfa.optim.variables.DeltaG'>\n",
      "minimizing: 100%|██████████| 68/68 [00:00<00:00, 328.83it/s]\n",
      "maximizing: 100%|██████████| 68/68 [00:00<00:00, 415.98it/s]\n",
      "2024-09-26 11:05:06,886 - thermomodel_Recon3thermoCurated - INFO - Beginning variability analysis for variable of type <class 'pytfa.optim.variables.DeltaGstd'>\n",
      "minimizing: 100%|██████████| 68/68 [00:00<00:00, 618.60it/s]\n",
      "maximizing: 100%|██████████| 68/68 [00:00<00:00, 546.33it/s]\n",
      "2024-09-26 11:05:07,124 - thermomodel_Recon3thermoCurated - INFO - Beginning variability analysis for variable of type <class 'pytfa.optim.variables.LogConcentration'>\n",
      "minimizing: 100%|██████████| 86/86 [00:00<00:00, 363.88it/s]\n",
      "maximizing: 100%|██████████| 86/86 [00:00<00:00, 479.65it/s]\n"
     ]
    }
   ],
   "source": [
    "from pytfa.analysis import  apply_reaction_variability,     \\\n",
    "                            apply_generic_variability,      \\\n",
    "                            apply_directionality\n",
    "\n",
    "from pytfa.optim.variables import DeltaG,DeltaGstd,LogConcentration\n",
    "# Fesiblitity analysis\n",
    "solution = reduced_model.optimize()\n",
    "\n",
    "\n",
    "# TVA of the model\n",
    "thermo_vars = [DeltaG,DeltaGstd,LogConcentration]\n",
    "TVA = variability_analysis(reduced_model, kind=thermo_vars)\n",
    "\n",
    "\n",
    "# Strip model of integers variables\n",
    "fixed_directionality_model = apply_directionality(reduced_model, solution)\n",
    "tight_model = apply_reaction_variability(fixed_directionality_model, FVA)\n",
    "tight_model = apply_generic_variability (tight_model  , TVA)"
   ]
  },
  {
   "cell_type": "code",
   "execution_count": 243,
   "metadata": {},
   "outputs": [
    {
     "name": "stderr",
     "output_type": "stream",
     "text": [
      "2024-09-26 11:05:07,713 - thermomodel_Recon3thermoCurated - INFO - # Model initialized with units kcal/mol and temperature 298.15 K\n"
     ]
    },
    {
     "name": "stdout",
     "output_type": "stream",
     "text": [
      "Is the cobra_model still integer ? False\n"
     ]
    }
   ],
   "source": [
    "from pytfa.optim import strip_from_integer_variables\n",
    "from pytfa.analysis import sample\n",
    "\n",
    "continuous_model = strip_from_integer_variables(tight_model)\n",
    "continuous_model.repair()"
   ]
  },
  {
   "cell_type": "code",
   "execution_count": 244,
   "metadata": {},
   "outputs": [],
   "source": [
    "continuous_model.solver.configuration.tolerances.feasibility = 1e-9\n",
    "continuous_model.solver.configuration.tolerances.optimality = 1e-9\n",
    "continuous_model.solver.configuration.tolerances.integrality = 1e-9\n"
   ]
  },
  {
   "cell_type": "code",
   "execution_count": 245,
   "metadata": {},
   "outputs": [
    {
     "data": {
      "text/plain": [
       "'bhb_m + nad_m --> acac_m + 2.0 h_m + nadh_m'"
      ]
     },
     "execution_count": 245,
     "metadata": {},
     "output_type": "execute_result"
    }
   ],
   "source": [
    "continuous_model.delta_gstd.BDHm.reaction.reaction"
   ]
  },
  {
   "cell_type": "code",
   "execution_count": 246,
   "metadata": {},
   "outputs": [
    {
     "data": {
      "text/html": [
       "<strong><em>Optimal</em> solution with objective value 5.323</strong><br><div>\n",
       "<style scoped>\n",
       "    .dataframe tbody tr th:only-of-type {\n",
       "        vertical-align: middle;\n",
       "    }\n",
       "\n",
       "    .dataframe tbody tr th {\n",
       "        vertical-align: top;\n",
       "    }\n",
       "\n",
       "    .dataframe thead th {\n",
       "        text-align: right;\n",
       "    }\n",
       "</style>\n",
       "<table border=\"1\" class=\"dataframe\">\n",
       "  <thead>\n",
       "    <tr style=\"text-align: right;\">\n",
       "      <th></th>\n",
       "      <th>fluxes</th>\n",
       "      <th>reduced_costs</th>\n",
       "    </tr>\n",
       "  </thead>\n",
       "  <tbody>\n",
       "    <tr>\n",
       "      <th>ACACT1rm</th>\n",
       "      <td>-0.006636</td>\n",
       "      <td>None</td>\n",
       "    </tr>\n",
       "    <tr>\n",
       "      <th>ACONTm</th>\n",
       "      <td>0.441967</td>\n",
       "      <td>None</td>\n",
       "    </tr>\n",
       "    <tr>\n",
       "      <th>AKGDm</th>\n",
       "      <td>0.441967</td>\n",
       "      <td>None</td>\n",
       "    </tr>\n",
       "    <tr>\n",
       "      <th>AKGMALtm</th>\n",
       "      <td>0.141120</td>\n",
       "      <td>None</td>\n",
       "    </tr>\n",
       "    <tr>\n",
       "      <th>ASPGLUm</th>\n",
       "      <td>0.141120</td>\n",
       "      <td>None</td>\n",
       "    </tr>\n",
       "    <tr>\n",
       "      <th>...</th>\n",
       "      <td>...</td>\n",
       "      <td>...</td>\n",
       "    </tr>\n",
       "    <tr>\n",
       "      <th>K_channel</th>\n",
       "      <td>-1.000000</td>\n",
       "      <td>None</td>\n",
       "    </tr>\n",
       "    <tr>\n",
       "      <th>Na_dummy</th>\n",
       "      <td>-1.500000</td>\n",
       "      <td>None</td>\n",
       "    </tr>\n",
       "    <tr>\n",
       "      <th>H_channel</th>\n",
       "      <td>1.000000</td>\n",
       "      <td>None</td>\n",
       "    </tr>\n",
       "    <tr>\n",
       "      <th>NaH_antiport</th>\n",
       "      <td>1.000000</td>\n",
       "      <td>None</td>\n",
       "    </tr>\n",
       "    <tr>\n",
       "      <th>Na_channel</th>\n",
       "      <td>1.000000</td>\n",
       "      <td>None</td>\n",
       "    </tr>\n",
       "  </tbody>\n",
       "</table>\n",
       "<p>78 rows × 2 columns</p>\n",
       "</div>"
      ],
      "text/plain": [
       "<Solution 5.323 at 0x7fbe397a7190>"
      ]
     },
     "execution_count": 246,
     "metadata": {},
     "output_type": "execute_result"
    }
   ],
   "source": [
    "# Gelta D constraints for glycolysis (Lehninger)\n",
    "continuous_model.delta_g.HEX1.variable.ub = -20 * 0.239006\n",
    "continuous_model.delta_g.HEX1.variable.lb = -33.4 * 0.239006\n",
    "\n",
    "# Make sure PYK is fwd driven\n",
    "continuous_model.delta_g.PYK.variable.ub = -10 * 0.239006\n",
    "continuous_model.delta_g.PYK.variable.lb = -30 * 0.239006\n",
    "\n",
    "# PFK \n",
    "continuous_model.delta_g.PFK.variable.ub = -10 * 0.239006\n",
    "continuous_model.delta_g.PFK.variable.lb = -25 * 0.239006\n",
    "\n",
    "continuous_model.optimize()"
   ]
  },
  {
   "cell_type": "code",
   "execution_count": 247,
   "metadata": {},
   "outputs": [
    {
     "data": {
      "text/html": [
       "<strong><em>Optimal</em> solution with objective value 5.323</strong><br><div>\n",
       "<style scoped>\n",
       "    .dataframe tbody tr th:only-of-type {\n",
       "        vertical-align: middle;\n",
       "    }\n",
       "\n",
       "    .dataframe tbody tr th {\n",
       "        vertical-align: top;\n",
       "    }\n",
       "\n",
       "    .dataframe thead th {\n",
       "        text-align: right;\n",
       "    }\n",
       "</style>\n",
       "<table border=\"1\" class=\"dataframe\">\n",
       "  <thead>\n",
       "    <tr style=\"text-align: right;\">\n",
       "      <th></th>\n",
       "      <th>fluxes</th>\n",
       "      <th>reduced_costs</th>\n",
       "    </tr>\n",
       "  </thead>\n",
       "  <tbody>\n",
       "    <tr>\n",
       "      <th>ACACT1rm</th>\n",
       "      <td>-0.006636</td>\n",
       "      <td>None</td>\n",
       "    </tr>\n",
       "    <tr>\n",
       "      <th>ACONTm</th>\n",
       "      <td>0.441967</td>\n",
       "      <td>None</td>\n",
       "    </tr>\n",
       "    <tr>\n",
       "      <th>AKGDm</th>\n",
       "      <td>0.441967</td>\n",
       "      <td>None</td>\n",
       "    </tr>\n",
       "    <tr>\n",
       "      <th>AKGMALtm</th>\n",
       "      <td>0.141120</td>\n",
       "      <td>None</td>\n",
       "    </tr>\n",
       "    <tr>\n",
       "      <th>ASPGLUm</th>\n",
       "      <td>0.141120</td>\n",
       "      <td>None</td>\n",
       "    </tr>\n",
       "    <tr>\n",
       "      <th>...</th>\n",
       "      <td>...</td>\n",
       "      <td>...</td>\n",
       "    </tr>\n",
       "    <tr>\n",
       "      <th>K_channel</th>\n",
       "      <td>-1.000000</td>\n",
       "      <td>None</td>\n",
       "    </tr>\n",
       "    <tr>\n",
       "      <th>Na_dummy</th>\n",
       "      <td>-1.500000</td>\n",
       "      <td>None</td>\n",
       "    </tr>\n",
       "    <tr>\n",
       "      <th>H_channel</th>\n",
       "      <td>1.000000</td>\n",
       "      <td>None</td>\n",
       "    </tr>\n",
       "    <tr>\n",
       "      <th>NaH_antiport</th>\n",
       "      <td>1.000000</td>\n",
       "      <td>None</td>\n",
       "    </tr>\n",
       "    <tr>\n",
       "      <th>Na_channel</th>\n",
       "      <td>1.000000</td>\n",
       "      <td>None</td>\n",
       "    </tr>\n",
       "  </tbody>\n",
       "</table>\n",
       "<p>78 rows × 2 columns</p>\n",
       "</div>"
      ],
      "text/plain": [
       "<Solution 5.323 at 0x7fbe2ac48f40>"
      ]
     },
     "execution_count": 247,
     "metadata": {},
     "output_type": "execute_result"
    }
   ],
   "source": [
    "# Rest of glycolysis close to equilibrium\n",
    "continuous_model.delta_g.PGI.variable.lb = -0.5 * 0.239006 # Shu be very close to equilibrium\n",
    "continuous_model.delta_g.FBA.variable.lb = -0.5 * 0.239006 # 6 in lehninger but we make it more reversible since glycolysis bearly active\n",
    "continuous_model.delta_g.TPI.variable.lb = -0.5 * 0.239006 # Shu be very close to equilibrium\n",
    "continuous_model.delta_g.PGM.variable.ub = 0.5 * 0.239006 # reverse annotated\n",
    "continuous_model.delta_g.PGK.variable.ub = 0.5 * 0.239006 # reverse annotated\n",
    "continuous_model.delta_g.GAPD.variable.lb = -0.5 * 0.239006\n",
    "continuous_model.delta_g.ENO.variable.lb = -0.5 * 0.239006\n",
    "\n",
    "continuous_model.optimize()"
   ]
  },
  {
   "cell_type": "code",
   "execution_count": 248,
   "metadata": {},
   "outputs": [
    {
     "data": {
      "text/html": [
       "<strong><em>Optimal</em> solution with objective value 5.323</strong><br><div>\n",
       "<style scoped>\n",
       "    .dataframe tbody tr th:only-of-type {\n",
       "        vertical-align: middle;\n",
       "    }\n",
       "\n",
       "    .dataframe tbody tr th {\n",
       "        vertical-align: top;\n",
       "    }\n",
       "\n",
       "    .dataframe thead th {\n",
       "        text-align: right;\n",
       "    }\n",
       "</style>\n",
       "<table border=\"1\" class=\"dataframe\">\n",
       "  <thead>\n",
       "    <tr style=\"text-align: right;\">\n",
       "      <th></th>\n",
       "      <th>fluxes</th>\n",
       "      <th>reduced_costs</th>\n",
       "    </tr>\n",
       "  </thead>\n",
       "  <tbody>\n",
       "    <tr>\n",
       "      <th>ACACT1rm</th>\n",
       "      <td>-0.006636</td>\n",
       "      <td>None</td>\n",
       "    </tr>\n",
       "    <tr>\n",
       "      <th>ACONTm</th>\n",
       "      <td>0.441967</td>\n",
       "      <td>None</td>\n",
       "    </tr>\n",
       "    <tr>\n",
       "      <th>AKGDm</th>\n",
       "      <td>0.441967</td>\n",
       "      <td>None</td>\n",
       "    </tr>\n",
       "    <tr>\n",
       "      <th>AKGMALtm</th>\n",
       "      <td>0.141120</td>\n",
       "      <td>None</td>\n",
       "    </tr>\n",
       "    <tr>\n",
       "      <th>ASPGLUm</th>\n",
       "      <td>0.141120</td>\n",
       "      <td>None</td>\n",
       "    </tr>\n",
       "    <tr>\n",
       "      <th>...</th>\n",
       "      <td>...</td>\n",
       "      <td>...</td>\n",
       "    </tr>\n",
       "    <tr>\n",
       "      <th>K_channel</th>\n",
       "      <td>-1.000000</td>\n",
       "      <td>None</td>\n",
       "    </tr>\n",
       "    <tr>\n",
       "      <th>Na_dummy</th>\n",
       "      <td>-1.500000</td>\n",
       "      <td>None</td>\n",
       "    </tr>\n",
       "    <tr>\n",
       "      <th>H_channel</th>\n",
       "      <td>1.000000</td>\n",
       "      <td>None</td>\n",
       "    </tr>\n",
       "    <tr>\n",
       "      <th>NaH_antiport</th>\n",
       "      <td>1.000000</td>\n",
       "      <td>None</td>\n",
       "    </tr>\n",
       "    <tr>\n",
       "      <th>Na_channel</th>\n",
       "      <td>1.000000</td>\n",
       "      <td>None</td>\n",
       "    </tr>\n",
       "  </tbody>\n",
       "</table>\n",
       "<p>78 rows × 2 columns</p>\n",
       "</div>"
      ],
      "text/plain": [
       "<Solution 5.323 at 0x7fbe59c16460>"
      ]
     },
     "execution_count": 248,
     "metadata": {},
     "output_type": "execute_result"
    }
   ],
   "source": [
    "# Mitochondrial lactate transport close to equilibrium\n",
    "#continuous_model.delta_g.L_LACtm.variable.lb = 0.01 # kcal/mol\n",
    "continuous_model.delta_g.L_LACtm.variable.ub = 0.05 # kcal/mol\n",
    "\n",
    "# Latate transport L_LACt2r\n",
    "continuous_model.delta_g.L_LACt2r.variable.lb = -0.5 # kcal/mol\n",
    "\n",
    "continuous_model.optimize()"
   ]
  },
  {
   "cell_type": "code",
   "execution_count": 249,
   "metadata": {},
   "outputs": [
    {
     "data": {
      "text/html": [
       "<strong><em>Optimal</em> solution with objective value 5.323</strong><br><div>\n",
       "<style scoped>\n",
       "    .dataframe tbody tr th:only-of-type {\n",
       "        vertical-align: middle;\n",
       "    }\n",
       "\n",
       "    .dataframe tbody tr th {\n",
       "        vertical-align: top;\n",
       "    }\n",
       "\n",
       "    .dataframe thead th {\n",
       "        text-align: right;\n",
       "    }\n",
       "</style>\n",
       "<table border=\"1\" class=\"dataframe\">\n",
       "  <thead>\n",
       "    <tr style=\"text-align: right;\">\n",
       "      <th></th>\n",
       "      <th>fluxes</th>\n",
       "      <th>reduced_costs</th>\n",
       "    </tr>\n",
       "  </thead>\n",
       "  <tbody>\n",
       "    <tr>\n",
       "      <th>ACACT1rm</th>\n",
       "      <td>-0.006636</td>\n",
       "      <td>None</td>\n",
       "    </tr>\n",
       "    <tr>\n",
       "      <th>ACONTm</th>\n",
       "      <td>0.441967</td>\n",
       "      <td>None</td>\n",
       "    </tr>\n",
       "    <tr>\n",
       "      <th>AKGDm</th>\n",
       "      <td>0.441967</td>\n",
       "      <td>None</td>\n",
       "    </tr>\n",
       "    <tr>\n",
       "      <th>AKGMALtm</th>\n",
       "      <td>0.141120</td>\n",
       "      <td>None</td>\n",
       "    </tr>\n",
       "    <tr>\n",
       "      <th>ASPGLUm</th>\n",
       "      <td>0.141120</td>\n",
       "      <td>None</td>\n",
       "    </tr>\n",
       "    <tr>\n",
       "      <th>...</th>\n",
       "      <td>...</td>\n",
       "      <td>...</td>\n",
       "    </tr>\n",
       "    <tr>\n",
       "      <th>K_channel</th>\n",
       "      <td>-1.000000</td>\n",
       "      <td>None</td>\n",
       "    </tr>\n",
       "    <tr>\n",
       "      <th>Na_dummy</th>\n",
       "      <td>-1.500000</td>\n",
       "      <td>None</td>\n",
       "    </tr>\n",
       "    <tr>\n",
       "      <th>H_channel</th>\n",
       "      <td>1.000000</td>\n",
       "      <td>None</td>\n",
       "    </tr>\n",
       "    <tr>\n",
       "      <th>NaH_antiport</th>\n",
       "      <td>1.000000</td>\n",
       "      <td>None</td>\n",
       "    </tr>\n",
       "    <tr>\n",
       "      <th>Na_channel</th>\n",
       "      <td>1.000000</td>\n",
       "      <td>None</td>\n",
       "    </tr>\n",
       "  </tbody>\n",
       "</table>\n",
       "<p>78 rows × 2 columns</p>\n",
       "</div>"
      ],
      "text/plain": [
       "<Solution 5.323 at 0x7fbe1b8be1f0>"
      ]
     },
     "execution_count": 249,
     "metadata": {},
     "output_type": "execute_result"
    }
   ],
   "source": [
    "# Other considerations\n",
    "# PDHm is thought to be displaced from equilibrium\n",
    "continuous_model.delta_g.PDHm.variable.ub = -2 # kcal/mol\n",
    "\n",
    "# SCCOAS is not regulated -> close to equilibrium\n",
    "continuous_model.delta_g.SUCOAS1m.variable.ub = 0.5 # kcal/mol\n",
    "\n",
    "# AConitase close to equilibrium\n",
    "continuous_model.delta_g.ACONTm.variable.lb = -0.5 # kcal/mol\n",
    "\n",
    "# Limit CPT1 and CPT2 to a small range 1-2 kcal/mol\n",
    "continuous_model.delta_g.C160CPT2.variable.lb = -0.5 # kcal/mol\n",
    "continuous_model.delta_g.C160CPT1.variable.lb = -0.5 # kcal/mol\n",
    "\n",
    "# ADK1 / NDPK1mclose to equilibrium\n",
    "continuous_model.delta_g.ADK1.variable.lb = -0.5 # kcal/mol\n",
    "continuous_model.delta_g.NDPK1m.variable.ub = 0.5 # kcal/mol\n",
    "\n",
    "# Trans amination should be at equilibrium\n",
    "#continuous_model.delta_g.ASPTAm.variable.ub = 0.1\n",
    "\n",
    "# Limit irreverisblity of GPD1 and MDH\n",
    "continuous_model.delta_g.MDH.variable.ub = 0.5\n",
    "\n",
    "# Limit the irreversibility of the glycerol-3-phosphate shuttle\n",
    "continuous_model.delta_g.G3PD1.variable.ub = 2.5\n",
    "\n",
    "# Phosphate exchange should be close to equilibriu\n",
    "#continuous_model.delta_g.PIt1.variable.lb = -0.5\n",
    "\n",
    "continuous_model.optimize()"
   ]
  },
  {
   "cell_type": "code",
   "execution_count": 250,
   "metadata": {},
   "outputs": [
    {
     "data": {
      "text/html": [
       "<strong><em>Optimal</em> solution with objective value 5.323</strong><br><div>\n",
       "<style scoped>\n",
       "    .dataframe tbody tr th:only-of-type {\n",
       "        vertical-align: middle;\n",
       "    }\n",
       "\n",
       "    .dataframe tbody tr th {\n",
       "        vertical-align: top;\n",
       "    }\n",
       "\n",
       "    .dataframe thead th {\n",
       "        text-align: right;\n",
       "    }\n",
       "</style>\n",
       "<table border=\"1\" class=\"dataframe\">\n",
       "  <thead>\n",
       "    <tr style=\"text-align: right;\">\n",
       "      <th></th>\n",
       "      <th>fluxes</th>\n",
       "      <th>reduced_costs</th>\n",
       "    </tr>\n",
       "  </thead>\n",
       "  <tbody>\n",
       "    <tr>\n",
       "      <th>ACACT1rm</th>\n",
       "      <td>-0.006636</td>\n",
       "      <td>None</td>\n",
       "    </tr>\n",
       "    <tr>\n",
       "      <th>ACONTm</th>\n",
       "      <td>0.441967</td>\n",
       "      <td>None</td>\n",
       "    </tr>\n",
       "    <tr>\n",
       "      <th>AKGDm</th>\n",
       "      <td>0.441967</td>\n",
       "      <td>None</td>\n",
       "    </tr>\n",
       "    <tr>\n",
       "      <th>AKGMALtm</th>\n",
       "      <td>0.141120</td>\n",
       "      <td>None</td>\n",
       "    </tr>\n",
       "    <tr>\n",
       "      <th>ASPGLUm</th>\n",
       "      <td>0.141120</td>\n",
       "      <td>None</td>\n",
       "    </tr>\n",
       "    <tr>\n",
       "      <th>...</th>\n",
       "      <td>...</td>\n",
       "      <td>...</td>\n",
       "    </tr>\n",
       "    <tr>\n",
       "      <th>K_channel</th>\n",
       "      <td>-1.000000</td>\n",
       "      <td>None</td>\n",
       "    </tr>\n",
       "    <tr>\n",
       "      <th>Na_dummy</th>\n",
       "      <td>-1.500000</td>\n",
       "      <td>None</td>\n",
       "    </tr>\n",
       "    <tr>\n",
       "      <th>H_channel</th>\n",
       "      <td>1.000000</td>\n",
       "      <td>None</td>\n",
       "    </tr>\n",
       "    <tr>\n",
       "      <th>NaH_antiport</th>\n",
       "      <td>1.000000</td>\n",
       "      <td>None</td>\n",
       "    </tr>\n",
       "    <tr>\n",
       "      <th>Na_channel</th>\n",
       "      <td>1.000000</td>\n",
       "      <td>None</td>\n",
       "    </tr>\n",
       "  </tbody>\n",
       "</table>\n",
       "<p>78 rows × 2 columns</p>\n",
       "</div>"
      ],
      "text/plain": [
       "<Solution 5.323 at 0x7fbe69bc23a0>"
      ]
     },
     "execution_count": 250,
     "metadata": {},
     "output_type": "execute_result"
    }
   ],
   "source": [
    "# ELCTRON TRANSPORT CHAIN \n",
    "continuous_model.delta_g.NADH2_u10mi.variable.ub = -0.5 # kcal/mol\n",
    "continuous_model.delta_g.CYOOm2i.variable.ub = -0.5 # kcal/mol\n",
    "\n",
    "# Displace the CYOR_u10mi a bit more from equilibrium\n",
    "continuous_model.delta_g.CYOR_u10mi.variable.ub = -1.0 # kcal/mol\n",
    "\n",
    "# Complex II like entry into ETC \n",
    "# Succinate dehydrogenase should be displced from equilibrium! \n",
    "continuous_model.delta_g.r0509.variable.ub = -1.0 # kcal/mol\n",
    "continuous_model.delta_g.FADH2ETC.variable.ub = -1.0# kcal/mol\n",
    "continuous_model.optimize()"
   ]
  },
  {
   "cell_type": "code",
   "execution_count": 251,
   "metadata": {},
   "outputs": [],
   "source": [
    "# LDH_L needs to have some displacement\n",
    "#continuous_model.delta_g.LDH_L.variable.ub = -0.1\n",
    "#continuous_model.optimize()"
   ]
  },
  {
   "cell_type": "code",
   "execution_count": 252,
   "metadata": {},
   "outputs": [
    {
     "data": {
      "text/html": [
       "<strong><em>Optimal</em> solution with objective value 5.323</strong><br><div>\n",
       "<style scoped>\n",
       "    .dataframe tbody tr th:only-of-type {\n",
       "        vertical-align: middle;\n",
       "    }\n",
       "\n",
       "    .dataframe tbody tr th {\n",
       "        vertical-align: top;\n",
       "    }\n",
       "\n",
       "    .dataframe thead th {\n",
       "        text-align: right;\n",
       "    }\n",
       "</style>\n",
       "<table border=\"1\" class=\"dataframe\">\n",
       "  <thead>\n",
       "    <tr style=\"text-align: right;\">\n",
       "      <th></th>\n",
       "      <th>fluxes</th>\n",
       "      <th>reduced_costs</th>\n",
       "    </tr>\n",
       "  </thead>\n",
       "  <tbody>\n",
       "    <tr>\n",
       "      <th>ACACT1rm</th>\n",
       "      <td>-0.006636</td>\n",
       "      <td>None</td>\n",
       "    </tr>\n",
       "    <tr>\n",
       "      <th>ACONTm</th>\n",
       "      <td>0.441967</td>\n",
       "      <td>None</td>\n",
       "    </tr>\n",
       "    <tr>\n",
       "      <th>AKGDm</th>\n",
       "      <td>0.441967</td>\n",
       "      <td>None</td>\n",
       "    </tr>\n",
       "    <tr>\n",
       "      <th>AKGMALtm</th>\n",
       "      <td>0.141120</td>\n",
       "      <td>None</td>\n",
       "    </tr>\n",
       "    <tr>\n",
       "      <th>ASPGLUm</th>\n",
       "      <td>0.141120</td>\n",
       "      <td>None</td>\n",
       "    </tr>\n",
       "    <tr>\n",
       "      <th>...</th>\n",
       "      <td>...</td>\n",
       "      <td>...</td>\n",
       "    </tr>\n",
       "    <tr>\n",
       "      <th>K_channel</th>\n",
       "      <td>-1.000000</td>\n",
       "      <td>None</td>\n",
       "    </tr>\n",
       "    <tr>\n",
       "      <th>Na_dummy</th>\n",
       "      <td>-1.500000</td>\n",
       "      <td>None</td>\n",
       "    </tr>\n",
       "    <tr>\n",
       "      <th>H_channel</th>\n",
       "      <td>1.000000</td>\n",
       "      <td>None</td>\n",
       "    </tr>\n",
       "    <tr>\n",
       "      <th>NaH_antiport</th>\n",
       "      <td>1.000000</td>\n",
       "      <td>None</td>\n",
       "    </tr>\n",
       "    <tr>\n",
       "      <th>Na_channel</th>\n",
       "      <td>1.000000</td>\n",
       "      <td>None</td>\n",
       "    </tr>\n",
       "  </tbody>\n",
       "</table>\n",
       "<p>78 rows × 2 columns</p>\n",
       "</div>"
      ],
      "text/plain": [
       "<Solution 5.323 at 0x7fbe2ab59670>"
      ]
     },
     "execution_count": 252,
     "metadata": {},
     "output_type": "execute_result"
    }
   ],
   "source": [
    "# Model that all other Na transport is not to far from equilibrium\n",
    "continuous_model.delta_g.Na_dummy.variable.ub = 0.5\n",
    "\n",
    "\n",
    "continuous_model.optimize()"
   ]
  },
  {
   "cell_type": "code",
   "execution_count": 253,
   "metadata": {},
   "outputs": [],
   "source": [
    "# continuous_model.delta_g.BDHm.variable.lb = -10.0 # kcal/mol\n",
    "# continuous_model.delta_g.OCOAT1m.variable.lb = -1.0 # kcal/mol\n",
    "\n",
    "\n",
    "# Force the Asapartate/Malte shuttle to be clsoe ot equilibrium\n",
    "# continuous_model.delta_g.ASPTA.variable.lb = -1.0 * 0.24 # kcal/mol\n",
    "# continuous_model.delta_g.ASPTAm.variable.ub = 1.0 * 0.24 # kcal/mol\n",
    "# continuous_model.delta_g.MDHm.variable.lb = -1.0 * 0.24 # kcal/mol\n",
    "# continuous_model.delta_g.ASPGLUm.variable.lb = -1.0 * 0.24 # kcal/mol\n",
    "# continuous_model.delta_g.AKGMALtm.variable.lb = -1.0 * 0.24 # kcal\n",
    "\n",
    "# # This should be the control point since it senses cytosolic NADH\n",
    "# continuous_model.delta_g.MDH.variable.ub = 10.0 * 0.24 # kcal/mol"
   ]
  },
  {
   "cell_type": "code",
   "execution_count": null,
   "metadata": {},
   "outputs": [],
   "source": []
  },
  {
   "cell_type": "code",
   "execution_count": 254,
   "metadata": {},
   "outputs": [],
   "source": [
    "# Make some assumption on the most importat \n",
    "\n",
    "# NAD concentration\n",
    "nad_concentration = 1.5 # mM\n",
    "set_concentration(continuous_model, 'nad_c', nad_concentration, uncertainty=0.9)\n",
    "set_concentration(continuous_model, 'nad_m', nad_concentration, uncertainty=0.9)\n",
    "\n",
    "# Assumption of OAA 10 uM rangge\n",
    "set_concentration(continuous_model, 'oaa_m', 1e-3, 0.99)\n",
    "set_concentration(continuous_model, 'oaa_c', 10e-3, 0.9)\n",
    "\n",
    "# FAD concentration\n",
    "fad_concentration = 10e-3# mM\n",
    "set_concentration(continuous_model, 'fad_m', fad_concentration, uncertainty=0.9)\n",
    "set_concentration(continuous_model, 'fadh2_m', fad_concentration, uncertainty=0.99)\n",
    "\n",
    "\n",
    "# GDP concentration\n",
    "gdp_concentration = 0.05 # mM\n",
    "set_concentration(continuous_model, 'gtp_m', gdp_concentration, uncertainty=0.5)\n",
    "\n",
    "# ATP concentration 10 uM range\n",
    "set_concentration(continuous_model, 'atp_c', 10e-3, uncertainty=0.5)\n",
    "\n",
    "# Mitochondiral ATP concentration \n",
    "set_concentration(continuous_model, 'atp_m', 10e-3, uncertainty=0.5)\n",
    "\n",
    "# Ubiqionone 40 uM range  https://www.nature.com/articles/pr2015124\n",
    "set_concentration(continuous_model, 'q10h2_m' , 40e-3, uncertainty=0.5)\n",
    "set_concentration(continuous_model, 'q10_m' , 4e-3, uncertainty=0.9)\n",
    "\n",
    "# Ferrocyto-chrome 1uM range\n",
    "set_concentration(continuous_model, 'ficytC_m', 1e-3, uncertainty=0.5)\n",
    "\n",
    "# # Acetocatete concentrion << Km of OCOAT1m\n",
    "# set_concentration(continuous_model, 'acac_m', 10e-3, uncertainty=0.99)\n",
    "\n",
    "# Accetoacetate CoA concentration in 1uM range\n",
    "set_concentration(continuous_model, 'aacoa_m', 1e-3, uncertainty=0.9)\n",
    "\n",
    "# Diphotphate 0.1 mM ?!\n",
    "set_concentration(continuous_model, 'ppi_c', 0.1, 0.9)\n",
    "\n",
    "# Intra cellular glucose should be lowish 1-10 uM\n",
    "set_concentration(continuous_model, 'glc_D_c',  50e-3, 0.99)\n",
    "\n",
    "# Actetyl coa in 500 uM range\n",
    "set_concentration(continuous_model, 'accoa_m', 500e-3, 0.99)\n",
    "\n",
    "# succoa_m 10 uM range\n",
    "set_concentration(continuous_model, 'succoa_m', 50e-3, 0.99)\n",
    "\n",
    "# mitochondiral co2 abour 2 fold hiher than extracellular + gradient\n",
    "set_concentration(continuous_model, 'co2_m', 1.5 * co2_concentration, 0.1)\n",
    "set_concentration(continuous_model, 'co2_c', 1.25 * co2_concentration, 0.1)\n"
   ]
  },
  {
   "cell_type": "code",
   "execution_count": 255,
   "metadata": {},
   "outputs": [
    {
     "name": "stderr",
     "output_type": "stream",
     "text": [
      "2024-09-26 11:05:08,256 - thermomodel_Recon3thermoCurated - INFO - Beginning variability analysis for variable of type <class 'pytfa.optim.variables.LogConcentration'>\n",
      "minimizing: 100%|██████████| 86/86 [00:00<00:00, 664.14it/s]\n",
      "maximizing: 100%|██████████| 86/86 [00:00<00:00, 4059.31it/s]\n"
     ]
    }
   ],
   "source": [
    "TVA = variability_analysis(continuous_model, kind=LogConcentration)\n"
   ]
  },
  {
   "cell_type": "code",
   "execution_count": null,
   "metadata": {},
   "outputs": [],
   "source": []
  },
  {
   "cell_type": "code",
   "execution_count": 256,
   "metadata": {},
   "outputs": [
    {
     "name": "stderr",
     "output_type": "stream",
     "text": [
      "2024-09-26 11:05:08,502 - thermomodel_Recon3thermoCurated - continuous - INFO - # Model initialized with units kcal/mol and temperature 298.15 K\n",
      "2024-09-26 11:05:09,213 - thermomodel_Recon3thermoCurated - continuous - INFO - # Model initialized with units kcal/mol and temperature 298.15 K\n",
      "2024-09-26 11:05:09,762 - thermomodel_Recon3thermoCurated - continuous - INFO - skipping fixed variable ACACT1rm\n",
      "2024-09-26 11:05:09,762 - thermomodel_Recon3thermoCurated - continuous - INFO - skipping fixed variable ACACT1rm_reverse_3c90a\n",
      "2024-09-26 11:05:09,763 - thermomodel_Recon3thermoCurated - continuous - INFO - skipping fixed variable ACONTm\n",
      "2024-09-26 11:05:09,763 - thermomodel_Recon3thermoCurated - continuous - INFO - skipping fixed variable ACONTm_reverse_8079b\n",
      "2024-09-26 11:05:09,764 - thermomodel_Recon3thermoCurated - continuous - INFO - skipping fixed variable AKGDm\n",
      "2024-09-26 11:05:09,765 - thermomodel_Recon3thermoCurated - continuous - INFO - skipping fixed variable AKGDm_reverse_ec8eb\n",
      "2024-09-26 11:05:09,770 - thermomodel_Recon3thermoCurated - continuous - INFO - skipping fixed variable AKGMALtm_reverse_8c3a3\n",
      "2024-09-26 11:05:09,772 - thermomodel_Recon3thermoCurated - continuous - INFO - skipping fixed variable ASPGLUm_reverse_b29bf\n",
      "2024-09-26 11:05:09,773 - thermomodel_Recon3thermoCurated - continuous - INFO - skipping fixed variable ASPTAm\n",
      "2024-09-26 11:05:09,777 - thermomodel_Recon3thermoCurated - continuous - INFO - skipping fixed variable ATPtm_reverse_b45b1\n",
      "2024-09-26 11:05:09,777 - thermomodel_Recon3thermoCurated - continuous - INFO - skipping fixed variable BDHm\n",
      "2024-09-26 11:05:09,778 - thermomodel_Recon3thermoCurated - continuous - INFO - skipping fixed variable BDHm_reverse_8031c\n",
      "2024-09-26 11:05:09,779 - thermomodel_Recon3thermoCurated - continuous - INFO - skipping fixed variable BHBt\n",
      "2024-09-26 11:05:09,779 - thermomodel_Recon3thermoCurated - continuous - INFO - skipping fixed variable BHBt_reverse_f8ad6\n",
      "2024-09-26 11:05:09,780 - thermomodel_Recon3thermoCurated - continuous - INFO - skipping fixed variable BHBtm\n",
      "2024-09-26 11:05:09,780 - thermomodel_Recon3thermoCurated - continuous - INFO - skipping fixed variable BHBtm_reverse_5356f\n",
      "2024-09-26 11:05:09,781 - thermomodel_Recon3thermoCurated - continuous - INFO - skipping fixed variable C160CPT1\n",
      "2024-09-26 11:05:09,782 - thermomodel_Recon3thermoCurated - continuous - INFO - skipping fixed variable C160CPT1_reverse_f2a81\n",
      "2024-09-26 11:05:09,783 - thermomodel_Recon3thermoCurated - continuous - INFO - skipping fixed variable C160CPT2\n",
      "2024-09-26 11:05:09,785 - thermomodel_Recon3thermoCurated - continuous - INFO - skipping fixed variable C160CPT2_reverse_90c4e\n",
      "2024-09-26 11:05:09,785 - thermomodel_Recon3thermoCurated - continuous - INFO - skipping fixed variable CO2tm\n",
      "2024-09-26 11:05:09,786 - thermomodel_Recon3thermoCurated - continuous - INFO - skipping fixed variable CO2tm_reverse_48c28\n",
      "2024-09-26 11:05:09,786 - thermomodel_Recon3thermoCurated - continuous - INFO - skipping fixed variable CSm\n",
      "2024-09-26 11:05:09,786 - thermomodel_Recon3thermoCurated - continuous - INFO - skipping fixed variable CSm_reverse_bb3a1\n",
      "2024-09-26 11:05:09,787 - thermomodel_Recon3thermoCurated - continuous - INFO - skipping fixed variable EX_bhb_e\n",
      "2024-09-26 11:05:09,787 - thermomodel_Recon3thermoCurated - continuous - INFO - skipping fixed variable EX_bhb_e_reverse_5279b\n",
      "2024-09-26 11:05:09,788 - thermomodel_Recon3thermoCurated - continuous - INFO - skipping fixed variable EX_hdca_e\n",
      "2024-09-26 11:05:09,788 - thermomodel_Recon3thermoCurated - continuous - INFO - skipping fixed variable EX_hdca_e_reverse_9ab38\n",
      "2024-09-26 11:05:09,789 - thermomodel_Recon3thermoCurated - continuous - INFO - skipping fixed variable FACOAL160i\n",
      "2024-09-26 11:05:09,789 - thermomodel_Recon3thermoCurated - continuous - INFO - skipping fixed variable FACOAL160i_reverse_c6d09\n",
      "2024-09-26 11:05:09,789 - thermomodel_Recon3thermoCurated - continuous - INFO - skipping fixed variable FAOXC160\n",
      "2024-09-26 11:05:09,790 - thermomodel_Recon3thermoCurated - continuous - INFO - skipping fixed variable FAOXC160_reverse_4c4a5\n",
      "2024-09-26 11:05:09,790 - thermomodel_Recon3thermoCurated - continuous - INFO - skipping fixed variable FATP1t\n",
      "2024-09-26 11:05:09,791 - thermomodel_Recon3thermoCurated - continuous - INFO - skipping fixed variable FATP1t_reverse_7588d\n",
      "2024-09-26 11:05:09,791 - thermomodel_Recon3thermoCurated - continuous - INFO - skipping fixed variable FUMm\n",
      "2024-09-26 11:05:09,792 - thermomodel_Recon3thermoCurated - continuous - INFO - skipping fixed variable FUMm_reverse_5e620\n",
      "2024-09-26 11:05:09,792 - thermomodel_Recon3thermoCurated - continuous - INFO - skipping fixed variable GLCt1r\n",
      "2024-09-26 11:05:09,793 - thermomodel_Recon3thermoCurated - continuous - INFO - skipping fixed variable GLCt1r_reverse_252c0\n",
      "2024-09-26 11:05:09,793 - thermomodel_Recon3thermoCurated - continuous - INFO - skipping fixed variable H2Otm\n",
      "2024-09-26 11:05:09,799 - thermomodel_Recon3thermoCurated - continuous - INFO - skipping fixed variable ICDHxm\n",
      "2024-09-26 11:05:09,799 - thermomodel_Recon3thermoCurated - continuous - INFO - skipping fixed variable ICDHxm_reverse_14a38\n",
      "2024-09-26 11:05:09,800 - thermomodel_Recon3thermoCurated - continuous - INFO - skipping fixed variable LDH_Lm\n",
      "2024-09-26 11:05:09,805 - thermomodel_Recon3thermoCurated - continuous - INFO - skipping fixed variable L_LACDcm_reverse_7bb6e\n",
      "2024-09-26 11:05:09,805 - thermomodel_Recon3thermoCurated - continuous - INFO - skipping fixed variable L_LACtm\n",
      "2024-09-26 11:05:09,812 - thermomodel_Recon3thermoCurated - continuous - INFO - skipping fixed variable MDHm_reverse_80605\n",
      "2024-09-26 11:05:09,813 - thermomodel_Recon3thermoCurated - continuous - INFO - skipping fixed variable NDPK1m\n",
      "2024-09-26 11:05:09,814 - thermomodel_Recon3thermoCurated - continuous - INFO - skipping fixed variable NDPK1m_reverse_b52dc\n",
      "2024-09-26 11:05:09,815 - thermomodel_Recon3thermoCurated - continuous - INFO - skipping fixed variable O2tm\n",
      "2024-09-26 11:05:09,816 - thermomodel_Recon3thermoCurated - continuous - INFO - skipping fixed variable O2tm_reverse_fe4d6\n",
      "2024-09-26 11:05:09,817 - thermomodel_Recon3thermoCurated - continuous - INFO - skipping fixed variable OCOAT1m\n",
      "2024-09-26 11:05:09,817 - thermomodel_Recon3thermoCurated - continuous - INFO - skipping fixed variable OCOAT1m_reverse_15b22\n",
      "2024-09-26 11:05:09,818 - thermomodel_Recon3thermoCurated - continuous - INFO - skipping fixed variable PDHm\n",
      "2024-09-26 11:05:09,819 - thermomodel_Recon3thermoCurated - continuous - INFO - skipping fixed variable PDHm_reverse_31d17\n",
      "2024-09-26 11:05:09,824 - thermomodel_Recon3thermoCurated - continuous - INFO - skipping fixed variable PYRt2m_reverse_fb762\n",
      "2024-09-26 11:05:09,825 - thermomodel_Recon3thermoCurated - continuous - INFO - skipping fixed variable SUCOAS1m\n",
      "2024-09-26 11:05:09,826 - thermomodel_Recon3thermoCurated - continuous - INFO - skipping fixed variable SUCOAS1m_reverse_927c1\n",
      "2024-09-26 11:05:09,829 - thermomodel_Recon3thermoCurated - continuous - INFO - skipping fixed variable r0205_reverse_094b1\n",
      "2024-09-26 11:05:09,830 - thermomodel_Recon3thermoCurated - continuous - INFO - skipping fixed variable r0509\n",
      "2024-09-26 11:05:09,831 - thermomodel_Recon3thermoCurated - continuous - INFO - skipping fixed variable r0509_reverse_81b5b\n",
      "2024-09-26 11:05:09,832 - thermomodel_Recon3thermoCurated - continuous - INFO - skipping fixed variable r2435\n",
      "2024-09-26 11:05:09,833 - thermomodel_Recon3thermoCurated - continuous - INFO - skipping fixed variable r2435_reverse_b4a47\n",
      "2024-09-26 11:05:09,833 - thermomodel_Recon3thermoCurated - continuous - INFO - skipping fixed variable FADH2ETC\n",
      "2024-09-26 11:05:09,834 - thermomodel_Recon3thermoCurated - continuous - INFO - skipping fixed variable FADH2ETC_reverse_35e23\n",
      "2024-09-26 11:05:09,835 - thermomodel_Recon3thermoCurated - continuous - INFO - skipping fixed variable ADK1\n",
      "2024-09-26 11:05:09,836 - thermomodel_Recon3thermoCurated - continuous - INFO - skipping fixed variable ADK1_reverse_a6f90\n",
      "2024-09-26 11:05:09,840 - thermomodel_Recon3thermoCurated - continuous - INFO - skipping fixed variable ASPTA_reverse_36525\n",
      "2024-09-26 11:05:09,841 - thermomodel_Recon3thermoCurated - continuous - INFO - skipping fixed variable CO2t\n",
      "2024-09-26 11:05:09,841 - thermomodel_Recon3thermoCurated - continuous - INFO - skipping fixed variable CO2t_reverse_7c42f\n",
      "2024-09-26 11:05:09,842 - thermomodel_Recon3thermoCurated - continuous - INFO - skipping fixed variable ENO\n",
      "2024-09-26 11:05:09,843 - thermomodel_Recon3thermoCurated - continuous - INFO - skipping fixed variable ENO_reverse_40eea\n",
      "2024-09-26 11:05:09,843 - thermomodel_Recon3thermoCurated - continuous - INFO - skipping fixed variable EX_co2_e\n",
      "2024-09-26 11:05:09,844 - thermomodel_Recon3thermoCurated - continuous - INFO - skipping fixed variable EX_co2_e_reverse_d0466\n",
      "2024-09-26 11:05:09,845 - thermomodel_Recon3thermoCurated - continuous - INFO - skipping fixed variable EX_h_e\n",
      "2024-09-26 11:05:09,846 - thermomodel_Recon3thermoCurated - continuous - INFO - skipping fixed variable EX_h_e_reverse_3e0c5\n",
      "2024-09-26 11:05:09,880 - thermomodel_Recon3thermoCurated - continuous - INFO - skipping fixed variable EX_h2o_e\n",
      "2024-09-26 11:05:09,898 - thermomodel_Recon3thermoCurated - continuous - INFO - skipping fixed variable EX_h2o_e_reverse_3ced4\n",
      "2024-09-26 11:05:09,925 - thermomodel_Recon3thermoCurated - continuous - INFO - skipping fixed variable EX_lac_L_e\n",
      "2024-09-26 11:05:09,929 - thermomodel_Recon3thermoCurated - continuous - INFO - skipping fixed variable EX_lac_L_e_reverse_8b2f8\n",
      "2024-09-26 11:05:09,932 - thermomodel_Recon3thermoCurated - continuous - INFO - skipping fixed variable EX_o2_e\n",
      "2024-09-26 11:05:09,935 - thermomodel_Recon3thermoCurated - continuous - INFO - skipping fixed variable EX_o2_e_reverse_efa94\n",
      "2024-09-26 11:05:09,937 - thermomodel_Recon3thermoCurated - continuous - INFO - skipping fixed variable FBA\n",
      "2024-09-26 11:05:09,939 - thermomodel_Recon3thermoCurated - continuous - INFO - skipping fixed variable FBA_reverse_84806\n",
      "2024-09-26 11:05:09,941 - thermomodel_Recon3thermoCurated - continuous - INFO - skipping fixed variable G3PD1\n",
      "2024-09-26 11:05:09,953 - thermomodel_Recon3thermoCurated - continuous - INFO - skipping fixed variable GAPD\n",
      "2024-09-26 11:05:09,955 - thermomodel_Recon3thermoCurated - continuous - INFO - skipping fixed variable GAPD_reverse_459c1\n",
      "2024-09-26 11:05:09,957 - thermomodel_Recon3thermoCurated - continuous - INFO - skipping fixed variable H2Ot\n",
      "2024-09-26 11:05:09,959 - thermomodel_Recon3thermoCurated - continuous - INFO - skipping fixed variable H2Ot_reverse_aa560\n",
      "2024-09-26 11:05:09,961 - thermomodel_Recon3thermoCurated - continuous - INFO - skipping fixed variable HEX1\n",
      "2024-09-26 11:05:09,963 - thermomodel_Recon3thermoCurated - continuous - INFO - skipping fixed variable HEX1_reverse_25efa\n",
      "2024-09-26 11:05:09,964 - thermomodel_Recon3thermoCurated - continuous - INFO - skipping fixed variable L_LACt2r\n",
      "2024-09-26 11:05:09,964 - thermomodel_Recon3thermoCurated - continuous - INFO - skipping fixed variable L_LACt2r_reverse_45197\n",
      "2024-09-26 11:05:09,965 - thermomodel_Recon3thermoCurated - continuous - INFO - skipping fixed variable NAt3_1\n",
      "2024-09-26 11:05:09,966 - thermomodel_Recon3thermoCurated - continuous - INFO - skipping fixed variable O2t\n",
      "2024-09-26 11:05:09,967 - thermomodel_Recon3thermoCurated - continuous - INFO - skipping fixed variable O2t_reverse_4d957\n",
      "2024-09-26 11:05:09,967 - thermomodel_Recon3thermoCurated - continuous - INFO - skipping fixed variable PGI\n",
      "2024-09-26 11:05:09,968 - thermomodel_Recon3thermoCurated - continuous - INFO - skipping fixed variable PGI_reverse_27efc\n",
      "2024-09-26 11:05:09,969 - thermomodel_Recon3thermoCurated - continuous - INFO - skipping fixed variable PGK\n",
      "2024-09-26 11:05:09,970 - thermomodel_Recon3thermoCurated - continuous - INFO - skipping fixed variable PGK_reverse_02696\n",
      "2024-09-26 11:05:09,970 - thermomodel_Recon3thermoCurated - continuous - INFO - skipping fixed variable PGM\n",
      "2024-09-26 11:05:09,971 - thermomodel_Recon3thermoCurated - continuous - INFO - skipping fixed variable PGM_reverse_fc9af\n",
      "2024-09-26 11:05:09,972 - thermomodel_Recon3thermoCurated - continuous - INFO - skipping fixed variable PPA\n",
      "2024-09-26 11:05:09,972 - thermomodel_Recon3thermoCurated - continuous - INFO - skipping fixed variable PPA_reverse_c5293\n",
      "2024-09-26 11:05:09,973 - thermomodel_Recon3thermoCurated - continuous - INFO - skipping fixed variable TPI\n",
      "2024-09-26 11:05:09,974 - thermomodel_Recon3thermoCurated - continuous - INFO - skipping fixed variable TPI_reverse_c2c3b\n",
      "2024-09-26 11:05:09,978 - thermomodel_Recon3thermoCurated - continuous - INFO - skipping fixed variable LDH_L_reverse_fa844\n",
      "2024-09-26 11:05:09,981 - thermomodel_Recon3thermoCurated - continuous - INFO - skipping fixed variable MDH\n",
      "2024-09-26 11:05:09,988 - thermomodel_Recon3thermoCurated - continuous - INFO - skipping fixed variable PFK\n",
      "2024-09-26 11:05:09,991 - thermomodel_Recon3thermoCurated - continuous - INFO - skipping fixed variable PFK_reverse_d24a6\n",
      "2024-09-26 11:05:09,992 - thermomodel_Recon3thermoCurated - continuous - INFO - skipping fixed variable PYK\n",
      "2024-09-26 11:05:09,993 - thermomodel_Recon3thermoCurated - continuous - INFO - skipping fixed variable PYK_reverse_bc8ff\n",
      "2024-09-26 11:05:09,995 - thermomodel_Recon3thermoCurated - continuous - INFO - skipping fixed variable EX_glc_D_e\n",
      "2024-09-26 11:05:09,996 - thermomodel_Recon3thermoCurated - continuous - INFO - skipping fixed variable EX_glc_D_e_reverse_0cc7d\n",
      "2024-09-26 11:05:09,999 - thermomodel_Recon3thermoCurated - continuous - INFO - skipping fixed variable ATPS4mi_reverse_d277b\n",
      "2024-09-26 11:05:10,002 - thermomodel_Recon3thermoCurated - continuous - INFO - skipping fixed variable CYOR_u10mi_reverse_b5db8\n",
      "2024-09-26 11:05:10,006 - thermomodel_Recon3thermoCurated - continuous - INFO - skipping fixed variable NADH2_u10mi_reverse_5572e\n",
      "2024-09-26 11:05:10,007 - thermomodel_Recon3thermoCurated - continuous - INFO - skipping fixed variable CYOOm2i\n",
      "2024-09-26 11:05:10,007 - thermomodel_Recon3thermoCurated - continuous - INFO - skipping fixed variable CYOOm2i_reverse_4375f\n",
      "2024-09-26 11:05:10,011 - thermomodel_Recon3thermoCurated - continuous - INFO - skipping fixed variable cyt_atp2adp_reverse_15cc2\n",
      "2024-09-26 11:05:10,013 - thermomodel_Recon3thermoCurated - continuous - INFO - skipping fixed variable PiC_reverse_fe5dd\n",
      "2024-09-26 11:05:10,020 - thermomodel_Recon3thermoCurated - continuous - INFO - skipping fixed variable PIt1_reverse_0553a\n",
      "2024-09-26 11:05:10,021 - thermomodel_Recon3thermoCurated - continuous - INFO - skipping fixed variable PiE\n",
      "2024-09-26 11:05:10,025 - thermomodel_Recon3thermoCurated - continuous - INFO - skipping fixed variable NaK_pump_reverse_bf3a5\n",
      "2024-09-26 11:05:10,026 - thermomodel_Recon3thermoCurated - continuous - INFO - skipping fixed variable K_channel\n",
      "2024-09-26 11:05:10,027 - thermomodel_Recon3thermoCurated - continuous - INFO - skipping fixed variable Na_dummy\n",
      "2024-09-26 11:05:10,030 - thermomodel_Recon3thermoCurated - continuous - INFO - skipping fixed variable H_channel_reverse_4295b\n",
      "2024-09-26 11:05:10,031 - thermomodel_Recon3thermoCurated - continuous - INFO - skipping fixed variable NaH_antiport_reverse_aa26c\n",
      "2024-09-26 11:05:10,036 - thermomodel_Recon3thermoCurated - continuous - INFO - skipping fixed variable Na_channel_reverse_6870b\n",
      "2024-09-26 11:05:10,037 - thermomodel_Recon3thermoCurated - continuous - INFO - skipping fixed variable LC_h2o_c\n",
      "2024-09-26 11:05:10,039 - thermomodel_Recon3thermoCurated - continuous - INFO - skipping fixed variable LC_h2o_m\n",
      "2024-09-26 11:05:10,041 - thermomodel_Recon3thermoCurated - continuous - INFO - skipping fixed variable LC_h_m\n",
      "2024-09-26 11:05:10,041 - thermomodel_Recon3thermoCurated - continuous - INFO - skipping fixed variable LC_h_c\n",
      "2024-09-26 11:05:10,049 - thermomodel_Recon3thermoCurated - continuous - INFO - skipping fixed variable LC_h_e\n",
      "2024-09-26 11:05:10,064 - thermomodel_Recon3thermoCurated - continuous - INFO - skipping fixed variable LC_h2o_e\n",
      "2024-09-26 11:05:10,105 - thermomodel_Recon3thermoCurated - continuous - INFO - skipping fixed variable LC_na1_c\n",
      "2024-09-26 11:05:10,111 - thermomodel_Recon3thermoCurated - continuous - INFO - skipping fixed variable DGo_ASPGLUm\n",
      "2024-09-26 11:05:10,128 - thermomodel_Recon3thermoCurated - continuous - INFO - skipping fixed variable DGo_ATPtm\n",
      "2024-09-26 11:05:10,153 - thermomodel_Recon3thermoCurated - continuous - INFO - skipping fixed variable DGo_BHBt\n",
      "2024-09-26 11:05:10,164 - thermomodel_Recon3thermoCurated - continuous - INFO - skipping fixed variable DGo_BHBtm\n",
      "2024-09-26 11:05:10,212 - thermomodel_Recon3thermoCurated - continuous - INFO - skipping fixed variable DGo_FATP1t\n",
      "2024-09-26 11:05:10,219 - thermomodel_Recon3thermoCurated - continuous - INFO - skipping fixed variable DGo_L_LACtm\n",
      "2024-09-26 11:05:10,241 - thermomodel_Recon3thermoCurated - continuous - INFO - skipping fixed variable DGo_PYRt2m\n",
      "2024-09-26 11:05:10,254 - thermomodel_Recon3thermoCurated - continuous - INFO - skipping fixed variable DGo_L_LACt2r\n",
      "2024-09-26 11:05:10,256 - thermomodel_Recon3thermoCurated - continuous - INFO - skipping fixed variable DGo_NAt3_1\n",
      "2024-09-26 11:05:10,273 - thermomodel_Recon3thermoCurated - continuous - INFO - skipping fixed variable LC_na1_m\n",
      "2024-09-26 11:05:10,275 - thermomodel_Recon3thermoCurated - continuous - INFO - skipping fixed variable DGo_PIt1\n",
      "2024-09-26 11:05:10,277 - thermomodel_Recon3thermoCurated - continuous - INFO - skipping fixed variable DGo_PiE\n",
      "2024-09-26 11:05:10,279 - thermomodel_Recon3thermoCurated - continuous - INFO - skipping fixed variable DGo_NaK_pump\n",
      "2024-09-26 11:05:10,280 - thermomodel_Recon3thermoCurated - continuous - INFO - skipping fixed variable DGo_K_channel\n",
      "2024-09-26 11:05:10,283 - thermomodel_Recon3thermoCurated - continuous - INFO - skipping fixed variable DGo_H_channel\n",
      "2024-09-26 11:05:10,286 - thermomodel_Recon3thermoCurated - continuous - INFO - skipping fixed variable DGo_NaH_antiport\n",
      "2024-09-26 11:05:10,289 - thermomodel_Recon3thermoCurated - continuous - INFO - skipping fixed variable DGo_Na_channel\n"
     ]
    }
   ],
   "source": [
    "# Sample the concnetrations and fluxes in the continuous_model\n",
    "sampling = sample(continuous_model, 200, processes=4, seed=0,  method='optgp')"
   ]
  },
  {
   "cell_type": "code",
   "execution_count": 257,
   "metadata": {},
   "outputs": [
    {
     "name": "stderr",
     "output_type": "stream",
     "text": [
      "2024-09-26 11:05:14,803 - thermomodel_Recon3thermoCurated - INFO - Beginning variability analysis for variable of type <class 'pytfa.optim.variables.LogConcentration'>\n",
      "minimizing: 100%|██████████| 86/86 [00:00<00:00, 3594.56it/s]\n",
      "maximizing: 100%|██████████| 86/86 [00:00<00:00, 4163.27it/s]\n"
     ]
    },
    {
     "data": {
      "image/png": "[encoded data removed]",
      "text/plain": [
       "<Figure size 500x1500 with 1 Axes>"
      ]
     },
     "metadata": {},
     "output_type": "display_data"
    }
   ],
   "source": [
    "TVA = variability_analysis(continuous_model, kind=LogConcentration)\n",
    "\n",
    "# Plot the fluxes as bars starting at min and ending at max\n",
    "plt.figure(figsize=(5, 15))\n",
    "\n",
    "# Convert from ln to log10\n",
    "TVA['minimum'] = np.log10(np.exp(TVA.minimum))\n",
    "TVA['maximum'] = np.log10(np.exp(TVA.maximum))\n",
    "sampling_log10 = np.log10(np.exp(sampling))\n",
    "\n",
    "TVA['range'] = TVA.maximum - TVA.minimum\n",
    "TVA['mid'] = (TVA.maximum + TVA.minimum) / 2\n",
    "\n",
    "# TVA sort by range\n",
    "TVA = TVA.sort_values('range', ascending=True)\n",
    "\n",
    "LC_MEDIAN = sampling_log10.median()[TVA.index]\n",
    "LC_UQ = sampling_log10.quantile(0.95)[TVA.index]\n",
    "LC_LQ = sampling_log10.quantile(0.05)[TVA.index]\n",
    "\n",
    "\n",
    "plt.barh(TVA.index, TVA.range, left=TVA.minimum)\n",
    "plt.errorbar( LC_MEDIAN, TVA.index, xerr=[LC_MEDIAN - LC_LQ, LC_UQ - LC_MEDIAN], fmt='o', color='k', ecolor='k', capsize=5)\n",
    "# Align the xticks with the metabolites names\n",
    "plt.yticks(np.arange(0,len(TVA.index)),  TVA.index,)\n",
    "plt.tight_layout()\n",
    "plt.show()\n",
    "\n"
   ]
  },
  {
   "cell_type": "code",
   "execution_count": 258,
   "metadata": {},
   "outputs": [
    {
     "data": {
      "text/html": [
       "<div>\n",
       "<style scoped>\n",
       "    .dataframe tbody tr th:only-of-type {\n",
       "        vertical-align: middle;\n",
       "    }\n",
       "\n",
       "    .dataframe tbody tr th {\n",
       "        vertical-align: top;\n",
       "    }\n",
       "\n",
       "    .dataframe thead th {\n",
       "        text-align: right;\n",
       "    }\n",
       "</style>\n",
       "<table border=\"1\" class=\"dataframe\">\n",
       "  <thead>\n",
       "    <tr style=\"text-align: right;\">\n",
       "      <th></th>\n",
       "      <th>minimum</th>\n",
       "      <th>maximum</th>\n",
       "      <th>range</th>\n",
       "      <th>mid</th>\n",
       "    </tr>\n",
       "  </thead>\n",
       "  <tbody>\n",
       "    <tr>\n",
       "      <th>LC_bhb_e</th>\n",
       "      <td>-4.045757</td>\n",
       "      <td>-3.958607</td>\n",
       "      <td>0.087150</td>\n",
       "      <td>-4.002182</td>\n",
       "    </tr>\n",
       "    <tr>\n",
       "      <th>LC_bhb_c</th>\n",
       "      <td>-4.855718</td>\n",
       "      <td>-4.180463</td>\n",
       "      <td>0.675255</td>\n",
       "      <td>-4.518091</td>\n",
       "    </tr>\n",
       "    <tr>\n",
       "      <th>LC_bhb_m</th>\n",
       "      <td>-4.078060</td>\n",
       "      <td>-3.402805</td>\n",
       "      <td>0.675255</td>\n",
       "      <td>-3.740433</td>\n",
       "    </tr>\n",
       "  </tbody>\n",
       "</table>\n",
       "</div>"
      ],
      "text/plain": [
       "           minimum   maximum     range       mid\n",
       "LC_bhb_e -4.045757 -3.958607  0.087150 -4.002182\n",
       "LC_bhb_c -4.855718 -4.180463  0.675255 -4.518091\n",
       "LC_bhb_m -4.078060 -3.402805  0.675255 -3.740433"
      ]
     },
     "execution_count": 258,
     "metadata": {},
     "output_type": "execute_result"
    }
   ],
   "source": [
    "TVA.loc[['LC_bhb_e', 'LC_bhb_c', 'LC_bhb_m']]"
   ]
  },
  {
   "cell_type": "code",
   "execution_count": null,
   "metadata": {},
   "outputs": [],
   "source": []
  },
  {
   "cell_type": "code",
   "execution_count": 259,
   "metadata": {},
   "outputs": [
    {
     "data": {
      "text/plain": [
       "{'id': 'cpd00797',\n",
       " 'mass_std': 103,\n",
       " 'name': '(R)-3-Hydroxybutyrate',\n",
       " 'formula': 'C4H7O3',\n",
       " 'charge_std': -1,\n",
       " 'struct_cues': {'WCH3': 1,\n",
       "  'WWCHW': 1,\n",
       "  'PrimOH': 1,\n",
       "  'WCH2W': 1,\n",
       "  'WCOOn': 1,\n",
       "  'Origin': 1},\n",
       " 'nH_std': 7,\n",
       " 'deltaGf_std': -121.55,\n",
       " 'deltaGf_err': 0.266825,\n",
       " 'error': 'Nil',\n",
       " 'pKa': [4.41]}"
      ]
     },
     "execution_count": 259,
     "metadata": {},
     "output_type": "execute_result"
    }
   ],
   "source": [
    "continuous_model.thermo_data['metabolites']['cpd00797']"
   ]
  },
  {
   "cell_type": "code",
   "execution_count": 260,
   "metadata": {},
   "outputs": [
    {
     "data": {
      "text/plain": [
       "{'isTrans': True,\n",
       " 'computed': True,\n",
       " 'deltaGR': 0.27246543423115455,\n",
       " 'deltaGrxn': 0,\n",
       " 'deltaGRerr': 2}"
      ]
     },
     "execution_count": 260,
     "metadata": {},
     "output_type": "execute_result"
    }
   ],
   "source": [
    "continuous_model.reactions.BHBt.thermo"
   ]
  },
  {
   "cell_type": "code",
   "execution_count": 261,
   "metadata": {},
   "outputs": [
    {
     "data": {
      "text/plain": [
       "{'isTrans': True,\n",
       " 'computed': True,\n",
       " 'deltaGR': -1.0902086818095462,\n",
       " 'deltaGrxn': 0,\n",
       " 'deltaGRerr': 2}"
      ]
     },
     "execution_count": 261,
     "metadata": {},
     "output_type": "execute_result"
    }
   ],
   "source": [
    "continuous_model.reactions.BHBtm.thermo"
   ]
  },
  {
   "cell_type": "code",
   "execution_count": 262,
   "metadata": {},
   "outputs": [
    {
     "name": "stderr",
     "output_type": "stream",
     "text": [
      "2024-09-26 11:05:15,289 - thermomodel_Recon3thermoCurated - INFO - Beginning variability analysis for variable of type <class 'pytfa.optim.variables.DeltaG'>\n",
      "minimizing: 100%|██████████| 68/68 [00:00<00:00, 1658.06it/s]\n",
      "maximizing: 100%|██████████| 68/68 [00:00<00:00, 3915.23it/s]\n"
     ]
    },
    {
     "data": {
      "text/plain": [
       "(-50.0, 10.0)"
      ]
     },
     "execution_count": 262,
     "metadata": {},
     "output_type": "execute_result"
    },
    {
     "data": {
      "image/png": "[encoded data removed]",
      "text/plain": [
       "<Figure size 1500x500 with 1 Axes>"
      ]
     },
     "metadata": {},
     "output_type": "display_data"
    }
   ],
   "source": [
    "from pytfa.optim.variables import DeltaG\n",
    "# PLot the TVA of the reaction deltaG\n",
    "TVA = variability_analysis(continuous_model, kind=DeltaG)\n",
    "\n",
    "# Plot the fluxes as bars starting at min and ending at max\n",
    "plt.figure(figsize=(15, 5))\n",
    "\n",
    "TVA['range'] = TVA.maximum - TVA.minimum\n",
    "TVA['mid'] = (TVA.maximum + TVA.minimum) / 2\n",
    "\n",
    "plt.bar(TVA.index, TVA.range, bottom=TVA.minimum)\n",
    "\n",
    "LC_MEDIAN = sampling.median()[TVA.index]\n",
    "LC_UQ = sampling.quantile(0.95)[TVA.index]\n",
    "LC_LQ = sampling.quantile(0.05)[TVA.index]\n",
    "\n",
    "plt.errorbar(TVA.index, LC_MEDIAN, yerr=[LC_MEDIAN - LC_LQ, LC_UQ - LC_MEDIAN], fmt='o', color='k', ecolor='k', capsize=5)\n",
    "\n",
    "# Plot the 0 line \n",
    "plt.axhline(0, color='k', linestyle='--')\n",
    "\n",
    "plt.xticks(np.arange(0,len(TVA.index)),  TVA.index, rotation=90)\n",
    "plt.tight_layout()\n",
    "\n",
    "\n",
    "plt.ylim(-50, 10)"
   ]
  },
  {
   "cell_type": "code",
   "execution_count": 263,
   "metadata": {},
   "outputs": [
    {
     "data": {
      "text/html": [
       "<div>\n",
       "<style scoped>\n",
       "    .dataframe tbody tr th:only-of-type {\n",
       "        vertical-align: middle;\n",
       "    }\n",
       "\n",
       "    .dataframe tbody tr th {\n",
       "        vertical-align: top;\n",
       "    }\n",
       "\n",
       "    .dataframe thead th {\n",
       "        text-align: right;\n",
       "    }\n",
       "</style>\n",
       "<table border=\"1\" class=\"dataframe\">\n",
       "  <thead>\n",
       "    <tr style=\"text-align: right;\">\n",
       "      <th></th>\n",
       "      <th>minimum</th>\n",
       "      <th>maximum</th>\n",
       "      <th>range</th>\n",
       "      <th>mid</th>\n",
       "    </tr>\n",
       "  </thead>\n",
       "  <tbody>\n",
       "    <tr>\n",
       "      <th>DG_MDH</th>\n",
       "      <td>0.125520</td>\n",
       "      <td>2.091998</td>\n",
       "      <td>1.966478</td>\n",
       "      <td>1.108759</td>\n",
       "    </tr>\n",
       "    <tr>\n",
       "      <th>DG_ASPTA</th>\n",
       "      <td>-11.517572</td>\n",
       "      <td>-0.125520</td>\n",
       "      <td>11.392052</td>\n",
       "      <td>-5.821546</td>\n",
       "    </tr>\n",
       "    <tr>\n",
       "      <th>DG_ASPTAm</th>\n",
       "      <td>0.125520</td>\n",
       "      <td>6.214771</td>\n",
       "      <td>6.089251</td>\n",
       "      <td>3.170146</td>\n",
       "    </tr>\n",
       "    <tr>\n",
       "      <th>DG_MDHm</th>\n",
       "      <td>-6.001845</td>\n",
       "      <td>-0.125520</td>\n",
       "      <td>5.876325</td>\n",
       "      <td>-3.063682</td>\n",
       "    </tr>\n",
       "    <tr>\n",
       "      <th>DG_ASPGLUm</th>\n",
       "      <td>-25.130376</td>\n",
       "      <td>-19.041125</td>\n",
       "      <td>6.089251</td>\n",
       "      <td>-22.085751</td>\n",
       "    </tr>\n",
       "    <tr>\n",
       "      <th>DG_AKGMALtm</th>\n",
       "      <td>-6.214771</td>\n",
       "      <td>-0.125520</td>\n",
       "      <td>6.089251</td>\n",
       "      <td>-3.170146</td>\n",
       "    </tr>\n",
       "  </tbody>\n",
       "</table>\n",
       "</div>"
      ],
      "text/plain": [
       "               minimum    maximum      range        mid\n",
       "DG_MDH        0.125520   2.091998   1.966478   1.108759\n",
       "DG_ASPTA    -11.517572  -0.125520  11.392052  -5.821546\n",
       "DG_ASPTAm     0.125520   6.214771   6.089251   3.170146\n",
       "DG_MDHm      -6.001845  -0.125520   5.876325  -3.063682\n",
       "DG_ASPGLUm  -25.130376 -19.041125   6.089251 -22.085751\n",
       "DG_AKGMALtm  -6.214771  -0.125520   6.089251  -3.170146"
      ]
     },
     "execution_count": 263,
     "metadata": {},
     "output_type": "execute_result"
    }
   ],
   "source": [
    "aspartate_malate_shuttle = ['MDH', 'ASPTA', 'ASPTAm', 'MDHm', 'ASPGLUm', 'AKGMALtm']\n",
    "\n",
    "#TVA.loc[['DG_G3PD1','DG_TPI','DG_r0205'],:]/0.239006\n",
    "\n",
    "TVA.loc[[ 'DG_'+r for r in aspartate_malate_shuttle],:]/0.239006"
   ]
  },
  {
   "cell_type": "code",
   "execution_count": 264,
   "metadata": {},
   "outputs": [
    {
     "data": {
      "text/html": [
       "\n",
       "        <table>\n",
       "            <tr>\n",
       "                <td><strong>Reaction identifier</strong></td><td>NAt3_1</td>\n",
       "            </tr><tr>\n",
       "                <td><strong>Name</strong></td><td>Sodium Proton Antiporter _H:Na Is 1:1</td>\n",
       "            </tr><tr>\n",
       "                <td><strong>Memory address</strong></td>\n",
       "                <td>0x07fbe1b3577c0</td>\n",
       "            </tr><tr>\n",
       "                <td><strong>Stoichiometry</strong></td>\n",
       "                <td>\n",
       "                    <p style='text-align:right'>h_e + na1_c <-- h_c + na1_e</p>\n",
       "                    <p style='text-align:right'>Proton + Sodium <-- Proton + Sodium</p>\n",
       "                </td>\n",
       "            </tr><tr>\n",
       "                <td><strong>GPR</strong></td><td>389015.1 or 6548.1 or 6550.1 or 6549.1 or 6553.1</td>\n",
       "            </tr><tr>\n",
       "                <td><strong>Lower bound</strong></td><td>-1.0999999999999996</td>\n",
       "            </tr><tr>\n",
       "                <td><strong>Upper bound</strong></td><td>-1.0000000000000007</td>\n",
       "            </tr>\n",
       "        </table>\n",
       "        "
      ],
      "text/plain": [
       "<Reaction NAt3_1 at 0x7fbe1b3577c0>"
      ]
     },
     "execution_count": 264,
     "metadata": {},
     "output_type": "execute_result"
    }
   ],
   "source": [
    "continuous_model.reactions.NAt3_1"
   ]
  },
  {
   "cell_type": "code",
   "execution_count": 265,
   "metadata": {},
   "outputs": [
    {
     "data": {
      "text/html": [
       "\n",
       "        <table>\n",
       "            <tr>\n",
       "                <td><strong>Reaction identifier</strong></td><td>G3PD1</td>\n",
       "            </tr><tr>\n",
       "                <td><strong>Name</strong></td><td>Glycerol-3-Phosphate Dehydrogenase _NAD</td>\n",
       "            </tr><tr>\n",
       "                <td><strong>Memory address</strong></td>\n",
       "                <td>0x07fbe1b3576d0</td>\n",
       "            </tr><tr>\n",
       "                <td><strong>Stoichiometry</strong></td>\n",
       "                <td>\n",
       "                    <p style='text-align:right'>glyc3p_c + nad_c <-- dhap_c + 2.0 h_c + nadh_c</p>\n",
       "                    <p style='text-align:right'>Glycerol 3-Phosphate + Nicotinamide Adenine Dinucleotide <-- Dihydroxyacetone Phosphate + 2.0 Proton + Nicotinamide Adenine Dinucleotide - Reduced</p>\n",
       "                </td>\n",
       "            </tr><tr>\n",
       "                <td><strong>GPR</strong></td><td>2819.1</td>\n",
       "            </tr><tr>\n",
       "                <td><strong>Lower bound</strong></td><td>-0.15</td>\n",
       "            </tr><tr>\n",
       "                <td><strong>Upper bound</strong></td><td>0.0</td>\n",
       "            </tr>\n",
       "        </table>\n",
       "        "
      ],
      "text/plain": [
       "<Reaction G3PD1 at 0x7fbe1b3576d0>"
      ]
     },
     "execution_count": 265,
     "metadata": {},
     "output_type": "execute_result"
    }
   ],
   "source": [
    "continuous_model.reactions.G3PD1"
   ]
  },
  {
   "cell_type": "code",
   "execution_count": 266,
   "metadata": {},
   "outputs": [
    {
     "name": "stdout",
     "output_type": "stream",
     "text": [
      "FAOXC160 7.0 coa_m + 7.0 fad_m + 7.0 h2o_m + 7.0 nad_m + pmtcoa_m --> 8.0 accoa_m + 7.0 fadh2_m + 7.0 h_m + 7.0 nadh_m [-91.66044691  -0.41444846]\n",
      "FADH2ETC fadh2_m + q10_m --> fad_m + h_m + q10h2_m [-7.51056174 -2.19175886]\n"
     ]
    }
   ],
   "source": [
    "# Plot list of leta G ranges for all reactions with fad_c\n",
    "for r in continuous_model.reactions:\n",
    "    if continuous_model.metabolites.fad_m in r.metabolites:\n",
    "        print(r.id, r.reaction, TVA.loc['DG_'+r.id, ['minimum', 'maximum']].values)"
   ]
  },
  {
   "cell_type": "code",
   "execution_count": 267,
   "metadata": {},
   "outputs": [
    {
     "data": {
      "image/png": "[encoded data removed]",
      "text/plain": [
       "<Figure size 900x600 with 4 Axes>"
      ]
     },
     "metadata": {},
     "output_type": "display_data"
    }
   ],
   "source": [
    "f, ax = plt.subplots(2,2, figsize=(9,6))\n",
    "\n",
    "fluxes = sampling.iloc[:, 0:2*len(continuous_model.reactions):2] - sampling.iloc[:, 1:2*len(continuous_model.reactions)+1:2].values\n",
    "\n",
    "\n",
    "fluxes.plot.scatter('LDH_L', 'LDH_Lm', alpha=0.5, ax =ax[0,0])\n",
    "fluxes.plot.scatter('G3PD1', 'LDH_L', alpha=0.5, ax =ax[0,1])\n",
    "fluxes.plot.scatter('AKGMALtm','G3PD1',  alpha=0.5, ax =ax[1,0])\n",
    "fluxes.plot.scatter('G3PD1', 'LDH_Lm', alpha=0.5, ax =ax[1,1])\n",
    "\n",
    "# for a in ax.flatten():\n",
    "#     a.set_xlim(0,0.2)\n",
    "#     a.set_ylim(0,0.2)\n",
    "\n",
    "FVA.loc['PYRt2m']\n",
    "plt.tight_layout()"
   ]
  },
  {
   "cell_type": "code",
   "execution_count": 268,
   "metadata": {},
   "outputs": [
    {
     "data": {
      "image/png": "[encoded data removed]",
      "text/plain": [
       "<Figure size 700x300 with 2 Axes>"
      ]
     },
     "metadata": {},
     "output_type": "display_data"
    }
   ],
   "source": [
    "#Scatter for LC_pmtcoa_c and LC_pmtcoa_m\n",
    "f, ax = plt.subplots(1,2, figsize=(7,3))\n",
    "\n",
    "sampling.plot.scatter('LC_asp_L_c', 'LC_akg_c', alpha=0.5, ax =ax[0])\n",
    "sampling.plot.scatter('LC_asp_L_c', 'LC_glu_L_c', alpha=0.5, ax =ax[1]) \n",
    "\n",
    "plt.tight_layout()\n",
    "plt.show()"
   ]
  },
  {
   "cell_type": "code",
   "execution_count": 269,
   "metadata": {},
   "outputs": [
    {
     "data": {
      "text/plain": [
       "-1.0905599991066535 <= DGo_L_LACtm <= -1.0905599991066535"
      ]
     },
     "execution_count": 269,
     "metadata": {},
     "output_type": "execute_result"
    }
   ],
   "source": [
    "reduced_model.delta_gstd.L_LACtm"
   ]
  },
  {
   "cell_type": "code",
   "execution_count": 270,
   "metadata": {},
   "outputs": [
    {
     "name": "stdout",
     "output_type": "stream",
     "text": [
      "0.1343161883267846 -0.1276801883268983 0.0066359999998863205\n",
      "0.1343161883267846 -0.1276801883268983 0.0066359999998863205\n",
      "0.1343161883267846 -0.1276801883268983 0.0066359999998863205\n",
      "0.1343161883267846 -0.1276801883268983 0.0066359999998863205\n",
      "0.1343161883267846 -0.1276801883268983 0.0066359999998863205\n",
      "0.1343161883267846 -0.1276801883268983 0.0066359999998863205\n",
      "0.1343161883267846 -0.1276801883268983 0.0066359999998863205\n",
      "0.1343161883267846 -0.1276801883268983 0.0066359999998863205\n",
      "0.1343161883267846 -0.1276801883268983 0.0066359999998863205\n",
      "0.1343161883267846 -0.1276801883268983 0.0066359999998863205\n",
      "0.1343161883267846 -0.1276801883268983 0.0066359999998863205\n",
      "0.1343161883267846 -0.1276801883268983 0.0066359999998863205\n",
      "0.1343161883267846 -0.1276801883268983 0.0066359999998863205\n",
      "0.1343161883267846 -0.1276801883268983 0.0066359999998863205\n",
      "0.1343161883267846 -0.1276801883268983 0.0066359999998863205\n",
      "0.1343161883267846 -0.1276801883268983 0.0066359999998863205\n",
      "0.1343161883267846 -0.1276801883268983 0.0066359999998863205\n",
      "0.1343161883267846 -0.1276801883268983 0.0066359999998863205\n",
      "0.1343161883267846 -0.1276801883268983 0.0066359999998863205\n",
      "0.1343161883267846 -0.1276801883268983 0.0066359999998863205\n",
      "0.1343161883267846 -0.1276801883268983 0.0066359999998863205\n",
      "0.1343161883267846 -0.1276801883268983 0.0066359999998863205\n",
      "0.1343161883267846 -0.1276801883268983 0.0066359999998863205\n",
      "0.1343161883267846 -0.1276801883268983 0.0066359999998863205\n",
      "0.1343161883267846 -0.1276801883268983 0.0066359999998863205\n",
      "0.1343161883267846 -0.1276801883268983 0.0066359999998863205\n",
      "0.1343161883267846 -0.1276801883268983 0.0066359999998863205\n",
      "0.1343161883267846 -0.1276801883268983 0.0066359999998863205\n",
      "0.1343161883267846 -0.1276801883268983 0.0066359999998863205\n",
      "0.1343161883267846 -0.1276801883268983 0.0066359999998863205\n",
      "0.1343161883267846 -0.1276801883268983 0.0066359999998863205\n",
      "0.1343161883267846 -0.1276801883268983 0.0066359999998863205\n",
      "0.1343161883267846 -0.1276801883268983 0.0066359999998863205\n",
      "0.1343161883267846 -0.1276801883268983 0.0066359999998863205\n",
      "0.1343161883267846 -0.1276801883268983 0.0066359999998863205\n",
      "0.1343161883267846 -0.1276801883268983 0.0066359999998863205\n",
      "0.1343161883267846 -0.1276801883268983 0.0066359999998863205\n",
      "0.1343161883267846 -0.1276801883268983 0.0066359999998863205\n",
      "0.1343161883267846 -0.1276801883268983 0.0066359999998863205\n",
      "0.1343161883267846 -0.1276801883268983 0.0066359999998863205\n",
      "0.1343161883267846 -0.1276801883268983 0.0066359999998863205\n",
      "0.1343161883267846 -0.1276801883268983 0.0066359999998863205\n",
      "0.1343161883267846 -0.1276801883268983 0.0066359999998863205\n",
      "0.1343161883267846 -0.1276801883268983 0.0066359999998863205\n",
      "0.1343161883267846 -0.1276801883268983 0.0066359999998863205\n",
      "0.1343161883267846 -0.1276801883268983 0.0066359999998863205\n",
      "0.1343161883267846 -0.1276801883268983 0.0066359999998863205\n",
      "0.1343161883267846 -0.1276801883268983 0.0066359999998863205\n",
      "0.1343161883267846 -0.1276801883268983 0.0066359999998863205\n",
      "0.1343161883267846 -0.1276801883268983 0.0066359999998863205\n",
      "0.1343161883267846 -0.1276801883268983 0.0066359999998863205\n",
      "0.1343161883267846 -0.1276801883268983 0.0066359999998863205\n",
      "0.1343161883267846 -0.1276801883268983 0.0066359999998863205\n",
      "0.1343161883267846 -0.1276801883268983 0.0066359999998863205\n",
      "0.1343161883267846 -0.1276801883268983 0.0066359999998863205\n",
      "0.1343161883267846 -0.1276801883268983 0.0066359999998863205\n",
      "0.1343161883267846 -0.1276801883268983 0.0066359999998863205\n",
      "0.1343161883267846 -0.1276801883268983 0.0066359999998863205\n",
      "0.1343161883267846 -0.1276801883268983 0.0066359999998863205\n",
      "0.1343161883267846 -0.1276801883268983 0.0066359999998863205\n",
      "0.1343161883267846 -0.1276801883268983 0.0066359999998863205\n",
      "0.1343161883267846 -0.1276801883268983 0.0066359999998863205\n",
      "0.1343161883267846 -0.1276801883268983 0.0066359999998863205\n",
      "0.1343161883267846 -0.1276801883268983 0.0066359999998863205\n",
      "0.1343161883267846 -0.1276801883268983 0.0066359999998863205\n",
      "0.1343161883267846 -0.1276801883268983 0.0066359999998863205\n",
      "0.1343161883267846 -0.1276801883268983 0.0066359999998863205\n",
      "0.1343161883267846 -0.1276801883268983 0.0066359999998863205\n",
      "0.1343161883267846 -0.1276801883268983 0.0066359999998863205\n",
      "0.1343161883267846 -0.1276801883268983 0.0066359999998863205\n",
      "0.1343161883267846 -0.1276801883268983 0.0066359999998863205\n",
      "0.1343161883267846 -0.1276801883268983 0.0066359999998863205\n",
      "0.1343161883267846 -0.1276801883268983 0.0066359999998863205\n",
      "0.1343161883267846 -0.1276801883268983 0.0066359999998863205\n",
      "0.1343161883267846 -0.1276801883268983 0.0066359999998863205\n",
      "0.1343161883267846 -0.1276801883268983 0.0066359999998863205\n",
      "0.1343161883267846 -0.1276801883268983 0.0066359999998863205\n",
      "0.1343161883267846 -0.1276801883268983 0.0066359999998863205\n",
      "0.1343161883267846 -0.1276801883268983 0.0066359999998863205\n",
      "0.1343161883267846 -0.1276801883268983 0.0066359999998863205\n",
      "0.1343161883267846 -0.1276801883268983 0.0066359999998863205\n",
      "0.1343161883267846 -0.1276801883268983 0.0066359999998863205\n",
      "0.1343161883267846 -0.1276801883268983 0.0066359999998863205\n",
      "0.1343161883267846 -0.1276801883268983 0.0066359999998863205\n",
      "0.1343161883267846 -0.1276801883268983 0.0066359999998863205\n",
      "0.1343161883267846 -0.1276801883268983 0.0066359999998863205\n"
     ]
    }
   ],
   "source": [
    "# Compute turnover rates metabolite / ( consumption flux) \n",
    "# Scaling parameters\n",
    "CONCENTRATION_SCALING = 1e3 # 1 mol to 1 mmol\n",
    "TIME_SCALING = 1 # 1min\n",
    "DENSITY = 1200 # g/L \n",
    "# TODO SCALE THIS NICELY\n",
    "GDW_GWW_RATIO = 1.0 # Fluxes are in gBW concentration in gMW \n",
    "\n",
    "# To test how close to zero the dxdt is\n",
    "flux_scaling_factor = 1e-6 / (GDW_GWW_RATIO / DENSITY) \\\n",
    "                        * CONCENTRATION_SCALING \\\n",
    "                        / TIME_SCALING\n",
    "\n",
    "\n",
    "def compute_turnover(met, model, sampling):\n",
    "    fluxes = sampling.iloc[:, 0:2*len(continuous_model.reactions):2] - sampling.iloc[:, 1:2*len(continuous_model.reactions)+1:2].values\n",
    "    \n",
    "    # Compute reverible fluxes from dG vf = v * (1 - exp(dG/RT))\n",
    "    forward_flux = [fluxes[r] * 1.0  / ( 1 - np.exp(sampling['DG_'+ r] / model.RT)  ) \n",
    "                    if 'DG_'+r in sampling.columns else fluxes[r]  for r in fluxes.columns]\n",
    "    forward_flux = pd.concat(forward_flux, axis=1)  \n",
    "    forward_flux.columns = [r for r in fluxes.columns]\n",
    "\n",
    "    reverse_flux = [fluxes[r] * - np.exp(sampling['DG_'+ r] / model.RT)  / ( 1- np.exp(sampling['DG_'+ r] / model.RT) ) \n",
    "                    if 'DG_'+r in sampling.columns else fluxes[r]*0.0  for r in fluxes.columns]\n",
    "    reverse_flux = pd.concat(reverse_flux, axis=1)\n",
    "    reverse_flux.columns = [r for r in fluxes.columns]\n",
    "\n",
    "    # Test flux\n",
    "    r = 'BHBtm'\n",
    "    print(forward_flux[r].mean(), reverse_flux[r].mean(), fluxes[r].mean())\n",
    "\n",
    "    # Reactions that consume the metabolite in this sample\n",
    "    consumption_flux_1 = [forward_flux[rxn.id]*rxn.metabolites[met] for rxn in met.reactions if any( forward_flux[rxn.id]*rxn.metabolites[met] < 0)]\n",
    "    consumption_flux_2 = [reverse_flux[rxn.id]*rxn.metabolites[met] for rxn in met.reactions if any( reverse_flux[rxn.id]*rxn.metabolites[met] < 0)]\n",
    "    consumption_flux = consumption_flux_1 + consumption_flux_2\n",
    "    consumption_flux = pd.concat(consumption_flux, axis=1).sum(axis=1) * flux_scaling_factor\n",
    "\n",
    "    concentration = np.exp(sampling.loc[:,'LC_'+met.id]) * CONCENTRATION_SCALING\n",
    "\n",
    "    return consumption_flux / concentration\n",
    "\n",
    "# Compute the turnover rates for each metabolite\n",
    "turnover = [compute_turnover( m , continuous_model, sampling=sampling) for m in continuous_model.metabolites]\n",
    "turnover = -1 * pd.concat(turnover, axis=1)  \n",
    "turnover.columns = [m.id for m in continuous_model.metabolites]\n",
    " "
   ]
  },
  {
   "cell_type": "code",
   "execution_count": 271,
   "metadata": {},
   "outputs": [
    {
     "data": {
      "text/plain": [
       "0.39554407900480226"
      ]
     },
     "execution_count": 271,
     "metadata": {},
     "output_type": "execute_result"
    }
   ],
   "source": [
    "np.exp(sampling.loc[:,'LC_bhb_m']).mean() * 1e3"
   ]
  },
  {
   "cell_type": "code",
   "execution_count": 272,
   "metadata": {},
   "outputs": [
    {
     "data": {
      "image/png": "[encoded data removed]",
      "text/plain": [
       "<Figure size 800x500 with 1 Axes>"
      ]
     },
     "metadata": {},
     "output_type": "display_data"
    }
   ],
   "source": [
    "# Make alist of all turn over rates that are conistantly low < 4.0 \n",
    "# exclude h2o and na1\n",
    "low_turnover = [m for m in turnover.columns[(turnover.abs().mean() < 0.1)] if not m.endswith(\"_e\")] \n",
    "\n",
    "# Plot the turnover rates as a boxplot\n",
    "f, ax = plt.subplots(figsize=(8, 5))\n",
    "sns.boxplot(data=turnover[low_turnover], ax=ax)\n",
    "plt.xticks(rotation=90)\n",
    "plt.show()"
   ]
  },
  {
   "cell_type": "code",
   "execution_count": 273,
   "metadata": {},
   "outputs": [
    {
     "name": "stdout",
     "output_type": "stream",
     "text": [
      "ACACT1rm 2.0 accoa_m <-- aacoa_m + coa_m {'isTrans': False, 'computed': True, 'deltaGR': 7.0560000000002105, 'deltaGRerr': 1.087366929789572}\n",
      "ADK1 amp_c + atp_c + h_c --> 2.0 adp_c {'isTrans': False, 'computed': True, 'deltaGR': 10.24962080568946, 'deltaGRerr': 2}\n",
      "FBA fdp_c --> dhap_c + g3p_c {'isTrans': False, 'computed': True, 'deltaGR': 5.604831372302954, 'deltaGRerr': 1.231339855604455}\n",
      "PYK adp_c + h_c + pep_c --> atp_c + pyr_c {'isTrans': False, 'computed': True, 'deltaGR': 5.609472160844774, 'deltaGRerr': 0.654304974763298}\n",
      "CYOR_u10mi 2.0 ficytC_m + 2.0 h_m + q10h2_m --> 2.0 focytC_m + 4.0 h_c + q10_m {'isTrans': True, 'computed': True, 'deltaGR': 6.5556627684669095, 'deltaGrxn': -11.643612983011053, 'deltaGRerr': 2.9916129428788074}\n",
      "NADH2_u10mi 6.0 h_m + nadh_m + q10_m --> 4.0 h_c + nad_m + q10h2_m {'isTrans': True, 'computed': True, 'deltaGR': 23.341805367861973, 'deltaGrxn': -3.957108259354982, 'deltaGRerr': 3.07450548869245}\n"
     ]
    }
   ],
   "source": [
    "# Print all reaction with a deltaG_std  > +/- 10 kcal/mol\n",
    "for rxn in continuous_model.reactions:\n",
    "    if rxn.thermo['deltaGR'] > 5 and not rxn in continuous_model.boundary:\n",
    "        print(rxn.id, rxn.reaction, rxn.thermo)"
   ]
  },
  {
   "cell_type": "markdown",
   "metadata": {},
   "source": []
  },
  {
   "cell_type": "code",
   "execution_count": 274,
   "metadata": {},
   "outputs": [
    {
     "name": "stdout",
     "output_type": "stream",
     "text": [
      "FACOAL160i atp_c + coa_c + hdca_c --> amp_c + h_c + pmtcoa_c + ppi_c {'isTrans': False, 'computed': True, 'deltaGR': -21.838258329698704, 'deltaGRerr': 1.2316793413871974}\n",
      "ADK1 amp_c + atp_c + h_c --> 2.0 adp_c {'isTrans': False, 'computed': True, 'deltaGR': 10.24962080568946, 'deltaGRerr': 2}\n"
     ]
    }
   ],
   "source": [
    "# Print all reactions that use amp_c\n",
    "for rxn in continuous_model.reactions:\n",
    "    if 'amp_c' in [m.id for m in rxn.metabolites]:\n",
    "        print(rxn.id, rxn.reaction, rxn.thermo)"
   ]
  },
  {
   "cell_type": "code",
   "execution_count": 275,
   "metadata": {},
   "outputs": [],
   "source": [
    "# Write the samples to a csv file\n",
    "sampling.to_csv( redgem_file_name.replace('.json','_tfa_sampling.csv'), index=False)\n"
   ]
  },
  {
   "cell_type": "code",
   "execution_count": 276,
   "metadata": {},
   "outputs": [],
   "source": [
    "# Save the continuous model\n",
    "from pytfa.io.json import save_json_model\n",
    "save_json_model(continuous_model, redgem_file_name.replace('.json', '_continuous.json'))"
   ]
  },
  {
   "cell_type": "code",
   "execution_count": 277,
   "metadata": {},
   "outputs": [],
   "source": [
    "# This as an attempt not really makes sense\n",
    "# dissipation = sum([ r.variable * reduced_model.reactions.get_by_id(r.id).reverse_variable \n",
    "#                - r.variable * reduced_model.reactions.get_by_id(r.id).forward_variable \n",
    "#                for r in reduced_model.delta_g])\n",
    "\n",
    "# # Objective function\n",
    "# reduced_model.objective = reduced_model.problem.Objective(dissipation, direction='min')\n",
    "\n",
    "# reduced_model.solver.problem.parameters.optimalitytarget.set(3)\n",
    "\n",
    "# reduced_model.optimize()"
   ]
  },
  {
   "cell_type": "markdown",
   "metadata": {},
   "source": [
    "# Integrate fed state fluxes into the continous models"
   ]
  },
  {
   "cell_type": "code",
   "execution_count": 278,
   "metadata": {},
   "outputs": [],
   "source": [
    "\n",
    "# Relax the bounds but keep the directionality of dGs and fluxes\n",
    "for reaction in continuous_model.reactions:\n",
    "    if reaction.upper_bound > 0:\n",
    "        reaction.bounds = (EPSILON_FLUX, 100)\n",
    "    elif reaction.lower_bound < 0:\n",
    "        reaction.bounds = (-100, -EPSILON_FLUX)"
   ]
  },
  {
   "cell_type": "code",
   "execution_count": 279,
   "metadata": {},
   "outputs": [],
   "source": [
    "# Flux constraints for the core model \n",
    "RER = 0.9\n",
    "fraction_of_whole_body_o2 = 0.8\n",
    "total_carbon_contribution_modeled = 0.80\n",
    "\n",
    "o2_uptake = 2.0 * fraction_of_whole_body_o2 * total_carbon_contribution_modeled\n",
    "co2_production = o2_uptake * RER \n",
    "\n",
    "# oxygen uptake about of redmuscle 80% of total oxygen uptake 2000 nmol/min/gBW -2 umol/min/gDW\n",
    "# continuous_model.reactions.EX_o2_e.bounds = (-o2_uptake, -o2_uptake)\n",
    "# Constrain the RET to about 0.8 of the total glucose uptake\n",
    "continuous_model.reactions.EX_co2_e.bounds = (co2_production, co2_production)\n",
    "\n",
    "#Add constraints for CO2 production in the core model of and glucose, lactate\n",
    "glucose_direct_contribution = 0.23 / 6 / total_carbon_contribution_modeled \n",
    "lactate_direct_contribution = 0.22 / 3 / total_carbon_contribution_modeled\n",
    "bhb_direct_contribution = 0.008 / 4 / total_carbon_contribution_modeled\n",
    "\n",
    "# Note we should consider over all glucose oxidation in fed animals it seems that the direct contribution is under estimating \n",
    "# Glucose oxidation\n",
    "\n",
    "continuous_model.reactions.EX_glc_D_e.bounds = (-co2_production * glucose_direct_contribution, -co2_production * glucose_direct_contribution)\n",
    "continuous_model.reactions.EX_lac_L_e.bounds = (-co2_production * lactate_direct_contribution, -co2_production * lactate_direct_contribution)\n",
    "continuous_model.reactions.EX_bhb_e.bounds = (-co2_production * bhb_direct_contribution, -co2_production * bhb_direct_contribution)\n",
    "sol = continuous_model.optimize()"
   ]
  },
  {
   "cell_type": "code",
   "execution_count": null,
   "metadata": {},
   "outputs": [],
   "source": []
  },
  {
   "cell_type": "code",
   "execution_count": 280,
   "metadata": {},
   "outputs": [
    {
     "name": "stderr",
     "output_type": "stream",
     "text": [
      "2024-09-26 11:05:19,769 - thermomodel_Recon3thermoCurated - INFO - Beginning variability analysis for variable of type reactions\n",
      "minimizing: 100%|██████████| 78/78 [00:00<00:00, 1463.50it/s]\n",
      "maximizing: 100%|██████████| 78/78 [00:00<00:00, 2317.23it/s]\n"
     ]
    },
    {
     "data": {
      "image/png": "[encoded data removed]",
      "text/plain": [
       "<Figure size 1500x500 with 1 Axes>"
      ]
     },
     "metadata": {},
     "output_type": "display_data"
    }
   ],
   "source": [
    "# Run and plot the flux variablity analysis\n",
    "FVA = variability_analysis(continuous_model, kind='reactions')\n",
    "\n",
    "# Plot the fluxes as bars starting at min and ending at max\n",
    "plt.figure(figsize=(15, 5))\n",
    "FVA['range'] = FVA.maximum - FVA.minimum\n",
    "FVA['mid'] = (FVA.maximum + FVA.minimum) / 2\n",
    "\n",
    "plt.bar(FVA.index, FVA.range, bottom=FVA.minimum)\n",
    "plt.scatter(FVA.index, FVA.mid, color='k', s=10)\n",
    "plt.xticks(np.arange(len(FVA.index)), FVA.index, rotation=90)\n",
    "\n",
    "plt.tight_layout()\n",
    "\n",
    "fed_fluxes = FVA['mid']"
   ]
  },
  {
   "cell_type": "code",
   "execution_count": 281,
   "metadata": {},
   "outputs": [],
   "source": [
    "# Save the two mid flux profiles to a file\n",
    "import pandas as pd \n",
    "df = pd.DataFrame([fasted_fluxes, fed_fluxes], index=['fasted','fed']).T\n",
    "df.to_csv(redgem_file_name.replace('.json','_char_flux_profiles.csv'))"
   ]
  },
  {
   "cell_type": "code",
   "execution_count": 282,
   "metadata": {},
   "outputs": [
    {
     "data": {
      "text/plain": [
       "Text(0.5, 1.0, 'RER fasted: 0.80')"
      ]
     },
     "execution_count": 282,
     "metadata": {},
     "output_type": "execute_result"
    },
    {
     "data": {
      "image/png": "[encoded data removed]",
      "text/plain": [
       "<Figure size 640x480 with 2 Axes>"
      ]
     },
     "metadata": {},
     "output_type": "display_data"
    }
   ],
   "source": [
    "# Compute the mean carbon flux from fed fed state predition \n",
    "\n",
    "mean_carbon_flux_fed = df.loc[:,'fed'].loc[rows].abs() * carbons\n",
    "mean_carbon_flux_fasted = df.loc[:,'fasted'].loc[rows].abs() * carbons\n",
    "\n",
    "\n",
    "# Add a column that accounts for 25% of the total flux and label it as 'other'\n",
    "mean_carbon_flux_fed['other'] = mean_carbon_flux_fed.sum() * (1/0.80 - 1)\n",
    "mean_carbon_flux_fasted['other'] = mean_carbon_flux_fasted.sum() * (1/0.80 - 1)\n",
    "\n",
    "# A pie chart shoeing the distribution of the mean carbon flux:\n",
    "fig, ax = plt.subplots(1,2)\n",
    "mean_carbon_flux_fed.plot.pie(ax=ax[0], subplots=True, figsize=(5,5), autopct='%1.1f%%', startangle=90)\n",
    "mean_carbon_flux_fasted.plot.pie(ax=ax[1], subplots=True, figsize=(5,5), autopct='%1.1f%%', startangle=90)\n",
    "\n",
    "rer_fed = - df.loc['EX_co2_e','fed'] / df.loc['EX_o2_e','fed']\n",
    "rer_fasted = - df.loc['EX_co2_e','fasted'] / df.loc['EX_o2_e','fasted']\n",
    "\n",
    "# Note that this RER is based on 80% oxygen consumptuion\n",
    "ax[0].set_title(f\"RER fed: {rer_fed:.2f}\")\n",
    "ax[1].set_title(f\"RER fasted: {rer_fasted:.2f}\")"
   ]
  },
  {
   "cell_type": "code",
   "execution_count": 283,
   "metadata": {},
   "outputs": [],
   "source": [
    "rer_fed = - df.loc['EX_co2_e','fed'] / df.loc['EX_o2_e','fed']"
   ]
  },
  {
   "cell_type": "markdown",
   "metadata": {},
   "source": []
  },
  {
   "cell_type": "markdown",
   "metadata": {},
   "source": [
    "#### Sanity Checks on electron transports delta Gs"
   ]
  },
  {
   "cell_type": "code",
   "execution_count": 284,
   "metadata": {},
   "outputs": [
    {
     "data": {
      "text/plain": [
       "-0.3165590506296296"
      ]
     },
     "execution_count": 284,
     "metadata": {},
     "output_type": "execute_result"
    }
   ],
   "source": [
    "# Compute the redox potential of the NADH/NAD+ couple in the model\n",
    "# NAD+ + H+ + 2e- ->  NADH\n",
    "dG = continuous_model.metabolites.nad_c.thermo['deltaGf_std'] + continuous_model.metabolites.h_c.thermo['deltaGf_std'] - continuous_model.metabolites.nadh_c.thermo['deltaGf_std']\n",
    "# Convert to V\n",
    "# ΔG=−nFE \n",
    "# 1kcal = 4.184e3 J\n",
    "F = 96485/4.184e3\n",
    "n = 2\n",
    "\n",
    "E = dG / (n * F)\n",
    "E"
   ]
  },
  {
   "cell_type": "code",
   "execution_count": 285,
   "metadata": {},
   "outputs": [
    {
     "data": {
      "text/plain": [
       "-0.19426133595895678"
      ]
     },
     "execution_count": 285,
     "metadata": {},
     "output_type": "execute_result"
    }
   ],
   "source": [
    "# Compute the redox potential of the NADH/NAD+ couple in the model\n",
    "# FAD + 2H+ + 2e- -> FADH2 (currently FAD is deprotonated so missing an H+)\n",
    "dG = continuous_model.metabolites.fad_m.thermo['deltaGf_std'] + 3*continuous_model.metabolites.h_m.thermo['deltaGf_std'] - continuous_model.metabolites.fadh2_m.thermo['deltaGf_std']\n",
    "# Convert to V\n",
    "# ΔG=−nFE \n",
    "# 1kcal = 4.184e3 J\n",
    "F = 96485/4.184e3\n",
    "n = 2\n",
    "\n",
    "E = dG / (n * F)\n",
    "E"
   ]
  },
  {
   "cell_type": "code",
   "execution_count": 286,
   "metadata": {},
   "outputs": [
    {
     "data": {
      "text/plain": [
       "0.12499999999999999"
      ]
     },
     "execution_count": 286,
     "metadata": {},
     "output_type": "execute_result"
    }
   ],
   "source": [
    "# Compute the redox potential of the Cytochrome couple in the model\n",
    "# cyt c (Fe3+) + e- -> cyt c (Fe2+)\n",
    "dG = continuous_model.metabolites.ficytC_m.thermo['deltaGf_std']  - continuous_model.metabolites.focytC_m.thermo['deltaGf_std']\n",
    "# Convert to V\n",
    "# ΔG=−nFE \n",
    "# 1kcal = 4.184e3 J\n",
    "F = 96485/4.184e3\n",
    "n = 2\n",
    "\n",
    "E = dG / (n * F)\n",
    "E"
   ]
  },
  {
   "cell_type": "code",
   "execution_count": 287,
   "metadata": {},
   "outputs": [
    {
     "data": {
      "text/plain": [
       "0.05724081463439945"
      ]
     },
     "execution_count": 287,
     "metadata": {},
     "output_type": "execute_result"
    }
   ],
   "source": [
    "# Compute the redox potential of the Q10/Q10H2 couple in the model\n",
    "# Q10 + 2H+ + 2e- -> Q10H2 \n",
    "dG = continuous_model.metabolites.q10_m.thermo['deltaGf_std'] + 2*continuous_model.metabolites.h_m.thermo['deltaGf_std'] - continuous_model.metabolites.q10h2_m.thermo['deltaGf_std']\n",
    "# Convert to V\n",
    "# ΔG=−nFE \n",
    "# 1kcal = 4.184e3 J\n",
    "F = 96485/4.184e3\n",
    "n = 2\n",
    "\n",
    "E = dG / (n * F)\n",
    "E"
   ]
  },
  {
   "cell_type": "code",
   "execution_count": null,
   "metadata": {},
   "outputs": [],
   "source": []
  },
  {
   "cell_type": "code",
   "execution_count": null,
   "metadata": {},
   "outputs": [],
   "source": []
  },
  {
   "cell_type": "code",
   "execution_count": null,
   "metadata": {},
   "outputs": [],
   "source": []
  },
  {
   "cell_type": "code",
   "execution_count": null,
   "metadata": {},
   "outputs": [],
   "source": []
  },
  {
   "cell_type": "code",
   "execution_count": null,
   "metadata": {},
   "outputs": [],
   "source": []
  }
 ],
 "metadata": {
  "kernelspec": {
   "display_name": ".venv",
   "language": "python",
   "name": "python3"
  },
  "language_info": {
   "codemirror_mode": {
    "name": "ipython",
    "version": 3
   },
   "file_extension": ".py",
   "mimetype": "text/x-python",
   "name": "python",
   "nbconvert_exporter": "python",
   "pygments_lexer": "ipython3",
   "version": "3.8.19"
  }
 },
 "nbformat": 4,
 "nbformat_minor": 2
}
