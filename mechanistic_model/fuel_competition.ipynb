{
 "cells": [
  {
   "cell_type": "code",
   "execution_count": 1,
   "metadata": {},
   "outputs": [
    {
     "name": "stderr",
     "output_type": "stream",
     "text": [
      "2024-09-05 10:09:30,375 - thermomodel_Recon3thermoCurated - continuous - INFO - # Model initialized with units kcal/mol and temperature 298.15 K\n"
     ]
    }
   ],
   "source": [
    "# Load the tfa model \n",
    "from pytfa.io.json import load_json_model\n",
    "model_file = 'reduced_model_ETC_core_20240816-155234_continuous.json'\n",
    "tmodel = load_json_model(model_file)\n",
    "#sol = tmodel.optimize()"
   ]
  },
  {
   "cell_type": "code",
   "execution_count": 2,
   "metadata": {},
   "outputs": [],
   "source": [
    "# Reload and prepare the model\n",
    "from skimpy.io.yaml import load_yaml_model\n",
    "from skimpy.utils.tabdict import TabDict\n",
    "\n",
    "kmodel = load_yaml_model(model_file.replace(\"_continuous.json\", \"_kinetic_curated.yml\"))\n",
    "\n",
    "# We calculate control coeffcients with respect\n",
    "#  to enzyme activity and boundary concentrations\n",
    "parameter_list = TabDict([(k, p.symbol) for k, p in kmodel.parameters.items() if p.name.startswith('vmax_forward')])\n",
    "boundary_parameters = TabDict([(c.reactant.name, c.reactant.symbol) for c in kmodel.boundary_conditions.values()])\n",
    "parameter_list.update(boundary_parameters)\n",
    "\n",
    "# Compile the jacobian expressions\n",
    "NCPU = 12\n",
    "kmodel.prepare()\n",
    "kmodel.compile_mca(ncpu=NCPU, parameter_list=parameter_list)"
   ]
  },
  {
   "cell_type": "code",
   "execution_count": 3,
   "metadata": {},
   "outputs": [],
   "source": [
    "# Load TFA samples \n",
    "import pandas as pd\n",
    "tfa_sample_file = 'reduced_model_ETC_core_20240816-155234_tfa_sampling.csv'\n",
    "tfa_samples = pd.read_csv(tfa_sample_file)"
   ]
  },
  {
   "cell_type": "code",
   "execution_count": 4,
   "metadata": {},
   "outputs": [],
   "source": [
    "# Load parameter samples \n",
    "from skimpy.core.parameters import load_parameter_population\n",
    "parameter_population = load_parameter_population(tfa_sample_file.replace(\".csv\",'_pruned_parameters.hdf5'))"
   ]
  },
  {
   "cell_type": "code",
   "execution_count": 5,
   "metadata": {},
   "outputs": [],
   "source": [
    "# Scaling parameters\n",
    "CONCENTRATION_SCALING = 1e3 # 1 mol to 1 umol\n",
    "TIME_SCALING = 1 # 1min\n",
    "DENSITY = 1200 # g/L \n",
    "GDW_GWW_RATIO = 1.0 # Fluxes are in gWW"
   ]
  },
  {
   "cell_type": "code",
   "execution_count": 6,
   "metadata": {},
   "outputs": [],
   "source": [
    "MIN_SELF_CONTROL = 0.1"
   ]
  },
  {
   "cell_type": "code",
   "execution_count": 7,
   "metadata": {},
   "outputs": [],
   "source": [
    "# Parameter selection \n",
    "from skimpy.analysis.oracle.load_pytfa_solution import load_fluxes, load_concentrations,\\\n",
    "    load_equilibrium_constants\n",
    "import numpy as np\n",
    "\n",
    "flux_controll_coefficients = []\n",
    "parameter_sample_ids = []\n",
    "\n",
    "for k in parameter_population._index:\n",
    "\n",
    "    parameter_values = parameter_population[k]\n",
    "\n",
    "    i = int(k.split(',')[0]) \n",
    "    ref_solution = tfa_samples.loc[i]\n",
    "\n",
    "\n",
    "    # Load fluxes and concentrations\n",
    "    fluxes = load_fluxes(ref_solution, tmodel, kmodel,\n",
    "                            density=DENSITY,\n",
    "                            ratio_gdw_gww=GDW_GWW_RATIO,\n",
    "                            concentration_scaling=CONCENTRATION_SCALING,\n",
    "                            time_scaling=TIME_SCALING)\n",
    "    \n",
    "    concentrations = load_concentrations(ref_solution, tmodel, kmodel,\n",
    "                                            concentration_scaling=CONCENTRATION_SCALING)\n",
    "    \n",
    "    this_fc = kmodel.flux_control_fun(fluxes,concentrations,[parameter_values, ])\n",
    "\n",
    "    # Prune for positive substrate control\n",
    "    medium_control = this_fc.slice_by('sample', 0).loc[['L_LACt2r','GLCt1r', 'FATP1t', 'BHBt'],\n",
    "                                                       ['lac_L_e', 'glc_D_e', 'hdca_e', 'bhb_e']]\n",
    "    diag_is_positive = np.all(np.diag(medium_control.values) > MIN_SELF_CONTROL)\n",
    "\n",
    "    if diag_is_positive:\n",
    "        flux_controll_coefficients.append(this_fc)\n",
    "        parameter_sample_ids.append(k)\n"
   ]
  },
  {
   "cell_type": "code",
   "execution_count": 8,
   "metadata": {},
   "outputs": [],
   "source": [
    "# Make a pruned parameter population\n",
    "from skimpy.core.parameters import ParameterValuePopulation\n",
    "parameter_population_pruned = [parameter_population[k] for k in parameter_sample_ids]\n",
    "parameter_population_pruned = ParameterValuePopulation(parameter_population_pruned, kmodel=kmodel, index=parameter_sample_ids)"
   ]
  },
  {
   "cell_type": "code",
   "execution_count": 9,
   "metadata": {},
   "outputs": [],
   "source": [
    "# Stack the results\n",
    "from skimpy.utils.tensor import Tensor\n",
    "import numpy as np\n",
    "# Concat the data\n",
    "data = np.concatenate([f._data for f in flux_controll_coefficients], axis=2)\n",
    "# Conver to tensor \n",
    "indexes = flux_controll_coefficients[0].indexes['flux'], flux_controll_coefficients[0].indexes['parameter'], pd.Index(parameter_sample_ids, name='samples')\n",
    "control_coefficients = Tensor(data, indexes )\n"
   ]
  },
  {
   "cell_type": "code",
   "execution_count": 10,
   "metadata": {},
   "outputs": [
    {
     "name": "stdout",
     "output_type": "stream",
     "text": [
      "160 models selectet which is  22.5% of all the models\n"
     ]
    }
   ],
   "source": [
    "print(f\"{len(parameter_sample_ids)} models selectet which is  {len(parameter_sample_ids) / len( parameter_population._data) * 100:.1f}% of all the models\")"
   ]
  },
  {
   "cell_type": "code",
   "execution_count": 11,
   "metadata": {},
   "outputs": [],
   "source": [
    "# Prepare the model to run an ODE simulaiton\n",
    "kmodel.compile_ode(ncpu=NCPU)"
   ]
  },
  {
   "cell_type": "code",
   "execution_count": 12,
   "metadata": {},
   "outputs": [],
   "source": [
    "# Build function to compute fluxes from concentrations\n",
    "from skimpy.analysis.ode.utils import make_flux_fun\n",
    "from skimpy.utils.namespace import QSSA\n",
    "\n",
    "flux_function = make_flux_fun(kmodel, QSSA)"
   ]
  },
  {
   "cell_type": "code",
   "execution_count": 13,
   "metadata": {},
   "outputs": [],
   "source": [
    "from skimpy.core.parameters import ParameterValues\n",
    "from tqdm import tqdm\n",
    "\n",
    "# Function for population analysis\n",
    "\n",
    "def steady_state_perturbation(parameter, range=np.logspace(-1,1,51,base=2) , \n",
    "                            additional_parameter_changes={},\n",
    "                            time = [0,10], # 1uhr to 10hr\n",
    "                            parameter_population=parameter_population_pruned, \n",
    "                            kmodel=kmodel, \n",
    "                            flux_function=flux_function,\n",
    "                            tfa_samples=tfa_samples, \n",
    "                            end_ix=-1\n",
    "                            ):\n",
    "    \n",
    "    # List of dataframes\n",
    "    results = []\n",
    "\n",
    "    # Run the perturbation for each parameterset\n",
    "    parameter_population_index = list(parameter_population._index.keys())\n",
    "    for parameter_set_id in tqdm(parameter_population_index[:end_ix]):\n",
    "\n",
    "        # This will be a list of dataframes\n",
    "        this_results = []\n",
    "\n",
    "        thermo_index = int(parameter_set_id.split(',')[0])\n",
    "        thermo_sample = tfa_samples.loc[thermo_index]\n",
    "\n",
    "        concentrations = load_concentrations(thermo_sample, tmodel, kmodel, \n",
    "                                            concentration_scaling=CONCENTRATION_SCALING)\n",
    "\n",
    "        for k in kmodel.initial_conditions:\n",
    "                kmodel.initial_conditions[k] = concentrations[k]\n",
    "\n",
    "        # Load the parameter values \n",
    "        kmodel.parameters = parameter_population[parameter_set_id]\n",
    "\n",
    "        # Integrate additional parameters changes (fold changes)\n",
    "        for k, v in additional_parameter_changes.items():\n",
    "            kmodel.parameters[k].value = kmodel.parameters[k].value * v\n",
    "\n",
    "        # Perturb the main parameter\n",
    "        p0 = kmodel.parameters[parameter].value\n",
    "        \n",
    "        for perturbation_value in range:\n",
    "            kmodel.parameters[parameter].value = perturbation_value * p0\n",
    "            # Dynamic solution            \n",
    "            sol = kmodel.solve_ode(time, solver_type='cvode' , max_steps=1e9,)\n",
    "            # Get steady state concentrations\n",
    "            steady_state_concentrations = sol.concentrations.iloc[-1]\n",
    "\n",
    "            # Compute the fluxes at steady state\n",
    "            # Get parameters value set \n",
    "            parameter_values = {p.symbol:p.value for p in kmodel.parameters.values()}\n",
    "            parameter_values = ParameterValues(parameter_values, kmodel)\n",
    "\n",
    "            steady_state_fluxes = pd.Series(flux_function(steady_state_concentrations, parameters=parameter_values), \n",
    "                                            index=kmodel.reactions.keys())\n",
    "            \n",
    "            # Add the results to a dataframe \n",
    "            steady_state_output = pd.concat([steady_state_concentrations, steady_state_fluxes])\n",
    "            # Add metadata \n",
    "            steady_state_output['pertubration'] = perturbation_value\n",
    "            steady_state_output['parameter_set'] = parameter_set_id\n",
    "            steady_state_output['parameter'] = parameter    \n",
    "            steady_state_output['aditional_parameters'] = [f'{k}:{v:.1f}' for k,v in additional_parameter_changes.items()]\n",
    "\n",
    "            this_results.append(steady_state_output)\n",
    "\n",
    "        # Concatenate the results\n",
    "        this_results = pd.concat(this_results, axis=1).T\n",
    "        results.append(this_results)\n",
    "\n",
    "    # Concatenate the results\n",
    "    results = pd.concat(results)\n",
    "    return results\n"
   ]
  },
  {
   "cell_type": "code",
   "execution_count": 14,
   "metadata": {},
   "outputs": [
    {
     "name": "stderr",
     "output_type": "stream",
     "text": [
      " 42%|████▏     | 21/50 [01:19<01:47,  3.71s/it]"
     ]
    }
   ],
   "source": [
    "# Compute perturbations for each fuel concentration\n",
    "parameters = ['lac_L_e', 'glc_D_e', 'hdca_e', 'bhb_e']\n",
    "results = [steady_state_perturbation(p, end_ix=50) for p in parameters]\n",
    "results = pd.concat(results)"
   ]
  },
  {
   "cell_type": "code",
   "execution_count": null,
   "metadata": {},
   "outputs": [],
   "source": [
    "# Save the results\n",
    "name = model_file.replace('.json', '')\n",
    "results.to_csv(f'output/{name}_steady_state_perturbation.csv')"
   ]
  },
  {
   "cell_type": "code",
   "execution_count": null,
   "metadata": {},
   "outputs": [],
   "source": [
    "uptake_fluxes = ['L_LACt2r','GLCt1r', 'FATP1t', 'BHBt']"
   ]
  },
  {
   "cell_type": "code",
   "execution_count": null,
   "metadata": {},
   "outputs": [
    {
     "data": {
      "image/png": "[encoded data removed]",
      "text/plain": [
       "<Figure size 640x480 with 1 Axes>"
      ]
     },
     "metadata": {},
     "output_type": "display_data"
    }
   ],
   "source": [
    "import matplotlib.pyplot as plt\n",
    "import seaborn as sns \n",
    "# Plot the results as line plot \n",
    "sns.lineplot(data=results, x='pertubration', y='BHBt', hue='parameter')\n",
    "plt.xscale('log', base=2)\n"
   ]
  },
  {
   "cell_type": "code",
   "execution_count": null,
   "metadata": {},
   "outputs": [],
   "source": []
  },
  {
   "cell_type": "code",
   "execution_count": null,
   "metadata": {},
   "outputs": [],
   "source": []
  }
 ],
 "metadata": {
  "kernelspec": {
   "display_name": "skimpy-env",
   "language": "python",
   "name": "python3"
  },
  "language_info": {
   "codemirror_mode": {
    "name": "ipython",
    "version": 3
   },
   "file_extension": ".py",
   "mimetype": "text/x-python",
   "name": "python",
   "nbconvert_exporter": "python",
   "pygments_lexer": "ipython3",
   "version": "3.8.13"
  }
 },
 "nbformat": 4,
 "nbformat_minor": 2
}
