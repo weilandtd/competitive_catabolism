{
 "cells": [
  {
   "cell_type": "code",
   "execution_count": 1,
   "metadata": {},
   "outputs": [
    {
     "name": "stderr",
     "output_type": "stream",
     "text": [
      "2025-02-22 09:17:32,584 - thermomodel_Recon3thermoCurated - continuous - INFO - # Model initialized with units kcal/mol and temperature 298.15 K\n"
     ]
    }
   ],
   "source": [
    "# Load the tfa model \n",
    "from pytfa.io.json import load_json_model\n",
    "model_file = 'reduced_model_ETC_core_20240816-155234_continuous.json'\n",
    "tmodel = load_json_model(model_file)\n",
    "#sol = tmodel.optimize()"
   ]
  },
  {
   "cell_type": "code",
   "execution_count": 2,
   "metadata": {},
   "outputs": [],
   "source": [
    "# Reload and prepare the model\n",
    "from skimpy.io.yaml import load_yaml_model\n",
    "from skimpy.utils.tabdict import TabDict\n",
    "\n",
    "kmodel = load_yaml_model(model_file.replace(\"_continuous.json\", \"_kinetic_curated.yml\"))\n",
    "\n",
    "\n",
    "# Compile the ode expressions\n",
    "NCPU = 12\n",
    "kmodel.prepare()\n",
    "kmodel.compile_ode(ncpu=NCPU)"
   ]
  },
  {
   "cell_type": "code",
   "execution_count": 3,
   "metadata": {},
   "outputs": [],
   "source": [
    "# Scaling parameters\n",
    "CONCENTRATION_SCALING = 1e3 # 1 mol to 1 mmol\n",
    "TIME_SCALING = 1 # 1min\n",
    "DENSITY = 1200 # g/L \n",
    "GDW_GWW_RATIO = 1.0 # Fluxes are in gWW\n",
    "\n",
    "# To test how close to zero the dxdt is\n",
    "flux_scaling_factor = 1e-6 / (GDW_GWW_RATIO / DENSITY) \\\n",
    "                        * CONCENTRATION_SCALING \\\n",
    "                        / TIME_SCALING"
   ]
  },
  {
   "cell_type": "code",
   "execution_count": 4,
   "metadata": {},
   "outputs": [],
   "source": [
    "# Load TFA samples \n",
    "import pandas as pd\n",
    "import numpy as np\n",
    "tfa_sample_file = 'reduced_model_ETC_core_20240816-155234_tfa_sampling.csv'\n",
    "tfa_samples = pd.read_csv(tfa_sample_file)\n",
    "\n",
    "# Add additional fluxes and concentration to model insulin turnover\n",
    "# Turnover of inusnlin is about 5 min \n",
    "\n",
    "tfa_samples['Insulin_secretion'] = 1/5 / flux_scaling_factor\n",
    "tfa_samples['Insulin_degradation'] = 1/5 / flux_scaling_factor\n",
    "tfa_samples['insulin_e'] = 1e-3 \n",
    "\n",
    "tfa_samples['Stimulation_on'] = 1 / flux_scaling_factor\n",
    "tfa_samples['Stimulation_off'] = 1 / flux_scaling_factor\n",
    "tfa_samples['stim_e'] = 1e-3\n",
    "\n",
    "\n",
    "\n",
    "additional_fluxes = ['Insulin_secretion', 'Insulin_degradation', 'Stimulation_on', 'Stimulation_off',]\n",
    "additional_concentrations = ['insulin_e', 'stim_e', ]\n",
    "\n"
   ]
  },
  {
   "cell_type": "code",
   "execution_count": 5,
   "metadata": {},
   "outputs": [],
   "source": [
    "# Load only the robust parameters samples\n",
    "from skimpy.core.parameters import load_parameter_population\n",
    "parameter_population = load_parameter_population(tfa_sample_file.replace(\".csv\",'_robust_parameters.hdf5'))"
   ]
  },
  {
   "cell_type": "code",
   "execution_count": 6,
   "metadata": {},
   "outputs": [],
   "source": [
    "# Build function to compute fluxes from concentrations\n",
    "from skimpy.analysis.ode.utils import make_flux_fun\n",
    "from skimpy.utils.namespace import QSSA\n",
    "\n",
    "flux_function = make_flux_fun(kmodel, QSSA)"
   ]
  },
  {
   "cell_type": "code",
   "execution_count": null,
   "metadata": {},
   "outputs": [],
   "source": []
  },
  {
   "cell_type": "code",
   "execution_count": 7,
   "metadata": {},
   "outputs": [],
   "source": [
    "from skimpy.core.parameters import ParameterValues\n",
    "from skimpy.analysis.oracle import load_concentrations\n",
    "\n",
    "from tqdm import tqdm\n",
    "\n",
    "# Function for population analysis\n",
    "def steady_state_perturbation(parameter, range=np.logspace(-1,1,51,base=10) , \n",
    "                            additional_parameter_changes={},\n",
    "                            time = [0,500], # 1000 min to make sure to reach steady state\n",
    "                            parameter_population=parameter_population, \n",
    "                            kmodel=kmodel, \n",
    "                            flux_function=flux_function,\n",
    "                            tfa_samples=tfa_samples, \n",
    "                            end_ix=-1,\n",
    "                            ):\n",
    "    \n",
    "    # List of dataframes\n",
    "    results = []\n",
    "\n",
    "    # Run the perturbation for each parameterset\n",
    "    parameter_population_index = list(parameter_population._index.keys())\n",
    "    for parameter_set_id in tqdm(parameter_population_index[:end_ix]):\n",
    "\n",
    "        # This will be a list of dataframes\n",
    "        this_results = []\n",
    "\n",
    "        thermo_index = int(parameter_set_id.split(',')[0])\n",
    "        thermo_sample = tfa_samples.loc[thermo_index]\n",
    "\n",
    "        concentrations = load_concentrations(thermo_sample, tmodel, kmodel, \n",
    "                                            concentration_scaling=CONCENTRATION_SCALING,\n",
    "                                            additional_concentrations=additional_concentrations)\n",
    "\n",
    "        for k in kmodel.initial_conditions:\n",
    "                kmodel.initial_conditions[k] = concentrations[k]\n",
    "\n",
    "        # Load the parameter values \n",
    "        kmodel.parameters = parameter_population[parameter_set_id]\n",
    "\n",
    "        # Integrate additional parameters changes (fold changes)\n",
    "        for k, v in additional_parameter_changes.items():\n",
    "            kmodel.parameters[k].value = kmodel.parameters[k].value * v\n",
    "\n",
    "        # Perturb the main parameter\n",
    "        p0 = kmodel.parameters[parameter].value\n",
    "        \n",
    "        for perturbation_value in range:\n",
    "            kmodel.parameters[parameter].value = perturbation_value * p0\n",
    "            # Dynamic solution            \n",
    "            sol = kmodel.solve_ode(time, solver_type='cvode' , max_steps=1e9, rtol=1e-6)\n",
    "            # Get steady state concentrations\n",
    "            steady_state_concentrations = sol.concentrations.iloc[-1]\n",
    "\n",
    "            # Compute the fluxes at steady state\n",
    "            # Get parameters value set \n",
    "            parameter_values = {p.symbol:p.value for p in kmodel.parameters.values()}\n",
    "            parameter_values = ParameterValues(parameter_values, kmodel)\n",
    "\n",
    "            steady_state_fluxes = pd.Series(flux_function(steady_state_concentrations, parameters=parameter_values), \n",
    "                                            index=kmodel.reactions.keys())\n",
    "            \n",
    "            # Add the results to a dataframe \n",
    "            steady_state_output = pd.concat([steady_state_concentrations, steady_state_fluxes])\n",
    "            # Add metadata \n",
    "            steady_state_output['pertubration'] = perturbation_value\n",
    "            steady_state_output['parameter_set'] = parameter_set_id\n",
    "            steady_state_output['parameter'] = parameter    \n",
    "            steady_state_output['aditional_parameters'] = [f'{k}:{v:.1f}' for k,v in additional_parameter_changes.items()]\n",
    "\n",
    "            this_results.append(steady_state_output)\n",
    "\n",
    "        # Concatenate the results\n",
    "        this_results = pd.concat(this_results, axis=1).T\n",
    "\n",
    "        results.append(this_results)\n",
    "    \n",
    "\n",
    "    # Concatenate the results\n",
    "    results = pd.concat(results)\n",
    "\n",
    "    return results\n"
   ]
  },
  {
   "cell_type": "code",
   "execution_count": 8,
   "metadata": {},
   "outputs": [],
   "source": [
    "# Checkpoint -2  - import robust parameters population \n",
    "from skimpy.core.parameters import load_parameter_population\n",
    "parameter_population_robust= load_parameter_population(tfa_sample_file.replace(\".csv\",'_robust_parameters.hdf5'))"
   ]
  },
  {
   "cell_type": "code",
   "execution_count": 9,
   "metadata": {},
   "outputs": [
    {
     "name": "stderr",
     "output_type": "stream",
     "text": [
      "100%|██████████| 409/409 [14:14<00:00,  2.09s/it]\n",
      "100%|██████████| 409/409 [08:30<00:00,  1.25s/it]\n",
      "100%|██████████| 409/409 [13:30<00:00,  1.98s/it]\n",
      "100%|██████████| 409/409 [14:32<00:00,  2.13s/it]\n"
     ]
    }
   ],
   "source": [
    "# Checkpint 1 - Simulate the steady state perturbations for 5 fold changes in fuel availability and atp requirement\n",
    "# This will take a while\n",
    "\n",
    "parameters = [ 'lac_L_e', 'glc_D_e', 'hdca_e', 'bhb_e', ]\n",
    "results = [steady_state_perturbation(p, parameter_population=parameter_population_robust) \n",
    "                                     for p in parameters]\n",
    "results = pd.concat(results)\n",
    "\n",
    " # Save the results\n",
    "name = model_file.replace('.json', '')\n",
    "results.to_csv(f'output/{name}_steady_state_fuel_competition_10_fold.csv')\n"
   ]
  },
  {
   "cell_type": "code",
   "execution_count": 10,
   "metadata": {},
   "outputs": [
    {
     "name": "stderr",
     "output_type": "stream",
     "text": [
      "100%|██████████| 409/409 [15:54<00:00,  2.33s/it]\n",
      "100%|██████████| 409/409 [11:51<00:00,  1.74s/it]\n",
      "100%|██████████| 409/409 [14:55<00:00,  2.19s/it]\n",
      "100%|██████████| 409/409 [16:42<00:00,  2.45s/it]\n"
     ]
    }
   ],
   "source": [
    "# Fed levels of insulin\n",
    "# Compute perturbations for each fuel concentration\n",
    "parameters = ['lac_L_e', 'glc_D_e', 'hdca_e', 'bhb_e']\n",
    "model_fed_insulin = {'vmax_forward_Insulin_secretion': 10 , }\n",
    "\n",
    "results_insulin = [steady_state_perturbation(p, additional_parameter_changes=model_fed_insulin, \n",
    "                                             parameter_population=parameter_population_robust) \n",
    "                                             for p in parameters]\n",
    "results_insulin = pd.concat(results_insulin)"
   ]
  },
  {
   "cell_type": "code",
   "execution_count": 11,
   "metadata": {},
   "outputs": [],
   "source": [
    "# Save the results\n",
    "name = model_file.replace('.json', '')\n",
    "results_insulin.to_csv(f'output/{name}_steady_state_fuel_competition_10_fold_fed_insulin.csv')"
   ]
  },
  {
   "cell_type": "code",
   "execution_count": null,
   "metadata": {},
   "outputs": [],
   "source": []
  }
 ],
 "metadata": {
  "kernelspec": {
   "display_name": "skimpy-env",
   "language": "python",
   "name": "python3"
  },
  "language_info": {
   "codemirror_mode": {
    "name": "ipython",
    "version": 3
   },
   "file_extension": ".py",
   "mimetype": "text/x-python",
   "name": "python",
   "nbconvert_exporter": "python",
   "pygments_lexer": "ipython3",
   "version": "3.8.19"
  }
 },
 "nbformat": 4,
 "nbformat_minor": 2
}
